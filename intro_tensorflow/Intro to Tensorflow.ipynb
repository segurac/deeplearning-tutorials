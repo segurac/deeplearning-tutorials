{
 "cells": [
  {
   "cell_type": "markdown",
   "metadata": {
    "deletable": true,
    "editable": true,
    "slideshow": {
     "slide_type": "slide"
    }
   },
   "source": [
    "# Introduction to Deep Learning with Tensorflow\n",
    "<br><br><br>\n",
    "\n",
    "##  Carlos Segura \n",
    "<b>\n",
    "## Associate Researcher @ TID"
   ]
  },
  {
   "cell_type": "markdown",
   "metadata": {
    "deletable": true,
    "editable": true,
    "slideshow": {
     "slide_type": "slide"
    }
   },
   "source": [
    "# What is Tensorflow?"
   ]
  },
  {
   "cell_type": "markdown",
   "metadata": {
    "deletable": true,
    "editable": true,
    "slideshow": {
     "slide_type": "fragment"
    }
   },
   "source": [
    "* TensorFlow is a deep learning library\n",
    "     * open-sourced by Google.\n",
    "* TensorFlow provides primitives for\n",
    "defining functions on tensors and\n",
    "automatically computing their derivatives.\n",
    "\n",
    "* Python library that can work with symbolic mathematical expressions\n",
    "    * *Symbolic differentation*: symbolic graphs for computing gradients\n",
    "* Optimized for multi-dimensional arrays, like numpy.ndarray\n",
    "    * Tensors\n",
    "* Same code can work in CPU or GPU"
   ]
  },
  {
   "cell_type": "markdown",
   "metadata": {
    "deletable": true,
    "editable": true,
    "slideshow": {
     "slide_type": "slide"
    }
   },
   "source": [
    "### Installing Tensorflow\n",
    "* Requirements\n",
    "    * OS: Linux, Mac OS X, Windows\n",
    "    * Python: >= 2.7 || >= 3.5\n",
    "* pip install tensorflow [tensorflow-gpu]\n",
    "\n",
    "### For running this tutorial:\n",
    "* pip install tensorflow notebook matplotlib RISE\n",
    "* jupyter-nbextension install rise --py --sys-prefix\n",
    "* jupyter-nbextension enable rise --py --sys-prefix\n",
    " "
   ]
  },
  {
   "cell_type": "markdown",
   "metadata": {
    "deletable": true,
    "editable": true,
    "slideshow": {
     "slide_type": "slide"
    }
   },
   "source": [
    "## Basic usage:\n",
    "\n",
    "* Represent computations as graphs\n",
    "* Execute graphs in the context of sessions\n",
    "* Represent data as tensors\n",
    "* Maintain state with Variables\n",
    "* Use feeds and fetches to get data in and out of graph executions"
   ]
  },
  {
   "cell_type": "markdown",
   "metadata": {
    "deletable": true,
    "editable": true,
    "slideshow": {
     "slide_type": "slide"
    }
   },
   "source": [
    "## Tensorflow graphs"
   ]
  },
  {
   "cell_type": "code",
   "execution_count": 1,
   "metadata": {
    "collapsed": false,
    "deletable": true,
    "editable": true,
    "slideshow": {
     "slide_type": "fragment"
    }
   },
   "outputs": [],
   "source": [
    "## Graphs\n",
    "import tensorflow as tf\n",
    "\n",
    "# Create a Constant op that produces a 1x2 matrix.  The op is\n",
    "# added as a node to the default graph.\n",
    "#\n",
    "# The value returned by the constructor represents the output\n",
    "# of the Constant op.\n",
    "matrix1 = tf.constant([[3., 3.]])\n",
    "\n",
    "# Create another Constant that produces a 2x1 matrix.\n",
    "matrix2 = tf.constant([[2.],[2.]])\n",
    "\n",
    "# Create a Matmul op that takes 'matrix1' and 'matrix2' as inputs.\n",
    "# The returned value, 'product', represents the result of the matrix\n",
    "# multiplication.\n",
    "product = tf.matmul(matrix1, matrix2)"
   ]
  },
  {
   "cell_type": "markdown",
   "metadata": {
    "deletable": true,
    "editable": true,
    "slideshow": {
     "slide_type": "slide"
    }
   },
   "source": [
    "## Execute graphs in the context of sessions"
   ]
  },
  {
   "cell_type": "code",
   "execution_count": 2,
   "metadata": {
    "collapsed": false,
    "deletable": true,
    "editable": true,
    "slideshow": {
     "slide_type": "fragment"
    }
   },
   "outputs": [
    {
     "name": "stdout",
     "output_type": "stream",
     "text": [
      "[[ 12.]]\n"
     ]
    }
   ],
   "source": [
    "#To actually multiply the matrices, and get the result of the multiplication, you must launch the graph in a session.\n",
    "# Launch the default graph.\n",
    "sess = tf.Session()\n",
    "\n",
    "# To run the matmul op we call the session 'run()' method, passing 'product'\n",
    "# which represents the output of the matmul op.  This indicates to the call\n",
    "# that we want to get the output of the matmul op back.\n",
    "#\n",
    "# All inputs needed by the op are run automatically by the session.  They\n",
    "# typically are run in parallel.\n",
    "#\n",
    "# The call 'run(product)' thus causes the execution of three ops in the\n",
    "# graph: the two constants and matmul.\n",
    "#\n",
    "# The output of the op is returned in 'result' as a numpy `ndarray` object.\n",
    "result = sess.run(product)\n",
    "print(result)\n",
    "# ==> [[ 12.]]\n",
    "\n",
    "# Close the Session when we're done.\n",
    "sess.close()"
   ]
  },
  {
   "cell_type": "code",
   "execution_count": 3,
   "metadata": {
    "collapsed": false,
    "deletable": true,
    "editable": true,
    "slideshow": {
     "slide_type": "subslide"
    }
   },
   "outputs": [
    {
     "name": "stdout",
     "output_type": "stream",
     "text": [
      "[array([[ 12.]], dtype=float32)]\n"
     ]
    }
   ],
   "source": [
    "# Sessions should be closed to release resources.\n",
    "# You can also enter a Session with a \"with\" block. \n",
    "# The Session closes automatically at the end of the with block.\n",
    "\n",
    "\n",
    "with tf.Session() as sess:\n",
    "  result = sess.run([product])\n",
    "  print(result)"
   ]
  },
  {
   "cell_type": "code",
   "execution_count": 8,
   "metadata": {
    "collapsed": true,
    "deletable": true,
    "editable": true,
    "slideshow": {
     "slide_type": "fragment"
    }
   },
   "outputs": [],
   "source": [
    "#\n",
    "with tf.Session() as sess:\n",
    "  with tf.device(\"/cpu:0\"): #/cpu:0 /gpu:0 /gpu:1 /gpu:2\n",
    "    matrix1 = tf.constant([[3., 3.]])\n",
    "    matrix2 = tf.constant([[2.],[2.]])\n",
    "    product = tf.matmul(matrix1, matrix2)"
   ]
  },
  {
   "cell_type": "markdown",
   "metadata": {
    "deletable": true,
    "editable": true,
    "slideshow": {
     "slide_type": "slide"
    }
   },
   "source": [
    "## Maintain state with Variables"
   ]
  },
  {
   "cell_type": "code",
   "execution_count": 4,
   "metadata": {
    "collapsed": false,
    "deletable": true,
    "editable": true,
    "slideshow": {
     "slide_type": "fragment"
    }
   },
   "outputs": [
    {
     "name": "stdout",
     "output_type": "stream",
     "text": [
      "0\n",
      "1\n",
      "2\n",
      "3\n"
     ]
    }
   ],
   "source": [
    "# Create a Variable, that will be initialized to the scalar value 0.\n",
    "state = tf.Variable(0, name=\"counter\")\n",
    "\n",
    "# Create an Op to add one to `state`.\n",
    "\n",
    "one = tf.constant(1)\n",
    "new_value = tf.add(state, one)\n",
    "update = tf.assign(state, new_value)\n",
    "\n",
    "# Variables must be initialized by running an `init` Op after having\n",
    "# launched the graph.  We first have to add the `init` Op to the graph.\n",
    "init_op = tf.global_variables_initializer()\n",
    "\n",
    "# Launch the graph and run the ops.\n",
    "with tf.Session() as sess:\n",
    "  # Run the 'init' op\n",
    "  sess.run(init_op)\n",
    "  # Print the initial value of 'state'\n",
    "  print(sess.run(state))\n",
    "  # Run the op that updates 'state' and print 'state'.\n",
    "  for _ in range(3):\n",
    "    sess.run(update)\n",
    "    print(sess.run(state))\n"
   ]
  },
  {
   "cell_type": "markdown",
   "metadata": {
    "deletable": true,
    "editable": true,
    "slideshow": {
     "slide_type": "slide"
    }
   },
   "source": [
    "## Use feeds and fetches to get data in and out of graph executions"
   ]
  },
  {
   "cell_type": "code",
   "execution_count": 6,
   "metadata": {
    "collapsed": false,
    "deletable": true,
    "editable": true,
    "slideshow": {
     "slide_type": "fragment"
    }
   },
   "outputs": [
    {
     "name": "stdout",
     "output_type": "stream",
     "text": [
      "[array([ 21.], dtype=float32), array([ 7.], dtype=float32)]\n"
     ]
    }
   ],
   "source": [
    "#Fetches:\n",
    "input1 = tf.constant([3.0])\n",
    "input2 = tf.constant([2.0])\n",
    "input3 = tf.constant([5.0])\n",
    "intermed = tf.add(input2, input3)\n",
    "mul = input1 * intermed\n",
    "\n",
    "with tf.Session() as sess:\n",
    "  result = sess.run([mul, intermed])\n",
    "  print(result)\n"
   ]
  },
  {
   "cell_type": "code",
   "execution_count": 7,
   "metadata": {
    "collapsed": false,
    "deletable": true,
    "editable": true,
    "slideshow": {
     "slide_type": "fragment"
    }
   },
   "outputs": [
    {
     "name": "stdout",
     "output_type": "stream",
     "text": [
      "[array([ 14.], dtype=float32)]\n"
     ]
    }
   ],
   "source": [
    "#Feeds\n",
    "input1 = tf.placeholder(tf.float32)\n",
    "input2 = tf.placeholder(tf.float32)\n",
    "output = input1 * input2\n",
    "\n",
    "with tf.Session() as sess:\n",
    "  print(sess.run([output], feed_dict={input1:[7.], input2:[2.]}))"
   ]
  },
  {
   "cell_type": "markdown",
   "metadata": {
    "deletable": true,
    "editable": true,
    "slideshow": {
     "slide_type": "slide"
    }
   },
   "source": [
    "## Linear Regression example\n",
    "\n",
    "<img src=\"http://www.atmos.washington.edu/~robwood/teaching/451/labs/images/concepts12.jpg\">"
   ]
  },
  {
   "cell_type": "code",
   "execution_count": 26,
   "metadata": {
    "collapsed": false,
    "deletable": true,
    "editable": true,
    "slideshow": {
     "slide_type": "slide"
    }
   },
   "outputs": [
    {
     "name": "stdout",
     "output_type": "stream",
     "text": [
      "Once deleted, variables cannot be recovered. Proceed (y/[n])? y\n"
     ]
    },
    {
     "data": {
      "image/png": "[encoded data removed]",
      "text/plain": [
       "<matplotlib.figure.Figure at 0x7f1fb0106978>"
      ]
     },
     "metadata": {},
     "output_type": "display_data"
    }
   ],
   "source": [
    "%reset\n",
    "import numpy as np\n",
    "trainX = np.linspace(-1,1, 200 )\n",
    "trainY = (2 * trainX + 1.0 + np.random.randn(*trainX.shape)*0.8)\n",
    "\n",
    "%matplotlib inline\n",
    "import matplotlib.pyplot as plt\n",
    "fig = plt.figure( figsize=(8, 8))\n",
    "plt.plot(trainX, trainY, 'bo', markeredgecolor='none')\n",
    "plt.ylabel('Line with noise')\n",
    "plt.show()"
   ]
  },
  {
   "cell_type": "code",
   "execution_count": 27,
   "metadata": {
    "collapsed": false,
    "deletable": true,
    "editable": true,
    "slideshow": {
     "slide_type": "slide"
    }
   },
   "outputs": [],
   "source": [
    "import tensorflow as tf\n",
    "\n",
    "\n",
    "X = tf.placeholder(\"float\", [None, 1])\n",
    "Y = tf.placeholder(\"float\", [None, 1])\n",
    "\n",
    "# Set model weights\n",
    "w = tf.Variable(np.random.randn(), name=\"weight\")\n",
    "b = tf.Variable(np.random.randn(), name=\"bias\")\n",
    "\n",
    "# our model y=wx+b\n",
    "prediction = X*w + b\n",
    "loss = tf.reduce_mean(tf.pow(prediction-Y, 2))\n",
    "\n",
    "var_grads = tf.gradients(loss, [w,b])\n",
    "\n",
    "learning_rate = tf.constant(0.3)\n",
    "\n",
    "new_w =  w - var_grads[0] * learning_rate \n",
    "new_b =  b - var_grads[1] * learning_rate\n",
    "\n",
    "update_w = tf.assign(w, new_w)\n",
    "update_b = tf.assign(b, new_b)\n",
    "\n",
    "init_op = tf.global_variables_initializer()\n",
    "\n",
    "\n",
    "\n"
   ]
  },
  {
   "cell_type": "code",
   "execution_count": 30,
   "metadata": {
    "collapsed": false,
    "deletable": true,
    "editable": true,
    "slideshow": {
     "slide_type": "slide"
    }
   },
   "outputs": [
    {
     "data": {
      "image/png": "[encoded data removed]",
      "text/plain": [
       "<matplotlib.figure.Figure at 0x7f1f8070b978>"
      ]
     },
     "metadata": {},
     "output_type": "display_data"
    },
    {
     "name": "stdout",
     "output_type": "stream",
     "text": [
      "Cost:  0.670844  w: [2.0735526]  b: [0.96987915]\n"
     ]
    },
    {
     "data": {
      "image/png": "[encoded data removed]",
      "text/plain": [
       "<matplotlib.figure.Figure at 0x7f1f8070b978>"
      ]
     },
     "metadata": {},
     "output_type": "display_data"
    }
   ],
   "source": [
    "%matplotlib inline\n",
    "import time\n",
    "import pylab as plt\n",
    "from IPython import display\n",
    "\n",
    "fig = plt.figure( figsize=(10, 10))\n",
    "with tf.Session() as sess:\n",
    "    sess.run(init_op)\n",
    "    for epoch in range(15):\n",
    "        [current_loss, _, _ ] = sess.run(\n",
    "                [loss, update_w, update_b ], \n",
    "                feed_dict={X:trainX.reshape([-1,1]), Y:trainY.reshape([-1,1])})\n",
    "        current_w = sess.run([w])\n",
    "        current_b = sess.run([b])\n",
    "        \n",
    "\n",
    "        plt.clf()\n",
    "        plt.plot(trainX, trainY,'o',color='b', markeredgecolor='none')\n",
    "        plt.plot(trainX, trainX*current_w + current_b, color='r',)\n",
    "        print('Cost: ', current_loss,' w:',current_w, ' b:',current_b)\n",
    "        display.clear_output(wait=True)\n",
    "        display.display(plt.gcf())\n",
    "\n",
    "print('Cost: ', current_loss,' w:',current_w, ' b:',current_b)"
   ]
  },
  {
   "cell_type": "markdown",
   "metadata": {
    "deletable": true,
    "editable": true,
    "slideshow": {
     "slide_type": "slide"
    }
   },
   "source": [
    "## CNN example with MNIST\n",
    "\n",
    "Dataset of images of handwritten digits like these\n",
    "\n",
    "<div style=\"width: 400px\">\n",
    "![esto puede in en el style float:left;](https://www.tensorflow.org/images/MNIST.png)\n",
    "</div>\n",
    " Each image is 28 pixels by 28 pixels. Can be interpreted as a matrix:\n",
    "<div style=\"width: 200px\">\n",
    "![MNIST Pixels](https://www.tensorflow.org/images/MNIST-Matrix.png)\n",
    "</div>\n",
    "\n",
    "<div style=\"float:left;width: 400px\">\n",
    "![train ](https://www.tensorflow.org/images/mnist-train-xs.png)\n",
    "</div>\n",
    "\n",
    "<div style=\"float:right;width: 500px\">\n",
    "![1hot labels ](https://www.tensorflow.org/images/mnist-train-ys.png)\n",
    "</div>\n",
    "<br><br><br><br><br><br><br><br><br>\n",
    "Images are = [55000, 28 ,28]    \n",
    "reshaped into [5500, 784]         \n",
    "\n",
    "Labels are [55000, 10]\n",
    "(One-hot encoding of classes)\n"
   ]
  },
  {
   "cell_type": "code",
   "execution_count": 19,
   "metadata": {
    "collapsed": false,
    "deletable": true,
    "editable": true,
    "slideshow": {
     "slide_type": "slide"
    }
   },
   "outputs": [
    {
     "name": "stdout",
     "output_type": "stream",
     "text": [
      "Once deleted, variables cannot be recovered. Proceed (y/[n])? y\n",
      "Extracting ./MNIST_DATA/train-images-idx3-ubyte.gz\n",
      "Extracting ./MNIST_DATA/train-labels-idx1-ubyte.gz\n",
      "Extracting ./MNIST_DATA/t10k-images-idx3-ubyte.gz\n",
      "Extracting ./MNIST_DATA/t10k-labels-idx1-ubyte.gz\n"
     ]
    }
   ],
   "source": [
    "%reset\n",
    "import argparse\n",
    "import sys\n",
    "import os\n",
    "import time\n",
    "import datetime\n",
    "\n",
    "import tensorflow as tf\n",
    "from tensorflow.examples.tutorials.mnist import input_data\n",
    "tf.reset_default_graph()\n",
    "\n",
    "\n",
    "\n",
    "mnist = input_data.read_data_sets(\"./MNIST_DATA\", one_hot=True)\n"
   ]
  },
  {
   "cell_type": "code",
   "execution_count": 20,
   "metadata": {
    "collapsed": false,
    "deletable": true,
    "editable": true,
    "slideshow": {
     "slide_type": "subslide"
    }
   },
   "outputs": [],
   "source": [
    "class MNIST_CNN():\n",
    "    \"\"\"\n",
    "    A network for a classifier of digit images.\n",
    "    Input are 2D grayscale images reshaped into a vector, and the labels in one-hot encoding\n",
    "    Uses 2 Conv Layers, 1 hidden layer and softmax layer.\n",
    "    \"\"\"\n",
    "    def __init__(self, img_length, hidden_layer_size = 256, num_classes=10):\n",
    "        self.input_x = tf.placeholder(tf.float32, \n",
    "                            [None, img_length], name=\"input_x\")\n",
    "        self.input_y = tf.placeholder(tf.float32, \n",
    "                            [None, num_classes], name=\"input_y\")\n",
    "\n",
    "        # Input Layer\n",
    "        # Dimesnions are [batch_size, image_width, image_height, channels]\n",
    "        self.input_layer = tf.reshape(self.input_x, [-1, 28, 28, 1]) \n",
    "\n",
    "\n",
    "        # Convolutional Layer #1\n",
    "        with tf.name_scope(\"Conv_1\"):\n",
    "            nfilters1=8\n",
    "            self.W_conv1=tf.Variable(tf.truncated_normal([5, 5, 1, nfilters1], stddev=0.1), name=\"W\")\n",
    "            b = tf.Variable(tf.constant(0.1, shape=[nfilters1]), name=\"b\")\n",
    "            conv_out = tf.nn.conv2d(self.input_layer, self.W_conv1, \n",
    "                                 strides=[1, 1, 1, 1], padding='SAME') \n",
    "            self.conv1 = tf.nn.relu(conv_out + b)\n",
    "            self.pool1 = tf.nn.max_pool(self.conv1, ksize=[1, 2, 2, 1],\n",
    "                        strides=[1, 2, 2, 1], padding='SAME')\n",
    "\n",
    "            \n",
    "            #self.conv1 = tf.layers.conv2d(\n",
    "            #      inputs=self.input_layer,\n",
    "            #      filters=32,\n",
    "            #      kernel_size=[5, 5],\n",
    "            #      padding=\"same\",\n",
    "            #      activation=tf.nn.relu)\n",
    "            # Pooling Layer #1\n",
    "            #self.pool1 = tf.layers.max_pooling2d(inputs=self.conv1, pool_size=[2, 2], strides=2)\n",
    "\n",
    "        # Convolutional Layer #2 and Pooling Layer #2\n",
    "        with tf.name_scope(\"Conv_2\"):\n",
    "            nfilters2=16\n",
    "            self.W_conv2=tf.Variable(tf.truncated_normal([3, 3, nfilters1, nfilters2], stddev=0.1), name=\"W\")\n",
    "            b = tf.Variable(tf.constant(0.1, shape=[nfilters2]), name=\"b\")\n",
    "            \n",
    "            conv_out = tf.nn.conv2d(self.pool1, self.W_conv2, \n",
    "                                 strides=[1, 1, 1, 1], padding='SAME') \n",
    "            self.conv2 = tf.nn.relu(conv_out + b)\n",
    "            self.pool2 = tf.nn.max_pool(self.conv2, ksize=[1, 2, 2, 1],\n",
    "                        strides=[1, 2, 2, 1], padding='SAME')\n",
    "\n",
    "            #self.conv2 = tf.layers.conv2d(\n",
    "            #      inputs=self.pool1,\n",
    "            #      filters=64,\n",
    "            #      kernel_size=[5, 5],\n",
    "            #      padding=\"same\",\n",
    "            #      activation=tf.nn.relu)\n",
    "            #self.pool2 = tf.layers.max_pooling2d(inputs=self.conv2, pool_size=[2, 2], strides=2)\n",
    "\n",
    "        #Flat feature maps\n",
    "        self.pool2_flat = tf.reshape(self.pool2, [-1, 7 * 7 * nfilters2])\n",
    "\n",
    "        # Dense Layer\n",
    "        with tf.name_scope(\"hidden_layer_1\"):\n",
    "            W = tf.Variable(tf.truncated_normal([7 * 7 * nfilters2, hidden_layer_size], stddev=0.1), name=\"W\")\n",
    "            b = tf.Variable(tf.constant(0.1, shape=[hidden_layer_size]), name=\"b\")\n",
    "            self.hl1 = tf.nn.relu ( tf.matmul(self.pool2_flat, W) + b )\n",
    "            #dense = tf.layers.dense(inputs=pool2_flat, units=1024, activation=tf.nn.relu)\n",
    "\n",
    "\n",
    "\n",
    "        with tf.name_scope(\"softmax_layer\"):\n",
    "            W = tf.Variable(tf.truncated_normal([hidden_layer_size, num_classes], stddev=0.1), name=\"W\")\n",
    "            b = tf.Variable(tf.constant(0.1, shape=[num_classes]), name=\"b\")\n",
    "            self.scores = tf.nn.xw_plus_b(self.hl1, W, b, name=\"scores\")\n",
    "            self.predictions = tf.argmax(self.scores, 1, name=\"predictions\")\n",
    "\n",
    "\n",
    "        # CalculateMean cross-entropy loss\n",
    "        with tf.name_scope(\"loss\"):\n",
    "            losses = tf.nn.softmax_cross_entropy_with_logits(logits=self.scores, labels=self.input_y)\n",
    "            self.loss = tf.reduce_mean(losses)\n",
    "\n",
    "        # Accuracy\n",
    "        with tf.name_scope(\"accuracy\"):\n",
    "            correct_predictions = tf.equal(self.predictions, tf.argmax(self.input_y, 1))\n",
    "            self.accuracy = tf.reduce_mean(tf.cast(correct_predictions, \"float\"), name=\"accuracy\")\n",
    "\n"
   ]
  },
  {
   "cell_type": "code",
   "execution_count": 21,
   "metadata": {
    "collapsed": false,
    "deletable": true,
    "editable": true,
    "slideshow": {
     "slide_type": "slide"
    }
   },
   "outputs": [],
   "source": [
    "#sess = tf.Session()\n",
    "sess = tf.InteractiveSession() #for running inside notebook\n",
    "with tf.device(\"/cpu:0\"):\n",
    "    mnist_dnn = MNIST_CNN(img_length=784, hidden_layer_size = 128, num_classes=10)\n",
    "\n",
    "    # Define Training procedure\n",
    "    global_step = tf.Variable(0, name=\"global_step\", trainable=False)\n",
    "    train_op = tf.train.GradientDescentOptimizer(0.05).minimize(mnist_dnn.loss, global_step=global_step)\n"
   ]
  },
  {
   "cell_type": "code",
   "execution_count": 22,
   "metadata": {
    "collapsed": false,
    "deletable": true,
    "editable": true,
    "slideshow": {
     "slide_type": "slide"
    }
   },
   "outputs": [
    {
     "name": "stdout",
     "output_type": "stream",
     "text": [
      "Writing to /home/csegura/repo/deeplearning-tutorials/intro_tensorflow/runs/1490810420\n",
      "\n",
      "Conv_1/W:0\n",
      "Conv_1/b:0\n",
      "Conv_2/W:0\n",
      "Conv_2/b:0\n",
      "hidden_layer_1/W:0\n",
      "hidden_layer_1/b:0\n",
      "softmax_layer/W:0\n",
      "softmax_layer/b:0\n"
     ]
    }
   ],
   "source": [
    "from tensorflow.contrib.tensorboard.plugins import projector\n",
    "import numpy as np\n",
    "\n",
    "timestamp = str(int(time.time()))\n",
    "out_dir = os.path.abspath(os.path.join(os.path.curdir, \"runs\", timestamp))\n",
    "print(\"Writing to {}\\n\".format(out_dir))\n",
    "\n",
    "# Summaries for loss and accuracy\n",
    "loss_summary = tf.summary.scalar(\"loss\", mnist_dnn.loss)\n",
    "acc_summary = tf.summary.scalar(\"accuracy\", mnist_dnn.accuracy)\n",
    "\n",
    "\n",
    "with tf.name_scope('var_summary'):\n",
    "    for var in tf.trainable_variables():\n",
    "        with tf.name_scope(var.name.split(':')[0]):\n",
    "            print(var.name)\n",
    "            if var.name.startswith(\"counter\"):\n",
    "                continue\n",
    "            mean = tf.reduce_mean(var)\n",
    "            tf.summary.scalar('mean', mean)\n",
    "            with tf.name_scope('stddev'):\n",
    "                stddev = tf.sqrt(tf.reduce_mean(tf.square(var - mean)))\n",
    "            tf.summary.scalar('stddev', stddev)\n",
    "            tf.summary.scalar('max', tf.reduce_max(var))\n",
    "            tf.summary.scalar('min', tf.reduce_min(var))\n",
    "            tf.summary.histogram('histogram', var)\n",
    "\n",
    "with tf.variable_scope('visualization_conv1'):\n",
    "    # scale weights to [0 1], type is still float\n",
    "    kernel = mnist_dnn.W_conv1\n",
    "    x_min = tf.reduce_min(kernel)\n",
    "    x_max = tf.reduce_max(kernel)\n",
    "    kernel_0_to_1 = (kernel - x_min) / (x_max - x_min)\n",
    "\n",
    "    # to tf.image_summary format [batch_size, height, width, channels]\n",
    "    kernel_transposed = tf.transpose (kernel_0_to_1, [3, 0, 1, 2])\n",
    "\n",
    "    # this will display random 3 filters from the 32 in conv1\n",
    "    tf.summary.image('filters', kernel_transposed, max_outputs=16)\n",
    "\n",
    "with tf.variable_scope('visualization_conv2'):    \n",
    "    kernel = mnist_dnn.W_conv2\n",
    "    x_min = tf.reduce_min(kernel)\n",
    "    x_max = tf.reduce_max(kernel)\n",
    "    kernel_0_to_1 = (kernel - x_min) / (x_max - x_min)\n",
    "\n",
    "    # to tf.image_summary format [batch_size, height, width, channels]\n",
    "    kernel_transposed = tf.transpose (kernel_0_to_1, [3, 0, 1, 2])\n",
    "    kernel_transposed = tf.slice(kernel_transposed, [0, 0, 0,0], [-1, -1, -1, 1]) \n",
    "\n",
    "    # this will display random 3 filters from the 32 in conv1\n",
    "    tf.summary.image('conv2/filters', kernel_transposed, max_outputs=16)\n",
    "            \n",
    "image_features = tf.Variable(tf.truncated_normal([10000, 128], stddev=0.1), trainable=False, name='image_features')\n",
    "# Train Summaries\n",
    "#train_summary_op = tf.summary.merge([loss_summary, acc_summary ])\n",
    "train_summary_op = tf.summary.merge_all()\n",
    "train_summary_dir = os.path.join(out_dir, \"summaries\", \"train\")\n",
    "train_summary_writer = tf.summary.FileWriter(train_summary_dir, sess.graph)\n",
    "\n",
    "\n",
    "\n",
    "config = projector.ProjectorConfig()\n",
    "embed= config.embeddings.add()\n",
    "embed.tensor_name = image_features.name\n",
    "embed.metadata_path = os.path.join(train_summary_dir + '/metadata.tsv')\n",
    "embed.sprite.image_path = os.path.join(train_summary_dir + '/mnist_10k_sprite.png')\n",
    "from shutil import copyfile\n",
    "copyfile('./mnist_10k_sprite.png', os.path.join(train_summary_dir + '/mnist_10k_sprite.png'))\n",
    "\n",
    "# Specify the width and height of a single thumbnail.\n",
    "embed.sprite.single_image_dim.extend([28, 28])\n",
    "projector.visualize_embeddings(train_summary_writer, config)\n",
    "\n",
    "def save_metadata(file):\n",
    "    with open(file, 'w') as f:\n",
    "        for i in range(10000):\n",
    "            c = np.nonzero(mnist.test.labels[::1])[1:][0][i]\n",
    "            f.write('{}\\n'.format(c))\n",
    "\n",
    "save_metadata(embed.metadata_path)\n",
    "get_image_features_op = tf.assign(image_features, mnist_dnn.hl1)"
   ]
  },
  {
   "cell_type": "code",
   "execution_count": 23,
   "metadata": {
    "collapsed": false,
    "deletable": true,
    "editable": true,
    "slideshow": {
     "slide_type": "slide"
    }
   },
   "outputs": [],
   "source": [
    "\n",
    "checkpoint_prefix = os.path.join(train_summary_dir, \"model\")\n",
    "if not os.path.exists(checkpoint_prefix):\n",
    "    os.makedirs(checkpoint_prefix)\n",
    "saver = tf.train.Saver(tf.global_variables(), max_to_keep=5)"
   ]
  },
  {
   "cell_type": "code",
   "execution_count": 24,
   "metadata": {
    "collapsed": false,
    "deletable": true,
    "editable": true,
    "slideshow": {
     "slide_type": "slide"
    }
   },
   "outputs": [
    {
     "name": "stdout",
     "output_type": "stream",
     "text": [
      "2017-03-29T20:00:44.645771: step 1, loss 2.32267, acc 0.074\n",
      "2017-03-29T20:00:44.967666: step 2, loss 2.30807, acc 0.106\n",
      "2017-03-29T20:00:45.295580: step 3, loss 2.2954, acc 0.144\n",
      "2017-03-29T20:00:45.623760: step 4, loss 2.28755, acc 0.132\n",
      "2017-03-29T20:00:45.974256: step 5, loss 2.2853, acc 0.15\n",
      "2017-03-29T20:00:46.299636: step 6, loss 2.28518, acc 0.154\n",
      "2017-03-29T20:00:46.633882: step 7, loss 2.27743, acc 0.154\n",
      "2017-03-29T20:00:46.955095: step 8, loss 2.26544, acc 0.186\n",
      "2017-03-29T20:00:47.299506: step 9, loss 2.25239, acc 0.198\n",
      "2017-03-29T20:00:47.628836: step 10, loss 2.24703, acc 0.206\n",
      "2017-03-29T20:00:47.952998: step 11, loss 2.24197, acc 0.224\n",
      "2017-03-29T20:00:48.270132: step 12, loss 2.24498, acc 0.258\n",
      "2017-03-29T20:00:48.635884: step 13, loss 2.22831, acc 0.29\n",
      "2017-03-29T20:00:49.000590: step 14, loss 2.21378, acc 0.294\n",
      "2017-03-29T20:00:49.326069: step 15, loss 2.21231, acc 0.322\n",
      "2017-03-29T20:00:49.655773: step 16, loss 2.20966, acc 0.342\n",
      "2017-03-29T20:00:49.980020: step 17, loss 2.19192, acc 0.346\n",
      "2017-03-29T20:00:50.301667: step 18, loss 2.18679, acc 0.332\n",
      "2017-03-29T20:00:50.641293: step 19, loss 2.18146, acc 0.35\n",
      "2017-03-29T20:00:50.970628: step 20, loss 2.17813, acc 0.324\n",
      "2017-03-29T20:00:51.301050: step 21, loss 2.15094, acc 0.414\n",
      "2017-03-29T20:00:51.632006: step 22, loss 2.14046, acc 0.422\n",
      "2017-03-29T20:00:51.969630: step 23, loss 2.12463, acc 0.392\n",
      "2017-03-29T20:00:52.289152: step 24, loss 2.12947, acc 0.426\n",
      "2017-03-29T20:00:52.626404: step 25, loss 2.09874, acc 0.478\n",
      "2017-03-29T20:00:52.961378: step 26, loss 2.10013, acc 0.398\n",
      "2017-03-29T20:00:53.293989: step 27, loss 2.06613, acc 0.45\n",
      "2017-03-29T20:00:53.630063: step 28, loss 2.04193, acc 0.486\n",
      "2017-03-29T20:00:53.970219: step 29, loss 2.03361, acc 0.45\n",
      "2017-03-29T20:00:54.295809: step 30, loss 1.9607, acc 0.56\n",
      "2017-03-29T20:00:54.632930: step 31, loss 1.97947, acc 0.504\n",
      "2017-03-29T20:00:54.966765: step 32, loss 1.94077, acc 0.504\n",
      "2017-03-29T20:00:55.289071: step 33, loss 1.91865, acc 0.51\n",
      "2017-03-29T20:00:55.622085: step 34, loss 1.84164, acc 0.606\n",
      "2017-03-29T20:00:55.955510: step 35, loss 1.86487, acc 0.568\n",
      "2017-03-29T20:00:56.284478: step 36, loss 1.81148, acc 0.554\n",
      "2017-03-29T20:00:56.608013: step 37, loss 1.72602, acc 0.608\n",
      "2017-03-29T20:00:56.940668: step 38, loss 1.72332, acc 0.614\n",
      "2017-03-29T20:00:57.280224: step 39, loss 1.64441, acc 0.658\n",
      "2017-03-29T20:00:57.608945: step 40, loss 1.6173, acc 0.658\n",
      "2017-03-29T20:00:57.966354: step 41, loss 1.50624, acc 0.666\n",
      "2017-03-29T20:00:58.297741: step 42, loss 1.4547, acc 0.694\n",
      "2017-03-29T20:00:58.626476: step 43, loss 1.41039, acc 0.698\n",
      "2017-03-29T20:00:58.955989: step 44, loss 1.39746, acc 0.68\n",
      "2017-03-29T20:00:59.291558: step 45, loss 1.35003, acc 0.708\n",
      "2017-03-29T20:00:59.612663: step 46, loss 1.23748, acc 0.736\n",
      "2017-03-29T20:00:59.941780: step 47, loss 1.10782, acc 0.76\n",
      "2017-03-29T20:01:00.278905: step 48, loss 1.15863, acc 0.692\n",
      "2017-03-29T20:01:00.604139: step 49, loss 1.10363, acc 0.718\n",
      "2017-03-29T20:01:00.957109: step 50, loss 1.20143, acc 0.644\n",
      "2017-03-29T20:01:01.293046: step 51, loss 1.28323, acc 0.544\n",
      "2017-03-29T20:01:01.619819: step 52, loss 1.51707, acc 0.546\n",
      "2017-03-29T20:01:01.955405: step 53, loss 1.35513, acc 0.594\n",
      "2017-03-29T20:01:02.285202: step 54, loss 1.09407, acc 0.658\n",
      "2017-03-29T20:01:02.602790: step 55, loss 1.15242, acc 0.66\n",
      "2017-03-29T20:01:02.941548: step 56, loss 0.92429, acc 0.76\n",
      "2017-03-29T20:01:03.273240: step 57, loss 1.00046, acc 0.66\n",
      "2017-03-29T20:01:03.625450: step 58, loss 0.847057, acc 0.76\n",
      "2017-03-29T20:01:03.976489: step 59, loss 0.854366, acc 0.736\n",
      "2017-03-29T20:01:04.306997: step 60, loss 0.992939, acc 0.686\n",
      "2017-03-29T20:01:04.643260: step 61, loss 0.995656, acc 0.628\n",
      "2017-03-29T20:01:04.995605: step 62, loss 1.13556, acc 0.644\n",
      "2017-03-29T20:01:05.349489: step 63, loss 0.937113, acc 0.706\n",
      "2017-03-29T20:01:05.695198: step 64, loss 0.843006, acc 0.752\n",
      "2017-03-29T20:01:06.024820: step 65, loss 1.01971, acc 0.626\n",
      "2017-03-29T20:01:06.384906: step 66, loss 0.921264, acc 0.718\n",
      "2017-03-29T20:01:06.732800: step 67, loss 0.736098, acc 0.772\n",
      "2017-03-29T20:01:07.074676: step 68, loss 0.648004, acc 0.8\n",
      "2017-03-29T20:01:07.406510: step 69, loss 0.681744, acc 0.802\n",
      "2017-03-29T20:01:07.737186: step 70, loss 0.743622, acc 0.75\n",
      "2017-03-29T20:01:08.089460: step 71, loss 0.666412, acc 0.776\n",
      "2017-03-29T20:01:08.423383: step 72, loss 0.69207, acc 0.752\n",
      "2017-03-29T20:01:08.781219: step 73, loss 0.916379, acc 0.716\n",
      "2017-03-29T20:01:09.114352: step 74, loss 0.84596, acc 0.698\n",
      "2017-03-29T20:01:09.507111: step 75, loss 1.04812, acc 0.636\n",
      "2017-03-29T20:01:10.025761: step 76, loss 0.889471, acc 0.67\n",
      "2017-03-29T20:01:10.545556: step 77, loss 0.903218, acc 0.704\n",
      "2017-03-29T20:01:10.875242: step 78, loss 0.639527, acc 0.794\n",
      "2017-03-29T20:01:11.198752: step 79, loss 0.701437, acc 0.798\n",
      "2017-03-29T20:01:11.513200: step 80, loss 0.588308, acc 0.808\n",
      "2017-03-29T20:01:11.844502: step 81, loss 0.560773, acc 0.848\n",
      "2017-03-29T20:01:12.163228: step 82, loss 0.530069, acc 0.858\n",
      "2017-03-29T20:01:12.490737: step 83, loss 0.62055, acc 0.792\n",
      "2017-03-29T20:01:12.828509: step 84, loss 0.519371, acc 0.816\n",
      "2017-03-29T20:01:13.154237: step 85, loss 0.52075, acc 0.85\n",
      "2017-03-29T20:01:13.484952: step 86, loss 0.481972, acc 0.844\n",
      "2017-03-29T20:01:13.806393: step 87, loss 0.40913, acc 0.902\n",
      "2017-03-29T20:01:14.126234: step 88, loss 0.460949, acc 0.866\n",
      "2017-03-29T20:01:14.453891: step 89, loss 0.493587, acc 0.842\n",
      "2017-03-29T20:01:14.816751: step 90, loss 0.594192, acc 0.816\n",
      "2017-03-29T20:01:15.145200: step 91, loss 0.506183, acc 0.862\n",
      "2017-03-29T20:01:15.507085: step 92, loss 0.471617, acc 0.84\n",
      "2017-03-29T20:01:15.857023: step 93, loss 0.594894, acc 0.81\n",
      "2017-03-29T20:01:16.188241: step 94, loss 0.560638, acc 0.81\n",
      "2017-03-29T20:01:16.511329: step 95, loss 0.584131, acc 0.798\n",
      "2017-03-29T20:01:16.841673: step 96, loss 0.510316, acc 0.85\n",
      "2017-03-29T20:01:17.171846: step 97, loss 0.379378, acc 0.9\n",
      "2017-03-29T20:01:17.505234: step 98, loss 0.424532, acc 0.88\n",
      "2017-03-29T20:01:17.844760: step 99, loss 0.398679, acc 0.868\n",
      "2017-03-29T20:01:18.173360: step 100, loss 0.509113, acc 0.838\n",
      "2017-03-29T20:01:18.504071: step 101, loss 0.4225, acc 0.846\n",
      "2017-03-29T20:01:18.849855: step 102, loss 0.362752, acc 0.882\n",
      "2017-03-29T20:01:19.187183: step 103, loss 0.472196, acc 0.844\n",
      "2017-03-29T20:01:19.516077: step 104, loss 0.383674, acc 0.87\n",
      "2017-03-29T20:01:19.851496: step 105, loss 0.524045, acc 0.814\n",
      "2017-03-29T20:01:20.190455: step 106, loss 0.575027, acc 0.812\n",
      "2017-03-29T20:01:20.533626: step 107, loss 0.316872, acc 0.884\n",
      "2017-03-29T20:01:20.865407: step 108, loss 0.268297, acc 0.91\n",
      "2017-03-29T20:01:21.188149: step 109, loss 0.33825, acc 0.904\n",
      "2017-03-29T20:01:21.506275: step 110, loss 0.304084, acc 0.922\n",
      "2017-03-29T20:01:21.988283: step 111, loss 0.408765, acc 0.88\n",
      "2017-03-29T20:01:22.315875: step 112, loss 0.371667, acc 0.89\n",
      "2017-03-29T20:01:22.635298: step 113, loss 0.378986, acc 0.882\n",
      "2017-03-29T20:01:22.949350: step 114, loss 0.371473, acc 0.896\n",
      "2017-03-29T20:01:23.275515: step 115, loss 0.40839, acc 0.866\n",
      "2017-03-29T20:01:23.604085: step 116, loss 0.421218, acc 0.864\n",
      "2017-03-29T20:01:23.932175: step 117, loss 0.517962, acc 0.826\n",
      "2017-03-29T20:01:24.252061: step 118, loss 0.476722, acc 0.844\n",
      "2017-03-29T20:01:24.574008: step 119, loss 0.413814, acc 0.868\n",
      "2017-03-29T20:01:24.916065: step 120, loss 0.455072, acc 0.848\n",
      "2017-03-29T20:01:25.242031: step 121, loss 0.451526, acc 0.86\n",
      "2017-03-29T20:01:25.551432: step 122, loss 0.369472, acc 0.888\n",
      "2017-03-29T20:01:25.868043: step 123, loss 0.451931, acc 0.866\n",
      "2017-03-29T20:01:26.196223: step 124, loss 0.448653, acc 0.868\n",
      "2017-03-29T20:01:26.513953: step 125, loss 0.39721, acc 0.87\n",
      "2017-03-29T20:01:26.847488: step 126, loss 0.33593, acc 0.89\n",
      "2017-03-29T20:01:27.159199: step 127, loss 0.418245, acc 0.884\n",
      "2017-03-29T20:01:27.474433: step 128, loss 0.406827, acc 0.88\n",
      "2017-03-29T20:01:27.825376: step 129, loss 0.349448, acc 0.898\n",
      "2017-03-29T20:01:28.216121: step 130, loss 0.340078, acc 0.892\n",
      "2017-03-29T20:01:28.535622: step 131, loss 0.388675, acc 0.888\n",
      "2017-03-29T20:01:28.862124: step 132, loss 0.334325, acc 0.888\n",
      "2017-03-29T20:01:29.185018: step 133, loss 0.346661, acc 0.886\n",
      "2017-03-29T20:01:29.503309: step 134, loss 0.369821, acc 0.888\n",
      "2017-03-29T20:01:29.840079: step 135, loss 0.307998, acc 0.886\n",
      "2017-03-29T20:01:30.151032: step 136, loss 0.324289, acc 0.9\n",
      "2017-03-29T20:01:30.472397: step 137, loss 0.296517, acc 0.924\n",
      "2017-03-29T20:01:30.807630: step 138, loss 0.268974, acc 0.922\n",
      "2017-03-29T20:01:31.141398: step 139, loss 0.337022, acc 0.9\n",
      "2017-03-29T20:01:31.460936: step 140, loss 0.30034, acc 0.906\n",
      "2017-03-29T20:01:31.780284: step 141, loss 0.339155, acc 0.914\n",
      "2017-03-29T20:01:32.097950: step 142, loss 0.331548, acc 0.896\n",
      "2017-03-29T20:01:32.425670: step 143, loss 0.289868, acc 0.914\n",
      "2017-03-29T20:01:32.763393: step 144, loss 0.296786, acc 0.914\n",
      "2017-03-29T20:01:33.085990: step 145, loss 0.328649, acc 0.894\n",
      "2017-03-29T20:01:33.404749: step 146, loss 0.306153, acc 0.904\n",
      "2017-03-29T20:01:33.747263: step 147, loss 0.372651, acc 0.888\n",
      "2017-03-29T20:01:34.061065: step 148, loss 0.315458, acc 0.912\n",
      "2017-03-29T20:01:34.400609: step 149, loss 0.295949, acc 0.91\n",
      "2017-03-29T20:01:34.725253: step 150, loss 0.350477, acc 0.898\n",
      "2017-03-29T20:01:35.049785: step 151, loss 0.327333, acc 0.902\n",
      "2017-03-29T20:01:35.364445: step 152, loss 0.343069, acc 0.902\n",
      "2017-03-29T20:01:35.702007: step 153, loss 0.327315, acc 0.894\n",
      "2017-03-29T20:01:36.022980: step 154, loss 0.351542, acc 0.882\n",
      "2017-03-29T20:01:36.335495: step 155, loss 0.371708, acc 0.878\n",
      "2017-03-29T20:01:36.658698: step 156, loss 0.32845, acc 0.898\n",
      "2017-03-29T20:01:36.981983: step 157, loss 0.312321, acc 0.898\n",
      "2017-03-29T20:01:37.312745: step 158, loss 0.245317, acc 0.922\n",
      "2017-03-29T20:01:37.647272: step 159, loss 0.261604, acc 0.926\n",
      "2017-03-29T20:01:37.965329: step 160, loss 0.320498, acc 0.896\n",
      "2017-03-29T20:01:38.291624: step 161, loss 0.343935, acc 0.9\n",
      "2017-03-29T20:01:38.622580: step 162, loss 0.315991, acc 0.892\n",
      "2017-03-29T20:01:38.959432: step 163, loss 0.335114, acc 0.902\n",
      "2017-03-29T20:01:39.297340: step 164, loss 0.305818, acc 0.882\n",
      "2017-03-29T20:01:39.685371: step 165, loss 0.288844, acc 0.92\n",
      "2017-03-29T20:01:40.017832: step 166, loss 0.288321, acc 0.904\n",
      "2017-03-29T20:01:40.350376: step 167, loss 0.294929, acc 0.916\n",
      "2017-03-29T20:01:40.685126: step 168, loss 0.363974, acc 0.884\n",
      "2017-03-29T20:01:41.011235: step 169, loss 0.332632, acc 0.89\n",
      "2017-03-29T20:01:41.338402: step 170, loss 0.323047, acc 0.902\n",
      "2017-03-29T20:01:41.674198: step 171, loss 0.399004, acc 0.88\n",
      "2017-03-29T20:01:41.993434: step 172, loss 0.440476, acc 0.832\n",
      "2017-03-29T20:01:42.322025: step 173, loss 0.315005, acc 0.892\n",
      "2017-03-29T20:01:42.654963: step 174, loss 0.250871, acc 0.918\n",
      "2017-03-29T20:01:42.986585: step 175, loss 0.264223, acc 0.928\n",
      "2017-03-29T20:01:43.304827: step 176, loss 0.299444, acc 0.908\n",
      "2017-03-29T20:01:43.632313: step 177, loss 0.274352, acc 0.914\n",
      "2017-03-29T20:01:43.962252: step 178, loss 0.227812, acc 0.938\n",
      "2017-03-29T20:01:44.278539: step 179, loss 0.290994, acc 0.9\n",
      "2017-03-29T20:01:44.602127: step 180, loss 0.261197, acc 0.916\n",
      "2017-03-29T20:01:44.935142: step 181, loss 0.235562, acc 0.936\n",
      "2017-03-29T20:01:45.275863: step 182, loss 0.258952, acc 0.934\n",
      "2017-03-29T20:01:45.592587: step 183, loss 0.239346, acc 0.922\n",
      "2017-03-29T20:01:45.937286: step 184, loss 0.289355, acc 0.902\n",
      "2017-03-29T20:01:46.263859: step 185, loss 0.309771, acc 0.906\n",
      "2017-03-29T20:01:46.587796: step 186, loss 0.287012, acc 0.912\n",
      "2017-03-29T20:01:46.913987: step 187, loss 0.317166, acc 0.89\n",
      "2017-03-29T20:01:47.306868: step 188, loss 0.266487, acc 0.908\n",
      "2017-03-29T20:01:47.784801: step 189, loss 0.28055, acc 0.912\n",
      "2017-03-29T20:01:48.136035: step 190, loss 0.274624, acc 0.912\n",
      "2017-03-29T20:01:48.458115: step 191, loss 0.244856, acc 0.928\n",
      "2017-03-29T20:01:48.815290: step 192, loss 0.27739, acc 0.91\n",
      "2017-03-29T20:01:49.151209: step 193, loss 0.216143, acc 0.926\n",
      "2017-03-29T20:01:49.496346: step 194, loss 0.256256, acc 0.918\n",
      "2017-03-29T20:01:49.814292: step 195, loss 0.285483, acc 0.916\n",
      "2017-03-29T20:01:50.134370: step 196, loss 0.242462, acc 0.934\n",
      "2017-03-29T20:01:50.468345: step 197, loss 0.255093, acc 0.916\n",
      "2017-03-29T20:01:50.804645: step 198, loss 0.280815, acc 0.914\n",
      "2017-03-29T20:01:51.134377: step 199, loss 0.295505, acc 0.904\n",
      "2017-03-29T20:01:51.473067: step 200, loss 0.313551, acc 0.892\n",
      "2017-03-29T20:01:51.803563: step 201, loss 0.226649, acc 0.932\n",
      "2017-03-29T20:01:52.131072: step 202, loss 0.260333, acc 0.908\n",
      "2017-03-29T20:01:52.466401: step 203, loss 0.23004, acc 0.93\n",
      "2017-03-29T20:01:52.803407: step 204, loss 0.194638, acc 0.934\n",
      "2017-03-29T20:01:53.140802: step 205, loss 0.271942, acc 0.93\n",
      "2017-03-29T20:01:53.504549: step 206, loss 0.23822, acc 0.924\n",
      "2017-03-29T20:01:53.894599: step 207, loss 0.337794, acc 0.902\n",
      "2017-03-29T20:01:54.232942: step 208, loss 0.234608, acc 0.924\n",
      "2017-03-29T20:01:54.570597: step 209, loss 0.299015, acc 0.908\n",
      "2017-03-29T20:01:54.921180: step 210, loss 0.29953, acc 0.91\n",
      "2017-03-29T20:01:55.256860: step 211, loss 0.202159, acc 0.942\n",
      "2017-03-29T20:01:55.596983: step 212, loss 0.233547, acc 0.924\n",
      "2017-03-29T20:01:55.944443: step 213, loss 0.264551, acc 0.916\n",
      "2017-03-29T20:01:56.296081: step 214, loss 0.274541, acc 0.928\n",
      "2017-03-29T20:01:56.681800: step 215, loss 0.21371, acc 0.934\n",
      "2017-03-29T20:01:57.019197: step 216, loss 0.25616, acc 0.926\n",
      "2017-03-29T20:01:57.359528: step 217, loss 0.221154, acc 0.934\n",
      "2017-03-29T20:01:57.722354: step 218, loss 0.220389, acc 0.94\n",
      "2017-03-29T20:01:58.055466: step 219, loss 0.240743, acc 0.932\n",
      "2017-03-29T20:01:58.379896: step 220, loss 0.233295, acc 0.932\n",
      "2017-03-29T20:01:58.841643: step 221, loss 0.165031, acc 0.958\n",
      "2017-03-29T20:01:59.184178: step 222, loss 0.215118, acc 0.942\n",
      "2017-03-29T20:01:59.699011: step 223, loss 0.213046, acc 0.932\n",
      "2017-03-29T20:02:00.069235: step 224, loss 0.228086, acc 0.932\n",
      "2017-03-29T20:02:00.534718: step 225, loss 0.223077, acc 0.932\n",
      "2017-03-29T20:02:01.064705: step 226, loss 0.250479, acc 0.936\n",
      "2017-03-29T20:02:01.397859: step 227, loss 0.25422, acc 0.926\n",
      "2017-03-29T20:02:01.736123: step 228, loss 0.210381, acc 0.942\n",
      "2017-03-29T20:02:02.135133: step 229, loss 0.200059, acc 0.94\n",
      "2017-03-29T20:02:02.539899: step 230, loss 0.226456, acc 0.932\n",
      "2017-03-29T20:02:02.896084: step 231, loss 0.18964, acc 0.954\n",
      "2017-03-29T20:02:03.322788: step 232, loss 0.213497, acc 0.938\n",
      "2017-03-29T20:02:03.847637: step 233, loss 0.250125, acc 0.906\n",
      "2017-03-29T20:02:04.325479: step 234, loss 0.361486, acc 0.896\n",
      "2017-03-29T20:02:04.763460: step 235, loss 0.229738, acc 0.928\n",
      "2017-03-29T20:02:05.171744: step 236, loss 0.179977, acc 0.942\n",
      "2017-03-29T20:02:05.525466: step 237, loss 0.238664, acc 0.934\n",
      "2017-03-29T20:02:05.876582: step 238, loss 0.250887, acc 0.922\n",
      "2017-03-29T20:02:06.303983: step 239, loss 0.209347, acc 0.942\n",
      "2017-03-29T20:02:06.670840: step 240, loss 0.210262, acc 0.942\n",
      "2017-03-29T20:02:07.045744: step 241, loss 0.178673, acc 0.938\n",
      "2017-03-29T20:02:07.548647: step 242, loss 0.194177, acc 0.932\n",
      "2017-03-29T20:02:07.939141: step 243, loss 0.233662, acc 0.936\n",
      "2017-03-29T20:02:08.331122: step 244, loss 0.21844, acc 0.94\n",
      "2017-03-29T20:02:08.766706: step 245, loss 0.254899, acc 0.916\n",
      "2017-03-29T20:02:09.208616: step 246, loss 0.215924, acc 0.938\n",
      "2017-03-29T20:02:09.583809: step 247, loss 0.21536, acc 0.936\n",
      "2017-03-29T20:02:10.007555: step 248, loss 0.181622, acc 0.94\n",
      "2017-03-29T20:02:10.393882: step 249, loss 0.173002, acc 0.948\n",
      "2017-03-29T20:02:10.788885: step 250, loss 0.223739, acc 0.93\n",
      "2017-03-29T20:02:11.134641: step 251, loss 0.17526, acc 0.946\n",
      "2017-03-29T20:02:11.522872: step 252, loss 0.236241, acc 0.944\n",
      "2017-03-29T20:02:11.937227: step 253, loss 0.197009, acc 0.942\n",
      "2017-03-29T20:02:12.270896: step 254, loss 0.234383, acc 0.946\n",
      "2017-03-29T20:02:12.613408: step 255, loss 0.194947, acc 0.95\n",
      "2017-03-29T20:02:12.961466: step 256, loss 0.216384, acc 0.926\n",
      "2017-03-29T20:02:13.299052: step 257, loss 0.250786, acc 0.922\n",
      "2017-03-29T20:02:13.631115: step 258, loss 0.221839, acc 0.942\n",
      "2017-03-29T20:02:13.970394: step 259, loss 0.230658, acc 0.926\n",
      "2017-03-29T20:02:14.299650: step 260, loss 0.206735, acc 0.936\n",
      "2017-03-29T20:02:14.640894: step 261, loss 0.283827, acc 0.934\n",
      "2017-03-29T20:02:14.979296: step 262, loss 0.211238, acc 0.934\n",
      "2017-03-29T20:02:15.299909: step 263, loss 0.214179, acc 0.938\n",
      "2017-03-29T20:02:15.640072: step 264, loss 0.214128, acc 0.946\n",
      "2017-03-29T20:02:15.979684: step 265, loss 0.257858, acc 0.934\n",
      "2017-03-29T20:02:16.330070: step 266, loss 0.162865, acc 0.938\n",
      "2017-03-29T20:02:16.675124: step 267, loss 0.188277, acc 0.936\n",
      "2017-03-29T20:02:17.009791: step 268, loss 0.160371, acc 0.958\n",
      "2017-03-29T20:02:17.354282: step 269, loss 0.212478, acc 0.936\n",
      "2017-03-29T20:02:17.756449: step 270, loss 0.205657, acc 0.924\n",
      "2017-03-29T20:02:18.162267: step 271, loss 0.256945, acc 0.926\n",
      "2017-03-29T20:02:18.488533: step 272, loss 0.207366, acc 0.93\n",
      "2017-03-29T20:02:18.843047: step 273, loss 0.250083, acc 0.924\n",
      "2017-03-29T20:02:19.183611: step 274, loss 0.183928, acc 0.95\n",
      "2017-03-29T20:02:19.519066: step 275, loss 0.210411, acc 0.926\n",
      "2017-03-29T20:02:19.944128: step 276, loss 0.215293, acc 0.94\n",
      "2017-03-29T20:02:20.282159: step 277, loss 0.238156, acc 0.928\n",
      "2017-03-29T20:02:20.687526: step 278, loss 0.247911, acc 0.926\n",
      "2017-03-29T20:02:21.015533: step 279, loss 0.200665, acc 0.946\n",
      "2017-03-29T20:02:21.416670: step 280, loss 0.209644, acc 0.946\n",
      "2017-03-29T20:02:21.855232: step 281, loss 0.18248, acc 0.96\n",
      "2017-03-29T20:02:22.257289: step 282, loss 0.210164, acc 0.932\n",
      "2017-03-29T20:02:22.625441: step 283, loss 0.188193, acc 0.938\n",
      "2017-03-29T20:02:22.960018: step 284, loss 0.224881, acc 0.918\n",
      "2017-03-29T20:02:23.287688: step 285, loss 0.178074, acc 0.952\n",
      "2017-03-29T20:02:23.640448: step 286, loss 0.228616, acc 0.944\n",
      "2017-03-29T20:02:23.983257: step 287, loss 0.19303, acc 0.938\n",
      "2017-03-29T20:02:24.311609: step 288, loss 0.169777, acc 0.944\n",
      "2017-03-29T20:02:24.661941: step 289, loss 0.187541, acc 0.942\n",
      "2017-03-29T20:02:25.030965: step 290, loss 0.152513, acc 0.956\n",
      "2017-03-29T20:02:25.383723: step 291, loss 0.204456, acc 0.934\n",
      "2017-03-29T20:02:25.731547: step 292, loss 0.165542, acc 0.958\n",
      "2017-03-29T20:02:26.219284: step 293, loss 0.239013, acc 0.942\n",
      "2017-03-29T20:02:26.689424: step 294, loss 0.208345, acc 0.936\n",
      "2017-03-29T20:02:27.039736: step 295, loss 0.21498, acc 0.928\n",
      "2017-03-29T20:02:27.369556: step 296, loss 0.183234, acc 0.936\n",
      "2017-03-29T20:02:27.715177: step 297, loss 0.192849, acc 0.942\n",
      "2017-03-29T20:02:28.160491: step 298, loss 0.209635, acc 0.936\n",
      "2017-03-29T20:02:28.494577: step 299, loss 0.214776, acc 0.936\n",
      "2017-03-29T20:02:28.907249: step 300, loss 0.15832, acc 0.956\n",
      "Test accuracy\n",
      "0.9511\n",
      "Saved model checkpoint to /home/csegura/repo/deeplearning-tutorials/intro_tensorflow/runs/1490810420/summaries/train/model-300\n",
      "\n"
     ]
    }
   ],
   "source": [
    "sess.run(tf.global_variables_initializer())\n",
    "\n",
    "\n",
    "# Train\n",
    "for _ in range(300):\n",
    "    batch_xs, batch_ys = mnist.train.next_batch(500)\n",
    "    feed_dict={mnist_dnn.input_x: batch_xs, mnist_dnn.input_y: batch_ys}\n",
    "    _, step, summaries, loss, accuracy = sess.run([train_op, global_step, train_summary_op, mnist_dnn.loss, mnist_dnn.accuracy],  feed_dict)\n",
    "\n",
    "    time_str = datetime.datetime.now().isoformat()\n",
    "    print(\"{}: step {}, loss {:g}, acc {:g}\".format(time_str, step, loss, accuracy))\n",
    "    train_summary_writer.add_summary(summaries, step)\n",
    "\n",
    "    \n",
    "    \n",
    "# Test trained model\n",
    "print(\"Test accuracy\")\n",
    "[accuracy, _ ] =sess.run([mnist_dnn.accuracy, get_image_features_op], feed_dict={mnist_dnn.input_x: mnist.test.images,\n",
    "                                  mnist_dnn.input_y: mnist.test.labels})\n",
    "print(accuracy)\n",
    "\n",
    "path = saver.save(sess, checkpoint_prefix, global_step=step)\n",
    "print(\"Saved model checkpoint to {}\\n\".format(path))    \n",
    "sess.close()"
   ]
  },
  {
   "cell_type": "code",
   "execution_count": null,
   "metadata": {
    "collapsed": true,
    "deletable": true,
    "editable": true
   },
   "outputs": [],
   "source": []
  }
 ],
 "metadata": {
  "celltoolbar": "Slideshow",
  "kernelspec": {
   "display_name": "Python 3",
   "language": "python",
   "name": "python3"
  },
  "language_info": {
   "codemirror_mode": {
    "name": "ipython",
    "version": 3
   },
   "file_extension": ".py",
   "mimetype": "text/x-python",
   "name": "python",
   "nbconvert_exporter": "python",
   "pygments_lexer": "ipython3",
   "version": "3.5.3"
  },
  "livereveal": {
   "height": 768,
   "scroll": true,
   "start_slideshow_at": "selected",
   "width": 1024
  }
 },
 "nbformat": 4,
 "nbformat_minor": 2
}
