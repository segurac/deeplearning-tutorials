{
 "cells": [
  {
   "cell_type": "markdown",
   "metadata": {
    "deletable": true,
    "editable": true,
    "slideshow": {
     "slide_type": "slide"
    }
   },
   "source": [
    "# Introduction to Deep Learning with Tensorflow\n",
    "<br><br><br>\n",
    "\n",
    "##  Carlos Segura \n",
    "<b>\n",
    "## Associate Researcher @ TID"
   ]
  },
  {
   "cell_type": "markdown",
   "metadata": {
    "deletable": true,
    "editable": true,
    "slideshow": {
     "slide_type": "slide"
    }
   },
   "source": [
    "# What is Tensorflow?"
   ]
  },
  {
   "cell_type": "markdown",
   "metadata": {
    "deletable": true,
    "editable": true,
    "slideshow": {
     "slide_type": "fragment"
    }
   },
   "source": [
    "* TensorFlow is a deep learning library\n",
    "     * open-sourced by Google.\n",
    "* TensorFlow provides primitives for\n",
    "defining functions on tensors and\n",
    "automatically computing their derivatives.\n",
    "\n",
    "* Python library that can work with symbolic mathematical expressions\n",
    "    * *Symbolic differentation*: symbolic graphs for computing gradients\n",
    "* Optimized for multi-dimensional arrays, like numpy.ndarray\n",
    "    * Tensors\n",
    "* Same code can work in CPU or GPU"
   ]
  },
  {
   "cell_type": "markdown",
   "metadata": {
    "deletable": true,
    "editable": true,
    "slideshow": {
     "slide_type": "slide"
    }
   },
   "source": [
    "### Installing Tensorflow\n",
    "* Requirements\n",
    "    * OS: Linux, Mac OS X, Windows\n",
    "    * Python: >= 2.7 || >= 3.5\n",
    "* pip install tensorflow [tensorflow-gpu]\n",
    "\n",
    "### For running this tutorial:\n",
    "* pip install tensorflow notebook matplotlib RISE\n",
    "* jupyter-nbextension install rise --py --sys-prefix\n",
    "* jupyter-nbextension enable rise --py --sys-prefix\n",
    " "
   ]
  },
  {
   "cell_type": "markdown",
   "metadata": {
    "deletable": true,
    "editable": true,
    "slideshow": {
     "slide_type": "slide"
    }
   },
   "source": [
    "## Basic usage:\n",
    "\n",
    "* Represent computations as graphs\n",
    "* Execute graphs in the context of sessions\n",
    "* Represent data as tensors\n",
    "* Maintain state with Variables\n",
    "* Use feeds and fetches to get data in and out of graph executions"
   ]
  },
  {
   "cell_type": "markdown",
   "metadata": {
    "deletable": true,
    "editable": true,
    "slideshow": {
     "slide_type": "slide"
    }
   },
   "source": [
    "## Tensorflow graphs"
   ]
  },
  {
   "cell_type": "code",
   "execution_count": 1,
   "metadata": {
    "collapsed": false,
    "deletable": true,
    "editable": true,
    "slideshow": {
     "slide_type": "fragment"
    }
   },
   "outputs": [],
   "source": [
    "## Graphs\n",
    "import tensorflow as tf\n",
    "\n",
    "# Create a Constant op that produces a 1x2 matrix.  The op is\n",
    "# added as a node to the default graph.\n",
    "#\n",
    "# The value returned by the constructor represents the output\n",
    "# of the Constant op.\n",
    "matrix1 = tf.constant([[3., 3.]])\n",
    "\n",
    "# Create another Constant that produces a 2x1 matrix.\n",
    "matrix2 = tf.constant([[2.],[2.]])\n",
    "\n",
    "# Create a Matmul op that takes 'matrix1' and 'matrix2' as inputs.\n",
    "# The returned value, 'product', represents the result of the matrix\n",
    "# multiplication.\n",
    "product = tf.matmul(matrix1, matrix2)"
   ]
  },
  {
   "cell_type": "markdown",
   "metadata": {
    "deletable": true,
    "editable": true,
    "slideshow": {
     "slide_type": "slide"
    }
   },
   "source": [
    "## Execute graphs in the context of sessions"
   ]
  },
  {
   "cell_type": "code",
   "execution_count": 2,
   "metadata": {
    "collapsed": false,
    "deletable": true,
    "editable": true,
    "slideshow": {
     "slide_type": "fragment"
    }
   },
   "outputs": [
    {
     "name": "stdout",
     "output_type": "stream",
     "text": [
      "[[ 12.]]\n"
     ]
    }
   ],
   "source": [
    "#To actually multiply the matrices, and get the result of the multiplication, you must launch the graph in a session.\n",
    "# Launch the default graph.\n",
    "sess = tf.Session()\n",
    "\n",
    "# To run the matmul op we call the session 'run()' method, passing 'product'\n",
    "# which represents the output of the matmul op.  This indicates to the call\n",
    "# that we want to get the output of the matmul op back.\n",
    "#\n",
    "# All inputs needed by the op are run automatically by the session.  They\n",
    "# typically are run in parallel.\n",
    "#\n",
    "# The call 'run(product)' thus causes the execution of three ops in the\n",
    "# graph: the two constants and matmul.\n",
    "#\n",
    "# The output of the op is returned in 'result' as a numpy `ndarray` object.\n",
    "result = sess.run(product)\n",
    "print(result)\n",
    "# ==> [[ 12.]]\n",
    "\n",
    "# Close the Session when we're done.\n",
    "sess.close()"
   ]
  },
  {
   "cell_type": "code",
   "execution_count": 3,
   "metadata": {
    "collapsed": false,
    "deletable": true,
    "editable": true,
    "slideshow": {
     "slide_type": "subslide"
    }
   },
   "outputs": [
    {
     "name": "stdout",
     "output_type": "stream",
     "text": [
      "[array([[ 12.]], dtype=float32)]\n"
     ]
    }
   ],
   "source": [
    "# Sessions should be closed to release resources.\n",
    "# You can also enter a Session with a \"with\" block. \n",
    "# The Session closes automatically at the end of the with block.\n",
    "\n",
    "\n",
    "with tf.Session() as sess:\n",
    "  result = sess.run([product])\n",
    "  print(result)"
   ]
  },
  {
   "cell_type": "code",
   "execution_count": 4,
   "metadata": {
    "collapsed": true,
    "deletable": true,
    "editable": true,
    "slideshow": {
     "slide_type": "fragment"
    }
   },
   "outputs": [],
   "source": [
    "#\n",
    "with tf.Session() as sess:\n",
    "  with tf.device(\"/cpu:0\"): #/cpu:0 /gpu:0 /gpu:1 /gpu:2\n",
    "    matrix1 = tf.constant([[3., 3.]])\n",
    "    matrix2 = tf.constant([[2.],[2.]])\n",
    "    product = tf.matmul(matrix1, matrix2)"
   ]
  },
  {
   "cell_type": "markdown",
   "metadata": {
    "deletable": true,
    "editable": true,
    "slideshow": {
     "slide_type": "slide"
    }
   },
   "source": [
    "## Maintain state with Variables"
   ]
  },
  {
   "cell_type": "code",
   "execution_count": 5,
   "metadata": {
    "collapsed": false,
    "deletable": true,
    "editable": true,
    "slideshow": {
     "slide_type": "fragment"
    }
   },
   "outputs": [
    {
     "name": "stdout",
     "output_type": "stream",
     "text": [
      "0\n",
      "1\n",
      "2\n",
      "3\n"
     ]
    }
   ],
   "source": [
    "# Create a Variable, that will be initialized to the scalar value 0.\n",
    "state = tf.Variable(0, name=\"counter\")\n",
    "\n",
    "# Create an Op to add one to `state`.\n",
    "\n",
    "one = tf.constant(1)\n",
    "new_value = tf.add(state, one)\n",
    "update = tf.assign(state, new_value)\n",
    "\n",
    "# Variables must be initialized by running an `init` Op after having\n",
    "# launched the graph.  We first have to add the `init` Op to the graph.\n",
    "init_op = tf.global_variables_initializer()\n",
    "\n",
    "# Launch the graph and run the ops.\n",
    "with tf.Session() as sess:\n",
    "  # Run the 'init' op\n",
    "  sess.run(init_op)\n",
    "  # Print the initial value of 'state'\n",
    "  print(sess.run(state))\n",
    "  # Run the op that updates 'state' and print 'state'.\n",
    "  for _ in range(3):\n",
    "    sess.run(update)\n",
    "    print(sess.run(state))\n"
   ]
  },
  {
   "cell_type": "markdown",
   "metadata": {
    "deletable": true,
    "editable": true,
    "slideshow": {
     "slide_type": "slide"
    }
   },
   "source": [
    "## Use feeds and fetches to get data in and out of graph executions"
   ]
  },
  {
   "cell_type": "code",
   "execution_count": 6,
   "metadata": {
    "collapsed": false,
    "deletable": true,
    "editable": true,
    "slideshow": {
     "slide_type": "fragment"
    }
   },
   "outputs": [
    {
     "name": "stdout",
     "output_type": "stream",
     "text": [
      "[array([ 21.], dtype=float32), array([ 7.], dtype=float32)]\n"
     ]
    }
   ],
   "source": [
    "#Fetches:\n",
    "input1 = tf.constant([3.0])\n",
    "input2 = tf.constant([2.0])\n",
    "input3 = tf.constant([5.0])\n",
    "intermed = tf.add(input2, input3)\n",
    "mul = input1 * intermed\n",
    "\n",
    "with tf.Session() as sess:\n",
    "  result = sess.run([mul, intermed])\n",
    "  print(result)\n"
   ]
  },
  {
   "cell_type": "code",
   "execution_count": 7,
   "metadata": {
    "collapsed": false,
    "deletable": true,
    "editable": true,
    "slideshow": {
     "slide_type": "fragment"
    }
   },
   "outputs": [
    {
     "name": "stdout",
     "output_type": "stream",
     "text": [
      "[array([ 14.], dtype=float32)]\n"
     ]
    }
   ],
   "source": [
    "#Feeds\n",
    "input1 = tf.placeholder(tf.float32)\n",
    "input2 = tf.placeholder(tf.float32)\n",
    "output = input1 * input2\n",
    "\n",
    "with tf.Session() as sess:\n",
    "  print(sess.run([output], feed_dict={input1:[7.], input2:[2.]}))"
   ]
  },
  {
   "cell_type": "markdown",
   "metadata": {
    "deletable": true,
    "editable": true,
    "slideshow": {
     "slide_type": "slide"
    }
   },
   "source": [
    "## Linear Regression example\n",
    "\n",
    "<img src=\"http://www.atmos.washington.edu/~robwood/teaching/451/labs/images/concepts12.jpg\">"
   ]
  },
  {
   "cell_type": "code",
   "execution_count": 8,
   "metadata": {
    "collapsed": false,
    "deletable": true,
    "editable": true,
    "slideshow": {
     "slide_type": "slide"
    }
   },
   "outputs": [
    {
     "name": "stdout",
     "output_type": "stream",
     "text": [
      "Once deleted, variables cannot be recovered. Proceed (y/[n])? y\n"
     ]
    },
    {
     "data": {
      "image/png": "[encoded data removed]",
      "text/plain": [
       "<matplotlib.figure.Figure at 0x7f42c257f470>"
      ]
     },
     "metadata": {},
     "output_type": "display_data"
    }
   ],
   "source": [
    "%reset\n",
    "import numpy as np\n",
    "trainX = np.linspace(-1,1, 200 )\n",
    "trainY = (2 * trainX + 1.0 + np.random.randn(*trainX.shape)*0.8)\n",
    "\n",
    "%matplotlib inline\n",
    "import matplotlib.pyplot as plt\n",
    "fig = plt.figure( figsize=(8, 8))\n",
    "plt.plot(trainX, trainY, 'bo', markeredgecolor='none')\n",
    "plt.ylabel('Line with noise')\n",
    "plt.show()"
   ]
  },
  {
   "cell_type": "code",
   "execution_count": 9,
   "metadata": {
    "collapsed": false,
    "deletable": true,
    "editable": true,
    "slideshow": {
     "slide_type": "slide"
    }
   },
   "outputs": [],
   "source": [
    "import tensorflow as tf\n",
    "\n",
    "\n",
    "X = tf.placeholder(\"float\", [None, 1])\n",
    "Y = tf.placeholder(\"float\", [None, 1])\n",
    "\n",
    "# Set model weights\n",
    "w = tf.Variable(np.random.randn(), name=\"weight\")\n",
    "b = tf.Variable(np.random.randn(), name=\"bias\")\n",
    "\n",
    "# our model y=xw+b\n",
    "prediction = X*w + b\n",
    "loss = tf.reduce_mean(tf.pow(prediction-Y, 2))\n",
    "\n",
    "var_grads = tf.gradients(loss, [w,b])\n",
    "\n",
    "learning_rate = tf.constant(0.3)\n",
    "\n",
    "new_w =  w - var_grads[0] * learning_rate \n",
    "new_b =  b - var_grads[1] * learning_rate\n",
    "\n",
    "update_w = tf.assign(w, new_w)\n",
    "update_b = tf.assign(b, new_b)\n",
    "\n",
    "init_op = tf.global_variables_initializer()\n",
    "\n",
    "\n",
    "\n"
   ]
  },
  {
   "cell_type": "code",
   "execution_count": 10,
   "metadata": {
    "collapsed": false,
    "deletable": true,
    "editable": true,
    "slideshow": {
     "slide_type": "slide"
    }
   },
   "outputs": [
    {
     "data": {
      "image/png": "[encoded data removed]",
      "text/plain": [
       "<matplotlib.figure.Figure at 0x7f42b8731278>"
      ]
     },
     "metadata": {},
     "output_type": "display_data"
    },
    {
     "name": "stdout",
     "output_type": "stream",
     "text": [
      "Cost:  0.556291  w: [1.7267303]  b: [1.0453848]\n"
     ]
    },
    {
     "data": {
      "image/png": "[encoded data removed]",
      "text/plain": [
       "<matplotlib.figure.Figure at 0x7f42b8731278>"
      ]
     },
     "metadata": {},
     "output_type": "display_data"
    }
   ],
   "source": [
    "%matplotlib inline\n",
    "import time\n",
    "import pylab as plt\n",
    "from IPython import display\n",
    "\n",
    "fig = plt.figure( figsize=(10, 10))\n",
    "with tf.Session() as sess:\n",
    "    sess.run(init_op)\n",
    "    for epoch in range(15):\n",
    "        [current_loss, _, _ ] = sess.run(\n",
    "                [loss, update_w, update_b ], \n",
    "                feed_dict={X:trainX.reshape([-1,1]), Y:trainY.reshape([-1,1])})\n",
    "        current_w = sess.run([w])\n",
    "        current_b = sess.run([b])\n",
    "        \n",
    "\n",
    "        plt.clf()\n",
    "        plt.plot(trainX, trainY,'o',color='b', markeredgecolor='none')\n",
    "        plt.plot(trainX, trainX*current_w + current_b, color='r',)\n",
    "        print('Cost: ', current_loss,' w:',current_w, ' b:',current_b)\n",
    "        display.clear_output(wait=True)\n",
    "        display.display(plt.gcf())\n",
    "\n",
    "print('Cost: ', current_loss,' w:',current_w, ' b:',current_b)"
   ]
  },
  {
   "cell_type": "markdown",
   "metadata": {
    "deletable": true,
    "editable": true,
    "slideshow": {
     "slide_type": "slide"
    }
   },
   "source": [
    "## CNN example with MNIST\n",
    "\n",
    "Dataset of images of handwritten digits like these\n",
    "\n",
    "<div style=\"width: 400px\">\n",
    "![esto puede in en el style float:left;](https://www.tensorflow.org/images/MNIST.png)\n",
    "</div>\n",
    " Each image is 28 pixels by 28 pixels. Can be interpreted as a matrix:\n",
    "<div style=\"width: 200px\">\n",
    "![MNIST Pixels](https://www.tensorflow.org/images/MNIST-Matrix.png)\n",
    "</div>\n",
    "\n",
    "<div style=\"float:left;width: 400px\">\n",
    "![train ](https://www.tensorflow.org/images/mnist-train-xs.png)\n",
    "</div>\n",
    "\n",
    "<div style=\"float:right;width: 500px\">\n",
    "![1hot labels ](https://www.tensorflow.org/images/mnist-train-ys.png)\n",
    "</div>\n",
    "<br><br><br><br><br><br><br><br><br>\n",
    "Images are = [55000, 28 ,28]    \n",
    "reshaped into [5500, 784]         \n",
    "\n",
    "Labels are [55000, 10]\n",
    "(One-hot encoding of classes)\n"
   ]
  },
  {
   "cell_type": "code",
   "execution_count": 11,
   "metadata": {
    "collapsed": false,
    "deletable": true,
    "editable": true,
    "slideshow": {
     "slide_type": "slide"
    }
   },
   "outputs": [
    {
     "name": "stdout",
     "output_type": "stream",
     "text": [
      "Once deleted, variables cannot be recovered. Proceed (y/[n])? y\n",
      "Extracting ./MNIST_DATA/train-images-idx3-ubyte.gz\n",
      "Extracting ./MNIST_DATA/train-labels-idx1-ubyte.gz\n",
      "Extracting ./MNIST_DATA/t10k-images-idx3-ubyte.gz\n",
      "Extracting ./MNIST_DATA/t10k-labels-idx1-ubyte.gz\n"
     ]
    }
   ],
   "source": [
    "%reset\n",
    "import argparse\n",
    "import sys\n",
    "import os\n",
    "import time\n",
    "import datetime\n",
    "\n",
    "import tensorflow as tf\n",
    "from tensorflow.examples.tutorials.mnist import input_data\n",
    "tf.reset_default_graph()\n",
    "\n",
    "\n",
    "\n",
    "mnist = input_data.read_data_sets(\"./MNIST_DATA\", one_hot=True)\n"
   ]
  },
  {
   "cell_type": "code",
   "execution_count": 12,
   "metadata": {
    "collapsed": false,
    "deletable": true,
    "editable": true,
    "slideshow": {
     "slide_type": "subslide"
    }
   },
   "outputs": [],
   "source": [
    "class MNIST_CNN():\n",
    "    \"\"\"\n",
    "    A network for a classifier of digit images.\n",
    "    Input are 2D grayscale images reshaped into a vector, and the labels\n",
    "    in one-hot encoding\n",
    "    Uses 2 Conv Layers, 1 hidden layer and softmax layer.\n",
    "    \"\"\"\n",
    "    def __init__(self, img_length, hidden_layer_size = 256, num_classes=10):\n",
    "        self.input_x = tf.placeholder(tf.float32, \n",
    "                            [None, img_length], name=\"input_x\")\n",
    "        self.input_y = tf.placeholder(tf.float32, \n",
    "                            [None, num_classes], name=\"input_y\")\n",
    "\n",
    "        # Input Layer\n",
    "        # Dimesnions are [batch_size, image_width, image_height, channels]\n",
    "        self.input_layer = tf.reshape(self.input_x, [-1, 28, 28, 1]) \n",
    "\n",
    "\n",
    "        # Convolutional Layer #1\n",
    "        with tf.name_scope(\"Conv_1\"):\n",
    "            nfilters1=8\n",
    "            self.W_conv1=tf.Variable(\n",
    "                tf.truncated_normal([5, 5, 1, nfilters1], stddev=0.1), \n",
    "                name=\"W\")\n",
    "            b = tf.Variable(\n",
    "                tf.constant(0.1, shape=[nfilters1]), \n",
    "                name=\"b\")\n",
    "            conv_out = tf.nn.conv2d(self.input_layer, self.W_conv1, \n",
    "                                 strides=[1, 1, 1, 1], padding='SAME') \n",
    "            self.conv1 = tf.nn.relu(conv_out + b)\n",
    "            self.pool1 = tf.nn.max_pool(self.conv1, ksize=[1, 2, 2, 1],\n",
    "                        strides=[1, 2, 2, 1], padding='SAME')\n",
    "\n",
    "            \n",
    "            #self.conv1 = tf.layers.conv2d(\n",
    "            #      inputs=self.input_layer,\n",
    "            #      filters=32,\n",
    "            #      kernel_size=[5, 5],\n",
    "            #      padding=\"same\",\n",
    "            #      activation=tf.nn.relu)\n",
    "            # Pooling Layer #1\n",
    "            #self.pool1 = tf.layers.max_pooling2d(inputs=self.conv1,\n",
    "            #pool_size=[2, 2], strides=2)\n",
    "\n",
    "        # Convolutional Layer #2 and Pooling Layer #2\n",
    "        with tf.name_scope(\"Conv_2\"):\n",
    "            nfilters2=16\n",
    "            self.W_conv2=tf.Variable(\n",
    "                tf.truncated_normal([3, 3, nfilters1, nfilters2], stddev=0.1), \n",
    "                name=\"W\")\n",
    "            b = tf.Variable(\n",
    "                tf.constant(0.1, shape=[nfilters2]), \n",
    "                name=\"b\")\n",
    "            \n",
    "            conv_out = tf.nn.conv2d(self.pool1, self.W_conv2, \n",
    "                                 strides=[1, 1, 1, 1], padding='SAME') \n",
    "            self.conv2 = tf.nn.relu(conv_out + b)\n",
    "            self.pool2 = tf.nn.max_pool(self.conv2, ksize=[1, 2, 2, 1],\n",
    "                        strides=[1, 2, 2, 1], padding='SAME')\n",
    "\n",
    "            #self.conv2 = tf.layers.conv2d(\n",
    "            #      inputs=self.pool1,\n",
    "            #      filters=64,\n",
    "            #      kernel_size=[5, 5],\n",
    "            #      padding=\"same\",\n",
    "            #      activation=tf.nn.relu)\n",
    "            #self.pool2 = tf.layers.max_pooling2d(inputs=self.conv2, pool_size=[2, 2], strides=2)\n",
    "\n",
    "        #Flat feature maps\n",
    "        self.pool2_flat = tf.reshape(self.pool2, \n",
    "                                     [-1, 7 * 7 * nfilters2])\n",
    "\n",
    "        # Dense Layer\n",
    "        with tf.name_scope(\"hidden_layer_1\"):\n",
    "            W = tf.Variable(\n",
    "                tf.truncated_normal([7 * 7 * nfilters2, hidden_layer_size], stddev=0.1),\n",
    "                name=\"W\")\n",
    "            b = tf.Variable(\n",
    "                tf.constant(0.1, shape=[hidden_layer_size]), \n",
    "                name=\"b\")\n",
    "            self.hl1 = tf.nn.relu ( tf.matmul(self.pool2_flat, W) + b )\n",
    "            #dense = tf.layers.dense(inputs=pool2_flat, units=1024, activation=tf.nn.relu)\n",
    "\n",
    "\n",
    "\n",
    "        with tf.name_scope(\"softmax_layer\"):\n",
    "            W = tf.Variable(\n",
    "                tf.truncated_normal([hidden_layer_size, num_classes], stddev=0.1), \n",
    "                name=\"W\")\n",
    "            b = tf.Variable(\n",
    "                tf.constant(0.1, shape=[num_classes]), \n",
    "                name=\"b\")\n",
    "            self.scores = tf.nn.xw_plus_b(self.hl1, W, b, \n",
    "                                          name=\"scores\")\n",
    "            self.predictions = tf.argmax(self.scores, 1, \n",
    "                                         name=\"predictions\")\n",
    "\n",
    "\n",
    "        # CalculateMean cross-entropy loss\n",
    "        with tf.name_scope(\"loss\"):\n",
    "            losses = tf.nn.softmax_cross_entropy_with_logits(\n",
    "                logits=self.scores, labels=self.input_y)\n",
    "            self.loss = tf.reduce_mean(losses)\n",
    "\n",
    "        # Accuracy\n",
    "        with tf.name_scope(\"accuracy\"):\n",
    "            correct_predictions = tf.equal(self.predictions, \n",
    "                                           tf.argmax(self.input_y, 1))\n",
    "            self.accuracy = tf.reduce_mean(\n",
    "                tf.cast(correct_predictions, \"float\"), name=\"accuracy\")\n",
    "\n",
    "\n",
    "            \n",
    "            \n",
    "            "
   ]
  },
  {
   "cell_type": "code",
   "execution_count": 13,
   "metadata": {
    "collapsed": false,
    "deletable": true,
    "editable": true,
    "slideshow": {
     "slide_type": "slide"
    }
   },
   "outputs": [],
   "source": [
    "#sess = tf.Session()\n",
    "sess = tf.InteractiveSession() #for running inside notebook\n",
    "\n",
    "mnist_dnn = MNIST_CNN(img_length=784, \n",
    "                      hidden_layer_size = 128, num_classes=10)\n",
    "\n",
    "    # Define Training procedure\n",
    "global_step = tf.Variable(0, name=\"global_step\", trainable=False)\n",
    "train_op = tf.train.GradientDescentOptimizer(0.05).minimize(\n",
    "    mnist_dnn.loss, global_step=global_step)\n"
   ]
  },
  {
   "cell_type": "code",
   "execution_count": 14,
   "metadata": {
    "collapsed": false,
    "deletable": true,
    "editable": true,
    "slideshow": {
     "slide_type": "slide"
    }
   },
   "outputs": [
    {
     "name": "stdout",
     "output_type": "stream",
     "text": [
      "Writing to /home/csp/work/deeplearning-tutorials-workspace/intro_tensorflow/runs/1490822875\n",
      "\n",
      "Conv_1/W:0\n",
      "Conv_1/b:0\n",
      "Conv_2/W:0\n",
      "Conv_2/b:0\n",
      "hidden_layer_1/W:0\n",
      "hidden_layer_1/b:0\n",
      "softmax_layer/W:0\n",
      "softmax_layer/b:0\n"
     ]
    }
   ],
   "source": [
    "from tensorflow.contrib.tensorboard.plugins import projector\n",
    "import numpy as np\n",
    "\n",
    "timestamp = str(int(time.time()))\n",
    "out_dir = os.path.abspath(os.path.join(os.path.curdir, \"runs\", timestamp))\n",
    "print(\"Writing to {}\\n\".format(out_dir))\n",
    "\n",
    "# Summaries for loss and accuracy\n",
    "loss_summary = tf.summary.scalar(\"loss\", mnist_dnn.loss)\n",
    "acc_summary = tf.summary.scalar(\"accuracy\", mnist_dnn.accuracy)\n",
    "\n",
    "\n",
    "with tf.name_scope('var_summary'):\n",
    "    for var in tf.trainable_variables():\n",
    "        with tf.name_scope(var.name.split(':')[0]):\n",
    "            print(var.name)\n",
    "            mean = tf.reduce_mean(var)\n",
    "            tf.summary.scalar('mean', mean)\n",
    "            with tf.name_scope('stddev'):\n",
    "                stddev = tf.sqrt(tf.reduce_mean(tf.square(var - mean)))\n",
    "            tf.summary.scalar('stddev', stddev)\n",
    "            tf.summary.scalar('max', tf.reduce_max(var))\n",
    "            tf.summary.scalar('min', tf.reduce_min(var))\n",
    "            tf.summary.histogram('histogram', var)\n",
    "\n",
    "with tf.variable_scope('visualization_conv1'):\n",
    "    # scale weights to [0 1], type is still float\n",
    "    kernel = mnist_dnn.W_conv1\n",
    "    x_min = tf.reduce_min(kernel)\n",
    "    x_max = tf.reduce_max(kernel)\n",
    "    kernel_0_to_1 = (kernel - x_min) / (x_max - x_min)\n",
    "\n",
    "    # to tf.image_summary format [batch_size, height, width, channels]\n",
    "    kernel_transposed = tf.transpose (kernel_0_to_1, [3, 0, 1, 2])\n",
    "\n",
    "    # this will display random 3 filters from the 32 in conv1\n",
    "    tf.summary.image('filters', kernel_transposed, max_outputs=16)\n",
    "\n",
    "with tf.variable_scope('visualization_conv2'):    \n",
    "    kernel = mnist_dnn.W_conv2\n",
    "    x_min = tf.reduce_min(kernel)\n",
    "    x_max = tf.reduce_max(kernel)\n",
    "    kernel_0_to_1 = (kernel - x_min) / (x_max - x_min)\n",
    "\n",
    "    # to tf.image_summary format [batch_size, height, width, channels]\n",
    "    kernel_transposed = tf.transpose (kernel_0_to_1, [3, 0, 1, 2])\n",
    "    kernel_transposed = tf.slice(kernel_transposed, [0, 0, 0,0], [-1, -1, -1, 1]) \n",
    "\n",
    "    # this will display random 3 filters from the 32 in conv1\n",
    "    tf.summary.image('conv2/filters', kernel_transposed, max_outputs=16)\n",
    "            \n",
    "image_features = tf.Variable(tf.truncated_normal([10000, 128], stddev=0.1), trainable=False, name='image_features')\n",
    "# Train Summaries\n",
    "#train_summary_op = tf.summary.merge([loss_summary, acc_summary ])\n",
    "train_summary_op = tf.summary.merge_all()\n",
    "train_summary_dir = os.path.join(out_dir, \"summaries\", \"train\")\n",
    "train_summary_writer = tf.summary.FileWriter(train_summary_dir, sess.graph)\n",
    "\n",
    "\n",
    "\n",
    "config = projector.ProjectorConfig()\n",
    "embed= config.embeddings.add()\n",
    "embed.tensor_name = image_features.name\n",
    "embed.metadata_path = os.path.join(train_summary_dir + '/metadata.tsv')\n",
    "embed.sprite.image_path = os.path.join(train_summary_dir + '/mnist_10k_sprite.png')\n",
    "from shutil import copyfile\n",
    "copyfile('./mnist_10k_sprite.png', os.path.join(train_summary_dir + '/mnist_10k_sprite.png'))\n",
    "\n",
    "# Specify the width and height of a single thumbnail.\n",
    "embed.sprite.single_image_dim.extend([28, 28])\n",
    "projector.visualize_embeddings(train_summary_writer, config)\n",
    "\n",
    "def save_metadata(file):\n",
    "    with open(file, 'w') as f:\n",
    "        for i in range(10000):\n",
    "            c = np.nonzero(mnist.test.labels[::1])[1:][0][i]\n",
    "            f.write('{}\\n'.format(c))\n",
    "\n",
    "save_metadata(embed.metadata_path)\n",
    "get_image_features_op = tf.assign(image_features, mnist_dnn.hl1)"
   ]
  },
  {
   "cell_type": "code",
   "execution_count": 15,
   "metadata": {
    "collapsed": false,
    "deletable": true,
    "editable": true,
    "slideshow": {
     "slide_type": "slide"
    }
   },
   "outputs": [],
   "source": [
    "\n",
    "checkpoint_prefix = os.path.join(train_summary_dir, \"model\")\n",
    "if not os.path.exists(checkpoint_prefix):\n",
    "    os.makedirs(checkpoint_prefix)\n",
    "saver = tf.train.Saver(tf.global_variables(), max_to_keep=5)"
   ]
  },
  {
   "cell_type": "code",
   "execution_count": 16,
   "metadata": {
    "collapsed": false,
    "deletable": true,
    "editable": true,
    "slideshow": {
     "slide_type": "slide"
    }
   },
   "outputs": [
    {
     "name": "stdout",
     "output_type": "stream",
     "text": [
      "2017-03-29T23:28:07.370814: step 1, loss 2.3592, acc 0.114\n",
      "2017-03-29T23:28:07.545427: step 2, loss 2.33525, acc 0.116\n",
      "2017-03-29T23:28:07.706250: step 3, loss 2.31601, acc 0.112\n",
      "2017-03-29T23:28:07.886873: step 4, loss 2.30997, acc 0.104\n",
      "2017-03-29T23:28:08.046096: step 5, loss 2.3135, acc 0.11\n",
      "2017-03-29T23:28:08.212759: step 6, loss 2.29077, acc 0.15\n",
      "2017-03-29T23:28:08.368192: step 7, loss 2.29308, acc 0.154\n",
      "2017-03-29T23:28:08.507797: step 8, loss 2.28517, acc 0.16\n",
      "2017-03-29T23:28:08.673579: step 9, loss 2.28034, acc 0.186\n",
      "2017-03-29T23:28:08.816492: step 10, loss 2.26631, acc 0.192\n",
      "2017-03-29T23:28:08.961049: step 11, loss 2.25944, acc 0.208\n",
      "2017-03-29T23:28:09.126994: step 12, loss 2.25878, acc 0.29\n",
      "2017-03-29T23:28:09.292239: step 13, loss 2.25688, acc 0.21\n",
      "2017-03-29T23:28:09.446167: step 14, loss 2.25209, acc 0.262\n",
      "2017-03-29T23:28:09.614113: step 15, loss 2.23639, acc 0.296\n",
      "2017-03-29T23:28:09.777840: step 16, loss 2.24046, acc 0.246\n",
      "2017-03-29T23:28:09.932003: step 17, loss 2.23299, acc 0.27\n",
      "2017-03-29T23:28:10.078911: step 18, loss 2.22655, acc 0.254\n",
      "2017-03-29T23:28:10.248285: step 19, loss 2.22904, acc 0.288\n",
      "2017-03-29T23:28:10.417131: step 20, loss 2.23738, acc 0.218\n",
      "2017-03-29T23:28:10.585728: step 21, loss 2.19774, acc 0.362\n",
      "2017-03-29T23:28:10.749086: step 22, loss 2.19467, acc 0.348\n",
      "2017-03-29T23:28:10.887943: step 23, loss 2.19239, acc 0.32\n",
      "2017-03-29T23:28:11.045804: step 24, loss 2.18864, acc 0.36\n",
      "2017-03-29T23:28:11.213062: step 25, loss 2.16566, acc 0.392\n",
      "2017-03-29T23:28:11.389253: step 26, loss 2.17653, acc 0.34\n",
      "2017-03-29T23:28:11.556235: step 27, loss 2.15821, acc 0.362\n",
      "2017-03-29T23:28:11.720179: step 28, loss 2.13382, acc 0.466\n",
      "2017-03-29T23:28:11.865405: step 29, loss 2.13404, acc 0.398\n",
      "2017-03-29T23:28:12.035010: step 30, loss 2.11341, acc 0.446\n",
      "2017-03-29T23:28:12.196582: step 31, loss 2.10517, acc 0.464\n",
      "2017-03-29T23:28:12.346099: step 32, loss 2.06747, acc 0.528\n",
      "2017-03-29T23:28:12.515168: step 33, loss 2.07171, acc 0.456\n",
      "2017-03-29T23:28:12.650617: step 34, loss 2.02326, acc 0.496\n",
      "2017-03-29T23:28:12.805612: step 35, loss 2.02944, acc 0.558\n",
      "2017-03-29T23:28:12.967356: step 36, loss 1.98794, acc 0.526\n",
      "2017-03-29T23:28:13.115555: step 37, loss 1.95578, acc 0.596\n",
      "2017-03-29T23:28:13.289145: step 38, loss 1.94482, acc 0.578\n",
      "2017-03-29T23:28:13.459462: step 39, loss 1.88845, acc 0.644\n",
      "2017-03-29T23:28:13.625583: step 40, loss 1.881, acc 0.582\n",
      "2017-03-29T23:28:13.770399: step 41, loss 1.79858, acc 0.63\n",
      "2017-03-29T23:28:13.911832: step 42, loss 1.74326, acc 0.658\n",
      "2017-03-29T23:28:14.055100: step 43, loss 1.70816, acc 0.648\n",
      "2017-03-29T23:28:14.199717: step 44, loss 1.69659, acc 0.638\n",
      "2017-03-29T23:28:14.361014: step 45, loss 1.61345, acc 0.64\n",
      "2017-03-29T23:28:14.507364: step 46, loss 1.5299, acc 0.712\n",
      "2017-03-29T23:28:14.672567: step 47, loss 1.3934, acc 0.68\n",
      "2017-03-29T23:28:14.815679: step 48, loss 1.42403, acc 0.644\n",
      "2017-03-29T23:28:14.974567: step 49, loss 1.43555, acc 0.678\n",
      "2017-03-29T23:28:15.122341: step 50, loss 1.4541, acc 0.584\n",
      "2017-03-29T23:28:15.270735: step 51, loss 1.39905, acc 0.6\n",
      "2017-03-29T23:28:15.427631: step 52, loss 1.38001, acc 0.57\n",
      "2017-03-29T23:28:15.578198: step 53, loss 1.47512, acc 0.574\n",
      "2017-03-29T23:28:15.715078: step 54, loss 1.44338, acc 0.546\n",
      "2017-03-29T23:28:15.878702: step 55, loss 1.57729, acc 0.5\n",
      "2017-03-29T23:28:16.027471: step 56, loss 1.49012, acc 0.576\n",
      "2017-03-29T23:28:16.188412: step 57, loss 1.16917, acc 0.644\n",
      "2017-03-29T23:28:16.356454: step 58, loss 1.02465, acc 0.68\n",
      "2017-03-29T23:28:16.518587: step 59, loss 0.997024, acc 0.73\n",
      "2017-03-29T23:28:16.683138: step 60, loss 1.07703, acc 0.658\n",
      "2017-03-29T23:28:16.837445: step 61, loss 1.12482, acc 0.642\n",
      "2017-03-29T23:28:17.004182: step 62, loss 1.17489, acc 0.612\n",
      "2017-03-29T23:28:17.160981: step 63, loss 1.07007, acc 0.662\n",
      "2017-03-29T23:28:17.319650: step 64, loss 0.832941, acc 0.756\n",
      "2017-03-29T23:28:17.466940: step 65, loss 1.03565, acc 0.67\n",
      "2017-03-29T23:28:17.616752: step 66, loss 0.917293, acc 0.704\n",
      "2017-03-29T23:28:17.785163: step 67, loss 0.801882, acc 0.724\n",
      "2017-03-29T23:28:17.935125: step 68, loss 0.777218, acc 0.764\n",
      "2017-03-29T23:28:18.105760: step 69, loss 0.756882, acc 0.756\n",
      "2017-03-29T23:28:18.256933: step 70, loss 0.912157, acc 0.688\n",
      "2017-03-29T23:28:18.435287: step 71, loss 0.756024, acc 0.742\n",
      "2017-03-29T23:28:18.595694: step 72, loss 0.725628, acc 0.748\n",
      "2017-03-29T23:28:18.757274: step 73, loss 0.876211, acc 0.71\n",
      "2017-03-29T23:28:18.903721: step 74, loss 0.847489, acc 0.724\n",
      "2017-03-29T23:28:19.066995: step 75, loss 0.973869, acc 0.664\n",
      "2017-03-29T23:28:19.232036: step 76, loss 0.807165, acc 0.714\n",
      "2017-03-29T23:28:19.380597: step 77, loss 0.763229, acc 0.716\n",
      "2017-03-29T23:28:19.523049: step 78, loss 0.870959, acc 0.694\n",
      "2017-03-29T23:28:19.686601: step 79, loss 0.873991, acc 0.702\n",
      "2017-03-29T23:28:19.832217: step 80, loss 0.784905, acc 0.778\n",
      "2017-03-29T23:28:19.974941: step 81, loss 0.605483, acc 0.838\n",
      "2017-03-29T23:28:20.135257: step 82, loss 0.570494, acc 0.85\n",
      "2017-03-29T23:28:20.279664: step 83, loss 0.642922, acc 0.812\n",
      "2017-03-29T23:28:20.435416: step 84, loss 0.501999, acc 0.868\n",
      "2017-03-29T23:28:20.605052: step 85, loss 0.565149, acc 0.83\n",
      "2017-03-29T23:28:20.774500: step 86, loss 0.582385, acc 0.822\n",
      "2017-03-29T23:28:20.939498: step 87, loss 0.610951, acc 0.766\n",
      "2017-03-29T23:28:21.092323: step 88, loss 0.824891, acc 0.732\n",
      "2017-03-29T23:28:21.243631: step 89, loss 0.799402, acc 0.754\n",
      "2017-03-29T23:28:21.390785: step 90, loss 0.662902, acc 0.796\n",
      "2017-03-29T23:28:21.541063: step 91, loss 0.648033, acc 0.792\n",
      "2017-03-29T23:28:21.695768: step 92, loss 0.489744, acc 0.874\n",
      "2017-03-29T23:28:21.847551: step 93, loss 0.456499, acc 0.854\n",
      "2017-03-29T23:28:22.018349: step 94, loss 0.439808, acc 0.892\n",
      "2017-03-29T23:28:22.171723: step 95, loss 0.50017, acc 0.854\n",
      "2017-03-29T23:28:22.321910: step 96, loss 0.5358, acc 0.83\n",
      "2017-03-29T23:28:22.482365: step 97, loss 0.426577, acc 0.886\n",
      "2017-03-29T23:28:22.629631: step 98, loss 0.469784, acc 0.858\n",
      "2017-03-29T23:28:22.798038: step 99, loss 0.52849, acc 0.832\n",
      "2017-03-29T23:28:22.943526: step 100, loss 0.73767, acc 0.746\n",
      "2017-03-29T23:28:23.088960: step 101, loss 0.855004, acc 0.798\n",
      "2017-03-29T23:28:23.252071: step 102, loss 0.610552, acc 0.81\n",
      "2017-03-29T23:28:23.412998: step 103, loss 0.543778, acc 0.81\n",
      "2017-03-29T23:28:23.573545: step 104, loss 0.375847, acc 0.882\n",
      "2017-03-29T23:28:23.740413: step 105, loss 0.460863, acc 0.872\n",
      "2017-03-29T23:28:23.894404: step 106, loss 0.446589, acc 0.88\n",
      "2017-03-29T23:28:24.054582: step 107, loss 0.251849, acc 0.944\n",
      "2017-03-29T23:28:24.209232: step 108, loss 0.258075, acc 0.942\n",
      "2017-03-29T23:28:24.381172: step 109, loss 0.315039, acc 0.904\n",
      "2017-03-29T23:28:24.557329: step 110, loss 0.352366, acc 0.912\n",
      "2017-03-29T23:28:24.811195: step 111, loss 0.39363, acc 0.882\n",
      "2017-03-29T23:28:24.945938: step 112, loss 0.452944, acc 0.856\n",
      "2017-03-29T23:28:25.096037: step 113, loss 0.477082, acc 0.856\n",
      "2017-03-29T23:28:25.262271: step 114, loss 0.452067, acc 0.846\n",
      "2017-03-29T23:28:25.412929: step 115, loss 0.482169, acc 0.832\n",
      "2017-03-29T23:28:25.559011: step 116, loss 0.465909, acc 0.852\n",
      "2017-03-29T23:28:25.713640: step 117, loss 0.424003, acc 0.856\n",
      "2017-03-29T23:28:25.893910: step 118, loss 0.44013, acc 0.886\n",
      "2017-03-29T23:28:26.061639: step 119, loss 0.497031, acc 0.85\n",
      "2017-03-29T23:28:26.210640: step 120, loss 0.474216, acc 0.846\n",
      "2017-03-29T23:28:26.368189: step 121, loss 0.434361, acc 0.85\n",
      "2017-03-29T23:28:26.517053: step 122, loss 0.445962, acc 0.86\n",
      "2017-03-29T23:28:26.660530: step 123, loss 0.417895, acc 0.876\n",
      "2017-03-29T23:28:26.802177: step 124, loss 0.369128, acc 0.87\n",
      "2017-03-29T23:28:26.952058: step 125, loss 0.372633, acc 0.896\n",
      "2017-03-29T23:28:27.094018: step 126, loss 0.398623, acc 0.88\n",
      "2017-03-29T23:28:27.231091: step 127, loss 0.427443, acc 0.872\n",
      "2017-03-29T23:28:27.381224: step 128, loss 0.44683, acc 0.852\n",
      "2017-03-29T23:28:27.532346: step 129, loss 0.417741, acc 0.864\n",
      "2017-03-29T23:28:27.680324: step 130, loss 0.41642, acc 0.838\n",
      "2017-03-29T23:28:27.839963: step 131, loss 0.335075, acc 0.9\n",
      "2017-03-29T23:28:27.979623: step 132, loss 0.389165, acc 0.886\n",
      "2017-03-29T23:28:28.120083: step 133, loss 0.338245, acc 0.902\n",
      "2017-03-29T23:28:28.285322: step 134, loss 0.480506, acc 0.854\n",
      "2017-03-29T23:28:28.448478: step 135, loss 0.40374, acc 0.862\n",
      "2017-03-29T23:28:28.606253: step 136, loss 0.482377, acc 0.832\n",
      "2017-03-29T23:28:28.752707: step 137, loss 0.565729, acc 0.794\n",
      "2017-03-29T23:28:28.899637: step 138, loss 0.45729, acc 0.828\n",
      "2017-03-29T23:28:29.065641: step 139, loss 0.346369, acc 0.884\n",
      "2017-03-29T23:28:29.234133: step 140, loss 0.412566, acc 0.902\n",
      "2017-03-29T23:28:29.403853: step 141, loss 0.352853, acc 0.9\n",
      "2017-03-29T23:28:29.548487: step 142, loss 0.363811, acc 0.886\n",
      "2017-03-29T23:28:29.691360: step 143, loss 0.406509, acc 0.884\n",
      "2017-03-29T23:28:29.845509: step 144, loss 0.455817, acc 0.842\n",
      "2017-03-29T23:28:29.991799: step 145, loss 0.435081, acc 0.87\n",
      "2017-03-29T23:28:30.153566: step 146, loss 0.392141, acc 0.87\n",
      "2017-03-29T23:28:30.326917: step 147, loss 0.402785, acc 0.892\n",
      "2017-03-29T23:28:30.474354: step 148, loss 0.348975, acc 0.898\n",
      "2017-03-29T23:28:30.648775: step 149, loss 0.284886, acc 0.9\n",
      "2017-03-29T23:28:30.802660: step 150, loss 0.326825, acc 0.906\n",
      "2017-03-29T23:28:30.940529: step 151, loss 0.302203, acc 0.914\n",
      "2017-03-29T23:28:31.083933: step 152, loss 0.319952, acc 0.914\n",
      "2017-03-29T23:28:31.237981: step 153, loss 0.309175, acc 0.9\n",
      "2017-03-29T23:28:31.389080: step 154, loss 0.290864, acc 0.904\n",
      "2017-03-29T23:28:31.561509: step 155, loss 0.30406, acc 0.904\n",
      "2017-03-29T23:28:31.710373: step 156, loss 0.292759, acc 0.9\n",
      "2017-03-29T23:28:31.858561: step 157, loss 0.340137, acc 0.894\n",
      "2017-03-29T23:28:32.026018: step 158, loss 0.364034, acc 0.882\n",
      "2017-03-29T23:28:32.185115: step 159, loss 0.278303, acc 0.92\n",
      "2017-03-29T23:28:32.336592: step 160, loss 0.343487, acc 0.9\n",
      "2017-03-29T23:28:32.483522: step 161, loss 0.316347, acc 0.922\n",
      "2017-03-29T23:28:32.649295: step 162, loss 0.351574, acc 0.918\n",
      "2017-03-29T23:28:32.800825: step 163, loss 0.307573, acc 0.916\n",
      "2017-03-29T23:28:32.942325: step 164, loss 0.298078, acc 0.912\n",
      "2017-03-29T23:28:33.132718: step 165, loss 0.262327, acc 0.934\n",
      "2017-03-29T23:28:33.285611: step 166, loss 0.316983, acc 0.906\n",
      "2017-03-29T23:28:33.473989: step 167, loss 0.32013, acc 0.918\n",
      "2017-03-29T23:28:33.639926: step 168, loss 0.317068, acc 0.904\n",
      "2017-03-29T23:28:33.778332: step 169, loss 0.278243, acc 0.92\n",
      "2017-03-29T23:28:33.933745: step 170, loss 0.28209, acc 0.914\n",
      "2017-03-29T23:28:34.107946: step 171, loss 0.270157, acc 0.926\n",
      "2017-03-29T23:28:34.268942: step 172, loss 0.295189, acc 0.91\n",
      "2017-03-29T23:28:34.433004: step 173, loss 0.231178, acc 0.934\n",
      "2017-03-29T23:28:34.598105: step 174, loss 0.286884, acc 0.924\n",
      "2017-03-29T23:28:34.739823: step 175, loss 0.323222, acc 0.91\n",
      "2017-03-29T23:28:34.899605: step 176, loss 0.291519, acc 0.914\n",
      "2017-03-29T23:28:35.048349: step 177, loss 0.29316, acc 0.9\n",
      "2017-03-29T23:28:35.204370: step 178, loss 0.286814, acc 0.906\n",
      "2017-03-29T23:28:35.373649: step 179, loss 0.260207, acc 0.918\n",
      "2017-03-29T23:28:35.521664: step 180, loss 0.286557, acc 0.926\n",
      "2017-03-29T23:28:35.696533: step 181, loss 0.359329, acc 0.9\n",
      "2017-03-29T23:28:35.863619: step 182, loss 0.338977, acc 0.898\n",
      "2017-03-29T23:28:36.014337: step 183, loss 0.326212, acc 0.894\n",
      "2017-03-29T23:28:36.182505: step 184, loss 0.34423, acc 0.878\n",
      "2017-03-29T23:28:36.327705: step 185, loss 0.261007, acc 0.926\n",
      "2017-03-29T23:28:36.497931: step 186, loss 0.261764, acc 0.924\n",
      "2017-03-29T23:28:36.632184: step 187, loss 0.284216, acc 0.92\n",
      "2017-03-29T23:28:36.773418: step 188, loss 0.253338, acc 0.91\n",
      "2017-03-29T23:28:36.941094: step 189, loss 0.269976, acc 0.92\n",
      "2017-03-29T23:28:37.105595: step 190, loss 0.324666, acc 0.888\n",
      "2017-03-29T23:28:37.263434: step 191, loss 0.307121, acc 0.908\n",
      "2017-03-29T23:28:37.408311: step 192, loss 0.389301, acc 0.878\n",
      "2017-03-29T23:28:37.561591: step 193, loss 0.324054, acc 0.892\n",
      "2017-03-29T23:28:37.728761: step 194, loss 0.314237, acc 0.89\n",
      "2017-03-29T23:28:37.871390: step 195, loss 0.401441, acc 0.868\n",
      "2017-03-29T23:28:38.039128: step 196, loss 0.384817, acc 0.866\n",
      "2017-03-29T23:28:38.205962: step 197, loss 0.423429, acc 0.864\n",
      "2017-03-29T23:28:38.361816: step 198, loss 0.318898, acc 0.894\n",
      "2017-03-29T23:28:38.518762: step 199, loss 0.300295, acc 0.908\n",
      "2017-03-29T23:28:38.687279: step 200, loss 0.353614, acc 0.906\n",
      "2017-03-29T23:28:38.862892: step 201, loss 0.282022, acc 0.904\n",
      "2017-03-29T23:28:39.015362: step 202, loss 0.249799, acc 0.932\n",
      "2017-03-29T23:28:39.162825: step 203, loss 0.233809, acc 0.922\n",
      "2017-03-29T23:28:39.337614: step 204, loss 0.255611, acc 0.922\n",
      "2017-03-29T23:28:39.489961: step 205, loss 0.255014, acc 0.918\n",
      "2017-03-29T23:28:39.656119: step 206, loss 0.279808, acc 0.898\n",
      "2017-03-29T23:28:39.804355: step 207, loss 0.337552, acc 0.888\n",
      "2017-03-29T23:28:39.970667: step 208, loss 0.313605, acc 0.91\n",
      "2017-03-29T23:28:40.116819: step 209, loss 0.23627, acc 0.926\n",
      "2017-03-29T23:28:40.279673: step 210, loss 0.290983, acc 0.906\n",
      "2017-03-29T23:28:40.441399: step 211, loss 0.267853, acc 0.918\n",
      "2017-03-29T23:28:40.606593: step 212, loss 0.245724, acc 0.926\n",
      "2017-03-29T23:28:40.766546: step 213, loss 0.220079, acc 0.93\n",
      "2017-03-29T23:28:40.933590: step 214, loss 0.226632, acc 0.938\n",
      "2017-03-29T23:28:41.088209: step 215, loss 0.263512, acc 0.922\n",
      "2017-03-29T23:28:41.249533: step 216, loss 0.271043, acc 0.916\n",
      "2017-03-29T23:28:41.400609: step 217, loss 0.286346, acc 0.922\n",
      "2017-03-29T23:28:41.571279: step 218, loss 0.293563, acc 0.906\n",
      "2017-03-29T23:28:41.738667: step 219, loss 0.238911, acc 0.928\n",
      "2017-03-29T23:28:41.884691: step 220, loss 0.293116, acc 0.9\n",
      "2017-03-29T23:28:42.110864: step 221, loss 0.245867, acc 0.936\n",
      "2017-03-29T23:28:42.277706: step 222, loss 0.240217, acc 0.92\n",
      "2017-03-29T23:28:42.446587: step 223, loss 0.312282, acc 0.9\n",
      "2017-03-29T23:28:42.613531: step 224, loss 0.332609, acc 0.89\n",
      "2017-03-29T23:28:42.778089: step 225, loss 0.362313, acc 0.882\n",
      "2017-03-29T23:28:42.933859: step 226, loss 0.263401, acc 0.924\n",
      "2017-03-29T23:28:43.086987: step 227, loss 0.243186, acc 0.92\n",
      "2017-03-29T23:28:43.256075: step 228, loss 0.222384, acc 0.942\n",
      "2017-03-29T23:28:43.426275: step 229, loss 0.184948, acc 0.954\n",
      "2017-03-29T23:28:43.590206: step 230, loss 0.229806, acc 0.932\n",
      "2017-03-29T23:28:43.738598: step 231, loss 0.296385, acc 0.918\n",
      "2017-03-29T23:28:43.911289: step 232, loss 0.193643, acc 0.942\n",
      "2017-03-29T23:28:44.073754: step 233, loss 0.190728, acc 0.94\n",
      "2017-03-29T23:28:44.243800: step 234, loss 0.288134, acc 0.914\n",
      "2017-03-29T23:28:44.408376: step 235, loss 0.277804, acc 0.916\n",
      "2017-03-29T23:28:44.563724: step 236, loss 0.228934, acc 0.946\n",
      "2017-03-29T23:28:44.715899: step 237, loss 0.248095, acc 0.928\n",
      "2017-03-29T23:28:44.877377: step 238, loss 0.240596, acc 0.932\n",
      "2017-03-29T23:28:45.035727: step 239, loss 0.229441, acc 0.94\n",
      "2017-03-29T23:28:45.201572: step 240, loss 0.187494, acc 0.94\n",
      "2017-03-29T23:28:45.349721: step 241, loss 0.29248, acc 0.916\n",
      "2017-03-29T23:28:45.496785: step 242, loss 0.237664, acc 0.93\n",
      "2017-03-29T23:28:45.646487: step 243, loss 0.317253, acc 0.902\n",
      "2017-03-29T23:28:45.818569: step 244, loss 0.253132, acc 0.924\n",
      "2017-03-29T23:28:45.966903: step 245, loss 0.240253, acc 0.936\n",
      "2017-03-29T23:28:46.133839: step 246, loss 0.291605, acc 0.912\n",
      "2017-03-29T23:28:46.311980: step 247, loss 0.254135, acc 0.91\n",
      "2017-03-29T23:28:46.477416: step 248, loss 0.269711, acc 0.912\n",
      "2017-03-29T23:28:46.623972: step 249, loss 0.29316, acc 0.91\n",
      "2017-03-29T23:28:46.793502: step 250, loss 0.314604, acc 0.898\n",
      "2017-03-29T23:28:46.951015: step 251, loss 0.24715, acc 0.908\n",
      "2017-03-29T23:28:47.118803: step 252, loss 0.219886, acc 0.934\n",
      "2017-03-29T23:28:47.293122: step 253, loss 0.242026, acc 0.926\n",
      "2017-03-29T23:28:47.457015: step 254, loss 0.252935, acc 0.922\n",
      "2017-03-29T23:28:47.629245: step 255, loss 0.260314, acc 0.93\n",
      "2017-03-29T23:28:47.793797: step 256, loss 0.238502, acc 0.938\n",
      "2017-03-29T23:28:47.938607: step 257, loss 0.263768, acc 0.91\n",
      "2017-03-29T23:28:48.090050: step 258, loss 0.186556, acc 0.934\n",
      "2017-03-29T23:28:48.250474: step 259, loss 0.212864, acc 0.936\n",
      "2017-03-29T23:28:48.407538: step 260, loss 0.196545, acc 0.948\n",
      "2017-03-29T23:28:48.561689: step 261, loss 0.192925, acc 0.936\n",
      "2017-03-29T23:28:48.731593: step 262, loss 0.193877, acc 0.944\n",
      "2017-03-29T23:28:48.880551: step 263, loss 0.209196, acc 0.936\n",
      "2017-03-29T23:28:49.039892: step 264, loss 0.231949, acc 0.934\n",
      "2017-03-29T23:28:49.202753: step 265, loss 0.214037, acc 0.936\n",
      "2017-03-29T23:28:49.365771: step 266, loss 0.169222, acc 0.948\n",
      "2017-03-29T23:28:49.531746: step 267, loss 0.183216, acc 0.95\n",
      "2017-03-29T23:28:49.677769: step 268, loss 0.197479, acc 0.948\n",
      "2017-03-29T23:28:49.847555: step 269, loss 0.192673, acc 0.928\n",
      "2017-03-29T23:28:50.019835: step 270, loss 0.241182, acc 0.928\n",
      "2017-03-29T23:28:50.177889: step 271, loss 0.208785, acc 0.94\n",
      "2017-03-29T23:28:50.343581: step 272, loss 0.185874, acc 0.94\n",
      "2017-03-29T23:28:50.507674: step 273, loss 0.260119, acc 0.914\n",
      "2017-03-29T23:28:50.671731: step 274, loss 0.298751, acc 0.902\n",
      "2017-03-29T23:28:50.840080: step 275, loss 0.260725, acc 0.934\n",
      "2017-03-29T23:28:50.976411: step 276, loss 0.220878, acc 0.938\n",
      "2017-03-29T23:28:51.143964: step 277, loss 0.250255, acc 0.91\n",
      "2017-03-29T23:28:51.289015: step 278, loss 0.238142, acc 0.94\n",
      "2017-03-29T23:28:51.430214: step 279, loss 0.23461, acc 0.932\n",
      "2017-03-29T23:28:51.584161: step 280, loss 0.231468, acc 0.93\n",
      "2017-03-29T23:28:51.742454: step 281, loss 0.265427, acc 0.918\n",
      "2017-03-29T23:28:51.888660: step 282, loss 0.250296, acc 0.924\n",
      "2017-03-29T23:28:52.029484: step 283, loss 0.222216, acc 0.932\n",
      "2017-03-29T23:28:52.179488: step 284, loss 0.206322, acc 0.926\n",
      "2017-03-29T23:28:52.325925: step 285, loss 0.195338, acc 0.946\n",
      "2017-03-29T23:28:52.493887: step 286, loss 0.268706, acc 0.922\n",
      "2017-03-29T23:28:52.656596: step 287, loss 0.238795, acc 0.938\n",
      "2017-03-29T23:28:52.810200: step 288, loss 0.18478, acc 0.952\n",
      "2017-03-29T23:28:52.949045: step 289, loss 0.234883, acc 0.932\n",
      "2017-03-29T23:28:53.092819: step 290, loss 0.211064, acc 0.936\n",
      "2017-03-29T23:28:53.268727: step 291, loss 0.240034, acc 0.916\n",
      "2017-03-29T23:28:53.419052: step 292, loss 0.222006, acc 0.934\n",
      "2017-03-29T23:28:53.593154: step 293, loss 0.243127, acc 0.92\n",
      "2017-03-29T23:28:53.749019: step 294, loss 0.178972, acc 0.942\n",
      "2017-03-29T23:28:53.910884: step 295, loss 0.192331, acc 0.934\n",
      "2017-03-29T23:28:54.060553: step 296, loss 0.174524, acc 0.956\n",
      "2017-03-29T23:28:54.205463: step 297, loss 0.216696, acc 0.934\n",
      "2017-03-29T23:28:54.350905: step 298, loss 0.162605, acc 0.952\n",
      "2017-03-29T23:28:54.497787: step 299, loss 0.179226, acc 0.944\n",
      "2017-03-29T23:28:54.650887: step 300, loss 0.233602, acc 0.93\n",
      "Test accuracy\n",
      "0.946\n",
      "Saved model checkpoint to /home/csp/work/deeplearning-tutorials-workspace/intro_tensorflow/runs/1490822875/summaries/train/model-300\n",
      "\n"
     ]
    }
   ],
   "source": [
    "sess.run(tf.global_variables_initializer())\n",
    "\n",
    "\n",
    "# Train\n",
    "for _ in range(300):\n",
    "    batch_xs, batch_ys = mnist.train.next_batch(500)\n",
    "    feed_dict={mnist_dnn.input_x: batch_xs, mnist_dnn.input_y: batch_ys}\n",
    "    _, step, summaries, loss, accuracy = sess.run(\n",
    "        [train_op, global_step, train_summary_op, \n",
    "         mnist_dnn.loss, mnist_dnn.accuracy],  feed_dict)\n",
    "\n",
    "    time_str = datetime.datetime.now().isoformat()\n",
    "    print(\"{}: step {}, loss {:g}, acc {:g}\".format(time_str, step, loss, accuracy))\n",
    "    train_summary_writer.add_summary(summaries, step)\n",
    "\n",
    "    \n",
    "    \n",
    "# Test trained model\n",
    "print(\"Test accuracy\")\n",
    "[accuracy, _ ] =sess.run(\n",
    "    [mnist_dnn.accuracy, get_image_features_op], \n",
    "    feed_dict={mnist_dnn.input_x: mnist.test.images,\n",
    "               mnist_dnn.input_y: mnist.test.labels})\n",
    "print(accuracy)\n",
    "\n",
    "path = saver.save(sess, checkpoint_prefix, global_step=step)\n",
    "print(\"Saved model checkpoint to {}\\n\".format(path))    \n",
    "sess.close()"
   ]
  },
  {
   "cell_type": "code",
   "execution_count": null,
   "metadata": {
    "collapsed": true,
    "deletable": true,
    "editable": true
   },
   "outputs": [],
   "source": []
  }
 ],
 "metadata": {
  "celltoolbar": "Slideshow",
  "kernelspec": {
   "display_name": "Python 3",
   "language": "python",
   "name": "python3"
  },
  "language_info": {
   "codemirror_mode": {
    "name": "ipython",
    "version": 3
   },
   "file_extension": ".py",
   "mimetype": "text/x-python",
   "name": "python",
   "nbconvert_exporter": "python",
   "pygments_lexer": "ipython3",
   "version": "3.5.2"
  },
  "livereveal": {
   "height": 768,
   "scroll": true,
   "start_slideshow_at": "selected",
   "width": 1024
  }
 },
 "nbformat": 4,
 "nbformat_minor": 2
}
