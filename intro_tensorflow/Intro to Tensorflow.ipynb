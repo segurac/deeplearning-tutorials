{
 "cells": [
  {
   "cell_type": "markdown",
   "metadata": {
    "deletable": true,
    "editable": true,
    "slideshow": {
     "slide_type": "slide"
    }
   },
   "source": [
    "# Introduction to Deep Learning with Tensorflow\n",
    "<br><br><br>\n",
    "\n",
    "##  Carlos Segura \n",
    "<b>\n",
    "## Associate Researcher @ TID"
   ]
  },
  {
   "cell_type": "markdown",
   "metadata": {
    "deletable": true,
    "editable": true,
    "slideshow": {
     "slide_type": "slide"
    }
   },
   "source": [
    "# What is Tensorflow?"
   ]
  },
  {
   "cell_type": "markdown",
   "metadata": {
    "deletable": true,
    "editable": true,
    "slideshow": {
     "slide_type": "fragment"
    }
   },
   "source": [
    "* TensorFlow is a deep learning library\n",
    "     * open-sourced by Google.\n",
    "* TensorFlow provides primitives for\n",
    "defining functions on tensors and\n",
    "automatically computing their derivatives.\n",
    "\n",
    "* Python library that can work with symbolic mathematical expressions\n",
    "    * *Symbolic differentation*: symbolic graphs for computing gradients\n",
    "* Optimized for multi-dimensional arrays, like numpy.ndarray\n",
    "    * Tensors\n",
    "* Same code can work in CPU or GPU"
   ]
  },
  {
   "cell_type": "markdown",
   "metadata": {
    "deletable": true,
    "editable": true,
    "slideshow": {
     "slide_type": "slide"
    }
   },
   "source": [
    "### Installing Tensorflow\n",
    "* Requirements\n",
    "    * OS: Linux, Mac OS X, Windows\n",
    "    * Python: >= 2.7 || >= 3.5\n",
    "* pip install tensorflow [tensorflow-gpu]\n",
    " "
   ]
  },
  {
   "cell_type": "markdown",
   "metadata": {
    "deletable": true,
    "editable": true,
    "slideshow": {
     "slide_type": "slide"
    }
   },
   "source": [
    "## Basic usage:\n",
    "\n",
    "* Represent computations as graphs\n",
    "* Execute graphs in the context of sessions\n",
    "* Represent data as tensors\n",
    "* Maintain state with Variables\n",
    "* Use feeds and fetches to get data in and out of graph executions"
   ]
  },
  {
   "cell_type": "code",
   "execution_count": 1,
   "metadata": {
    "collapsed": false,
    "deletable": true,
    "editable": true,
    "slideshow": {
     "slide_type": "slide"
    }
   },
   "outputs": [],
   "source": [
    "## Graphs\n",
    "import tensorflow as tf\n",
    "\n",
    "# Create a Constant op that produces a 1x2 matrix.  The op is\n",
    "# added as a node to the default graph.\n",
    "#\n",
    "# The value returned by the constructor represents the output\n",
    "# of the Constant op.\n",
    "matrix1 = tf.constant([[3., 3.]])\n",
    "\n",
    "# Create another Constant that produces a 2x1 matrix.\n",
    "matrix2 = tf.constant([[2.],[2.]])\n",
    "\n",
    "# Create a Matmul op that takes 'matrix1' and 'matrix2' as inputs.\n",
    "# The returned value, 'product', represents the result of the matrix\n",
    "# multiplication.\n",
    "product = tf.matmul(matrix1, matrix2)"
   ]
  },
  {
   "cell_type": "code",
   "execution_count": 2,
   "metadata": {
    "collapsed": false,
    "deletable": true,
    "editable": true,
    "slideshow": {
     "slide_type": "slide"
    }
   },
   "outputs": [
    {
     "name": "stdout",
     "output_type": "stream",
     "text": [
      "[[ 12.]]\n"
     ]
    }
   ],
   "source": [
    "#To actually multiply the matrices, and get the result of the multiplication, you must launch the graph in a session.\n",
    "# Launch the default graph.\n",
    "sess = tf.Session()\n",
    "\n",
    "# To run the matmul op we call the session 'run()' method, passing 'product'\n",
    "# which represents the output of the matmul op.  This indicates to the call\n",
    "# that we want to get the output of the matmul op back.\n",
    "#\n",
    "# All inputs needed by the op are run automatically by the session.  They\n",
    "# typically are run in parallel.\n",
    "#\n",
    "# The call 'run(product)' thus causes the execution of three ops in the\n",
    "# graph: the two constants and matmul.\n",
    "#\n",
    "# The output of the op is returned in 'result' as a numpy `ndarray` object.\n",
    "result = sess.run(product)\n",
    "print(result)\n",
    "# ==> [[ 12.]]\n",
    "\n",
    "# Close the Session when we're done.\n",
    "sess.close()"
   ]
  },
  {
   "cell_type": "code",
   "execution_count": 3,
   "metadata": {
    "collapsed": false,
    "deletable": true,
    "editable": true,
    "slideshow": {
     "slide_type": "slide"
    }
   },
   "outputs": [
    {
     "name": "stdout",
     "output_type": "stream",
     "text": [
      "[array([[ 12.]], dtype=float32)]\n"
     ]
    }
   ],
   "source": [
    "# Sessions should be closed to release resources.\n",
    "# You can also enter a Session with a \"with\" block. \n",
    "# The Session closes automatically at the end of the with block.\n",
    "\n",
    "\n",
    "with tf.Session() as sess:\n",
    "  result = sess.run([product])\n",
    "  print(result)"
   ]
  },
  {
   "cell_type": "code",
   "execution_count": 4,
   "metadata": {
    "collapsed": true,
    "deletable": true,
    "editable": true,
    "slideshow": {
     "slide_type": "fragment"
    }
   },
   "outputs": [],
   "source": [
    "#\n",
    "with tf.Session() as sess:\n",
    "  with tf.device(\"/gpu:0\"): #/cpu:0 /gpu:0 /gpu:1 /gpu:2\n",
    "    matrix1 = tf.constant([[3., 3.]])\n",
    "    matrix2 = tf.constant([[2.],[2.]])\n",
    "    product = tf.matmul(matrix1, matrix2)"
   ]
  },
  {
   "cell_type": "code",
   "execution_count": 5,
   "metadata": {
    "collapsed": false,
    "deletable": true,
    "editable": true,
    "slideshow": {
     "slide_type": "slide"
    }
   },
   "outputs": [
    {
     "name": "stdout",
     "output_type": "stream",
     "text": [
      "0\n",
      "1\n",
      "2\n",
      "3\n"
     ]
    }
   ],
   "source": [
    "# Create a Variable, that will be initialized to the scalar value 0.\n",
    "state = tf.Variable(0, name=\"counter\")\n",
    "\n",
    "# Create an Op to add one to `state`.\n",
    "\n",
    "one = tf.constant(1)\n",
    "new_value = tf.add(state, one)\n",
    "update = tf.assign(state, new_value)\n",
    "\n",
    "# Variables must be initialized by running an `init` Op after having\n",
    "# launched the graph.  We first have to add the `init` Op to the graph.\n",
    "init_op = tf.global_variables_initializer()\n",
    "\n",
    "# Launch the graph and run the ops.\n",
    "with tf.Session() as sess:\n",
    "  # Run the 'init' op\n",
    "  sess.run(init_op)\n",
    "  # Print the initial value of 'state'\n",
    "  print(sess.run(state))\n",
    "  # Run the op that updates 'state' and print 'state'.\n",
    "  for _ in range(3):\n",
    "    sess.run(update)\n",
    "    print(sess.run(state))\n"
   ]
  },
  {
   "cell_type": "code",
   "execution_count": 6,
   "metadata": {
    "collapsed": false,
    "deletable": true,
    "editable": true,
    "slideshow": {
     "slide_type": "slide"
    }
   },
   "outputs": [
    {
     "name": "stdout",
     "output_type": "stream",
     "text": [
      "[array([ 21.], dtype=float32), array([ 7.], dtype=float32)]\n"
     ]
    }
   ],
   "source": [
    "#Fetches:\n",
    "input1 = tf.constant([3.0])\n",
    "input2 = tf.constant([2.0])\n",
    "input3 = tf.constant([5.0])\n",
    "intermed = tf.add(input2, input3)\n",
    "mul = input1 * intermed\n",
    "\n",
    "with tf.Session() as sess:\n",
    "  result = sess.run([mul, intermed])\n",
    "  print(result)\n"
   ]
  },
  {
   "cell_type": "code",
   "execution_count": 7,
   "metadata": {
    "collapsed": false,
    "deletable": true,
    "editable": true,
    "slideshow": {
     "slide_type": "slide"
    }
   },
   "outputs": [
    {
     "name": "stdout",
     "output_type": "stream",
     "text": [
      "[array([ 14.], dtype=float32)]\n"
     ]
    }
   ],
   "source": [
    "#Feeds\n",
    "input1 = tf.placeholder(tf.float32)\n",
    "input2 = tf.placeholder(tf.float32)\n",
    "output = input1 * input2\n",
    "\n",
    "with tf.Session() as sess:\n",
    "  print(sess.run([output], feed_dict={input1:[7.], input2:[2.]}))"
   ]
  },
  {
   "cell_type": "markdown",
   "metadata": {
    "deletable": true,
    "editable": true,
    "slideshow": {
     "slide_type": "slide"
    }
   },
   "source": [
    "## Linear Regression example\n",
    "\n",
    "<img src=\"http://www.atmos.washington.edu/~robwood/teaching/451/labs/images/concepts12.jpg\">"
   ]
  },
  {
   "cell_type": "code",
   "execution_count": 8,
   "metadata": {
    "collapsed": false,
    "deletable": true,
    "editable": true,
    "slideshow": {
     "slide_type": "slide"
    }
   },
   "outputs": [
    {
     "name": "stdout",
     "output_type": "stream",
     "text": [
      "Once deleted, variables cannot be recovered. Proceed (y/[n])? y\n"
     ]
    },
    {
     "data": {
      "image/png": "[encoded data removed]",
      "text/plain": [
       "<matplotlib.figure.Figure at 0x7f39b68a3ba8>"
      ]
     },
     "metadata": {},
     "output_type": "display_data"
    }
   ],
   "source": [
    "%reset\n",
    "import numpy as np\n",
    "trainX = np.linspace(-1,1, 200 )\n",
    "trainY = (2 * trainX + 1.0 + np.random.randn(*trainX.shape)*0.8)\n",
    "\n",
    "%matplotlib inline\n",
    "import matplotlib.pyplot as plt\n",
    "fig = plt.figure( figsize=(8, 8))\n",
    "plt.plot(trainX, trainY, 'bo', markeredgecolor='none')\n",
    "plt.ylabel('Line with noise')\n",
    "plt.show()"
   ]
  },
  {
   "cell_type": "code",
   "execution_count": 9,
   "metadata": {
    "collapsed": false,
    "deletable": true,
    "editable": true,
    "slideshow": {
     "slide_type": "slide"
    }
   },
   "outputs": [],
   "source": [
    "import tensorflow as tf\n",
    "\n",
    "\n",
    "X = tf.placeholder(\"float\")\n",
    "Y = tf.placeholder(\"float\")\n",
    "\n",
    "# Set model weights\n",
    "w = tf.Variable(np.random.randn(), name=\"weight\")\n",
    "b = tf.Variable(np.random.randn(), name=\"bias\")\n",
    "\n",
    "prediction = X*w + b\n",
    "loss = tf.reduce_mean(tf.pow(prediction-Y, 2))\n",
    "\n",
    "var_grads = tf.gradients(loss, [w,b])\n",
    "\n",
    "learning_rate = tf.constant(0.3)\n",
    "\n",
    "new_w =  w - var_grads[0] * learning_rate \n",
    "new_b =  b - var_grads[1] * learning_rate\n",
    "\n",
    "update_w = tf.assign(w, new_w)\n",
    "update_b = tf.assign(b, new_b)\n",
    "\n",
    "init_op = tf.global_variables_initializer()\n",
    "\n",
    "\n",
    "\n"
   ]
  },
  {
   "cell_type": "code",
   "execution_count": 10,
   "metadata": {
    "collapsed": false,
    "deletable": true,
    "editable": true,
    "slideshow": {
     "slide_type": "slide"
    }
   },
   "outputs": [
    {
     "data": {
      "image/png": "[encoded data removed]",
      "text/plain": [
       "<matplotlib.figure.Figure at 0x7f394b7efda0>"
      ]
     },
     "metadata": {},
     "output_type": "display_data"
    },
    {
     "name": "stdout",
     "output_type": "stream",
     "text": [
      "Cost:  0.573742  w: [2.1729417]  b: [1.0545049]\n"
     ]
    },
    {
     "data": {
      "image/png": "[encoded data removed]",
      "text/plain": [
       "<matplotlib.figure.Figure at 0x7f394b7efda0>"
      ]
     },
     "metadata": {},
     "output_type": "display_data"
    }
   ],
   "source": [
    "%matplotlib inline\n",
    "import time\n",
    "import pylab as plt\n",
    "from IPython import display\n",
    "\n",
    "fig = plt.figure( figsize=(10, 10))\n",
    "with tf.Session() as sess:\n",
    "    sess.run(init_op)\n",
    "    for epoch in range(15):\n",
    "        [current_loss, _, _ ] = sess.run(\n",
    "                [loss, update_w, update_b ], \n",
    "                feed_dict={X:trainX, Y:trainY})\n",
    "        current_w = sess.run([w])\n",
    "        current_b = sess.run([b])\n",
    "        \n",
    "\n",
    "        plt.clf()\n",
    "        plt.plot(trainX, trainY,'o',color='b', markeredgecolor='none')\n",
    "        plt.plot(trainX, trainX*current_w + current_b, color='r',)\n",
    "        print('Cost: ', current_loss,' w:',current_w, ' b:',current_b)\n",
    "        display.clear_output(wait=True)\n",
    "        display.display(plt.gcf())\n",
    "\n",
    "print('Cost: ', current_loss,' w:',current_w, ' b:',current_b)"
   ]
  },
  {
   "cell_type": "markdown",
   "metadata": {
    "deletable": true,
    "editable": true,
    "slideshow": {
     "slide_type": "slide"
    }
   },
   "source": [
    "## CNN example with MNIST\n",
    "\n",
    "Dataset of images of handwritten digits like these\n",
    "\n",
    "<div style=\"width: 400px\">\n",
    "![esto puede in en el style float:left;](https://www.tensorflow.org/images/MNIST.png)\n",
    "</div>\n",
    " Each image is 28 pixels by 28 pixels. Can be interpreted as a matrix:\n",
    "<div style=\"width: 200px\">\n",
    "![MNIST Pixels](https://www.tensorflow.org/images/MNIST-Matrix.png)\n",
    "</div>\n",
    "\n",
    "<div style=\"float:left;width: 400px\">\n",
    "![train ](https://www.tensorflow.org/images/mnist-train-xs.png)\n",
    "</div>\n",
    "\n",
    "<div style=\"float:right;width: 500px\">\n",
    "![1hot labels ](https://www.tensorflow.org/images/mnist-train-ys.png)\n",
    "</div>\n",
    "<br><br><br><br><br><br><br><br><br>\n",
    "Images are = [55000, 28 ,28]    \n",
    "reshaped into [5500, 784]         \n",
    "\n",
    "Labels are [55000, 10]\n",
    "(One-hot encoding of classes)\n"
   ]
  },
  {
   "cell_type": "code",
   "execution_count": 1,
   "metadata": {
    "collapsed": false,
    "deletable": true,
    "editable": true,
    "slideshow": {
     "slide_type": "slide"
    }
   },
   "outputs": [
    {
     "name": "stdout",
     "output_type": "stream",
     "text": [
      "Extracting ./MNIST_DATA/train-images-idx3-ubyte.gz\n",
      "Extracting ./MNIST_DATA/train-labels-idx1-ubyte.gz\n",
      "Extracting ./MNIST_DATA/t10k-images-idx3-ubyte.gz\n",
      "Extracting ./MNIST_DATA/t10k-labels-idx1-ubyte.gz\n"
     ]
    }
   ],
   "source": [
    "# %reset\n",
    "import argparse\n",
    "import sys\n",
    "import os\n",
    "import time\n",
    "import datetime\n",
    "\n",
    "import tensorflow as tf\n",
    "from tensorflow.examples.tutorials.mnist import input_data\n",
    "\n",
    "\n",
    "\n",
    "mnist = input_data.read_data_sets(\"./MNIST_DATA\", one_hot=True)\n"
   ]
  },
  {
   "cell_type": "code",
   "execution_count": 2,
   "metadata": {
    "collapsed": false,
    "deletable": true,
    "editable": true,
    "slideshow": {
     "slide_type": "subslide"
    }
   },
   "outputs": [],
   "source": [
    "class MNIST_CNN():\n",
    "    \"\"\"\n",
    "    A network for a classifier of digit images.\n",
    "    Input are 2D grayscale images reshaped into a vector, and the labels in one-hot encoding\n",
    "    Uses 2 Conv Layers, 1 hidden layer and softmax layer.\n",
    "    \"\"\"\n",
    "    def __init__(self, img_length, hidden_layer_size = 256, num_classes=10):\n",
    "        self.input_x = tf.placeholder(tf.float32, \n",
    "                            [None, img_length], name=\"input_x\")\n",
    "        self.input_y = tf.placeholder(tf.float32, \n",
    "                            [None, num_classes], name=\"input_y\")\n",
    "\n",
    "        # Input Layer\n",
    "        # Dimesnions are [batch_size, image_width, image_height, channels]\n",
    "        self.input_layer = tf.reshape(self.input_x, [-1, 28, 28, 1]) \n",
    "\n",
    "\n",
    "        # Convolutional Layer #1\n",
    "        with tf.name_scope(\"Conv_1\"):\n",
    "            self.W_conv1=tf.Variable(tf.truncated_normal([5, 5, 1, 32], stddev=0.1), name=\"W\")\n",
    "            b = tf.Variable(tf.constant(0.1, shape=[32]), name=\"b\")\n",
    "            conv_out = tf.nn.conv2d(self.input_layer, self.W_conv1, \n",
    "                                 strides=[1, 1, 1, 1], padding='SAME') \n",
    "            self.conv1 = tf.nn.relu(conv_out + b)\n",
    "            self.pool1 = tf.nn.max_pool(self.conv1, ksize=[1, 2, 2, 1],\n",
    "                        strides=[1, 2, 2, 1], padding='SAME')\n",
    "\n",
    "            \n",
    "            #self.conv1 = tf.layers.conv2d(\n",
    "            #      inputs=self.input_layer,\n",
    "            #      filters=32,\n",
    "            #      kernel_size=[5, 5],\n",
    "            #      padding=\"same\",\n",
    "            #      activation=tf.nn.relu)\n",
    "            # Pooling Layer #1\n",
    "            #self.pool1 = tf.layers.max_pooling2d(inputs=self.conv1, pool_size=[2, 2], strides=2)\n",
    "\n",
    "        # Convolutional Layer #2 and Pooling Layer #2\n",
    "        with tf.name_scope(\"Conv_2\"):\n",
    "            self.W_conv2=tf.Variable(tf.truncated_normal([5, 5, 32, 64], stddev=0.1), name=\"W\")\n",
    "            b = tf.Variable(tf.constant(0.1, shape=[64]), name=\"b\")\n",
    "            \n",
    "            conv_out = tf.nn.conv2d(self.pool1, self.W_conv2, \n",
    "                                 strides=[1, 1, 1, 1], padding='SAME') \n",
    "            self.conv2 = tf.nn.relu(conv_out + b)\n",
    "            self.pool2 = tf.nn.max_pool(self.conv2, ksize=[1, 2, 2, 1],\n",
    "                        strides=[1, 2, 2, 1], padding='SAME')\n",
    "\n",
    "            #self.conv2 = tf.layers.conv2d(\n",
    "            #      inputs=self.pool1,\n",
    "            #      filters=64,\n",
    "            #      kernel_size=[5, 5],\n",
    "            #      padding=\"same\",\n",
    "            #      activation=tf.nn.relu)\n",
    "            #self.pool2 = tf.layers.max_pooling2d(inputs=self.conv2, pool_size=[2, 2], strides=2)\n",
    "\n",
    "        #Flat feature maps\n",
    "        self.pool2_flat = tf.reshape(self.pool2, [-1, 7 * 7 * 64])\n",
    "\n",
    "        # Dense Layer\n",
    "        with tf.name_scope(\"hidden_layer_1\"):\n",
    "            W = tf.Variable(tf.truncated_normal([7 * 7 * 64, hidden_layer_size], stddev=0.1), name=\"W\")\n",
    "            b = tf.Variable(tf.constant(0.1, shape=[hidden_layer_size]), name=\"b\")\n",
    "            hl1 = tf.nn.relu ( tf.matmul(self.pool2_flat, W) + b )\n",
    "            #dense = tf.layers.dense(inputs=pool2_flat, units=1024, activation=tf.nn.relu)\n",
    "\n",
    "\n",
    "\n",
    "        with tf.name_scope(\"softmax_layer\"):\n",
    "            W = tf.Variable(tf.truncated_normal([hidden_layer_size, num_classes], stddev=0.1), name=\"W\")\n",
    "            b = tf.Variable(tf.constant(0.1, shape=[num_classes]), name=\"b\")\n",
    "            self.scores = tf.nn.xw_plus_b(hl1, W, b, name=\"scores\")\n",
    "            self.predictions = tf.argmax(self.scores, 1, name=\"predictions\")\n",
    "\n",
    "\n",
    "        # CalculateMean cross-entropy loss\n",
    "        with tf.name_scope(\"loss\"):\n",
    "            losses = tf.nn.softmax_cross_entropy_with_logits(logits=self.scores, labels=self.input_y)\n",
    "            self.loss = tf.reduce_mean(losses)\n",
    "\n",
    "        # Accuracy\n",
    "        with tf.name_scope(\"accuracy\"):\n",
    "            correct_predictions = tf.equal(self.predictions, tf.argmax(self.input_y, 1))\n",
    "            self.accuracy = tf.reduce_mean(tf.cast(correct_predictions, \"float\"), name=\"accuracy\")\n",
    "\n"
   ]
  },
  {
   "cell_type": "code",
   "execution_count": 3,
   "metadata": {
    "collapsed": false,
    "deletable": true,
    "editable": true,
    "slideshow": {
     "slide_type": "slide"
    }
   },
   "outputs": [],
   "source": [
    "#sess = tf.Session()\n",
    "sess = tf.InteractiveSession() #for running inside notebook\n",
    "with tf.device(\"/cpu:0\"):\n",
    "    mnist_dnn = MNIST_CNN(img_length=784, hidden_layer_size = 512, num_classes=10)\n",
    "\n",
    "    # Define Training procedure\n",
    "    global_step = tf.Variable(0, name=\"global_step\", trainable=False)\n",
    "    train_op = tf.train.GradientDescentOptimizer(0.05).minimize(mnist_dnn.loss, global_step=global_step)\n"
   ]
  },
  {
   "cell_type": "code",
   "execution_count": 4,
   "metadata": {
    "collapsed": false,
    "deletable": true,
    "editable": true,
    "slideshow": {
     "slide_type": "slide"
    }
   },
   "outputs": [
    {
     "name": "stdout",
     "output_type": "stream",
     "text": [
      "Writing to /home/csegura/repo/deeplearning-tutorials/intro_tensorflow/runs/1490794834\n",
      "\n",
      "Conv_1/W:0\n",
      "Conv_1/b:0\n",
      "Conv_2/W:0\n",
      "Conv_2/b:0\n",
      "hidden_layer_1/W:0\n",
      "hidden_layer_1/b:0\n",
      "softmax_layer/W:0\n",
      "softmax_layer/b:0\n"
     ]
    }
   ],
   "source": [
    "timestamp = str(int(time.time()))\n",
    "out_dir = os.path.abspath(os.path.join(os.path.curdir, \"runs\", timestamp))\n",
    "print(\"Writing to {}\\n\".format(out_dir))\n",
    "\n",
    "# Summaries for loss and accuracy\n",
    "loss_summary = tf.summary.scalar(\"loss\", mnist_dnn.loss)\n",
    "acc_summary = tf.summary.scalar(\"accuracy\", mnist_dnn.accuracy)\n",
    "\n",
    "\n",
    "with tf.name_scope('var_summary'):\n",
    "    for var in tf.trainable_variables():\n",
    "        with tf.name_scope(var.name.split(':')[0]):\n",
    "            print(var.name)\n",
    "            if var.name.startswith(\"counter\"):\n",
    "                continue\n",
    "            mean = tf.reduce_mean(var)\n",
    "            tf.summary.scalar('mean', mean)\n",
    "            with tf.name_scope('stddev'):\n",
    "                stddev = tf.sqrt(tf.reduce_mean(tf.square(var - mean)))\n",
    "            tf.summary.scalar('stddev', stddev)\n",
    "            tf.summary.scalar('max', tf.reduce_max(var))\n",
    "            tf.summary.scalar('min', tf.reduce_min(var))\n",
    "            tf.summary.histogram('histogram', var)\n",
    "\n",
    "with tf.variable_scope('visualization_conv1'):\n",
    "    # scale weights to [0 1], type is still float\n",
    "    kernel = mnist_dnn.W_conv1\n",
    "    x_min = tf.reduce_min(kernel)\n",
    "    x_max = tf.reduce_max(kernel)\n",
    "    kernel_0_to_1 = (kernel - x_min) / (x_max - x_min)\n",
    "\n",
    "    # to tf.image_summary format [batch_size, height, width, channels]\n",
    "    kernel_transposed = tf.transpose (kernel_0_to_1, [3, 0, 1, 2])\n",
    "\n",
    "    # this will display random 3 filters from the 32 in conv1\n",
    "    tf.summary.image('filters', kernel_transposed, max_outputs=16)\n",
    "\n",
    "with tf.variable_scope('visualization_conv2'):    \n",
    "    kernel = mnist_dnn.W_conv2\n",
    "    x_min = tf.reduce_min(kernel)\n",
    "    x_max = tf.reduce_max(kernel)\n",
    "    kernel_0_to_1 = (kernel - x_min) / (x_max - x_min)\n",
    "\n",
    "    # to tf.image_summary format [batch_size, height, width, channels]\n",
    "    kernel_transposed = tf.transpose (kernel_0_to_1, [3, 0, 1, 2])\n",
    "    kernel_transposed = tf.slice(kernel_transposed, [0, 0, 0,0], [-1, -1, -1, 1]) \n",
    "\n",
    "    # this will display random 3 filters from the 32 in conv1\n",
    "    tf.summary.image('conv2/filters', kernel_transposed, max_outputs=16)\n",
    "            \n",
    "\n",
    "# Train Summaries\n",
    "#train_summary_op = tf.summary.merge([loss_summary, acc_summary ])\n",
    "train_summary_op = tf.summary.merge_all()\n",
    "train_summary_dir = os.path.join(out_dir, \"summaries\", \"train\")\n",
    "train_summary_writer = tf.summary.FileWriter(train_summary_dir, sess.graph)\n"
   ]
  },
  {
   "cell_type": "code",
   "execution_count": 5,
   "metadata": {
    "collapsed": true,
    "deletable": true,
    "editable": true,
    "slideshow": {
     "slide_type": "slide"
    }
   },
   "outputs": [],
   "source": [
    "\n",
    "checkpoint_prefix = os.path.join(train_summary_dir, \"model\")\n",
    "if not os.path.exists(checkpoint_prefix):\n",
    "    os.makedirs(checkpoint_prefix)\n",
    "saver = tf.train.Saver(tf.global_variables(), max_to_keep=5)"
   ]
  },
  {
   "cell_type": "code",
   "execution_count": 6,
   "metadata": {
    "collapsed": false,
    "deletable": true,
    "editable": true,
    "slideshow": {
     "slide_type": "slide"
    }
   },
   "outputs": [
    {
     "name": "stdout",
     "output_type": "stream",
     "text": [
      "2017-03-29T15:40:37.330174: step 1, loss 6.76208, acc 0.08\n",
      "2017-03-29T15:40:37.642982: step 2, loss 14.2565, acc 0.07\n",
      "2017-03-29T15:40:37.967272: step 3, loss 10.9673, acc 0.1\n",
      "2017-03-29T15:40:38.281714: step 4, loss 4.86677, acc 0.1\n",
      "2017-03-29T15:40:38.598041: step 5, loss 2.86328, acc 0.115\n",
      "2017-03-29T15:40:38.912781: step 6, loss 2.40455, acc 0.13\n",
      "2017-03-29T15:40:39.224211: step 7, loss 2.33763, acc 0.175\n",
      "2017-03-29T15:40:39.540203: step 8, loss 2.2102, acc 0.315\n",
      "2017-03-29T15:40:39.859345: step 9, loss 2.19166, acc 0.285\n",
      "2017-03-29T15:40:40.174985: step 10, loss 2.12549, acc 0.295\n",
      "2017-03-29T15:40:40.489118: step 11, loss 2.10644, acc 0.365\n",
      "2017-03-29T15:40:40.805872: step 12, loss 2.08829, acc 0.37\n",
      "2017-03-29T15:40:41.118437: step 13, loss 1.95262, acc 0.495\n",
      "2017-03-29T15:40:41.424247: step 14, loss 1.93697, acc 0.42\n",
      "2017-03-29T15:40:41.741088: step 15, loss 1.81924, acc 0.585\n",
      "2017-03-29T15:40:42.110091: step 16, loss 1.62437, acc 0.61\n",
      "2017-03-29T15:40:42.462660: step 17, loss 1.65056, acc 0.605\n",
      "2017-03-29T15:40:42.804894: step 18, loss 1.47306, acc 0.64\n",
      "2017-03-29T15:40:43.111496: step 19, loss 1.53253, acc 0.53\n",
      "2017-03-29T15:40:43.428349: step 20, loss 1.41762, acc 0.56\n",
      "2017-03-29T15:40:43.744490: step 21, loss 1.38524, acc 0.545\n",
      "2017-03-29T15:40:44.059219: step 22, loss 1.23329, acc 0.715\n",
      "2017-03-29T15:40:44.364269: step 23, loss 1.08389, acc 0.75\n",
      "2017-03-29T15:40:44.674629: step 24, loss 1.12826, acc 0.665\n",
      "2017-03-29T15:40:44.988630: step 25, loss 1.37609, acc 0.53\n",
      "2017-03-29T15:40:45.297728: step 26, loss 1.94059, acc 0.515\n",
      "2017-03-29T15:40:45.607783: step 27, loss 1.1763, acc 0.645\n",
      "2017-03-29T15:40:45.926909: step 28, loss 1.06958, acc 0.625\n",
      "2017-03-29T15:40:46.235409: step 29, loss 0.872298, acc 0.755\n",
      "2017-03-29T15:40:46.550632: step 30, loss 0.675882, acc 0.8\n",
      "2017-03-29T15:40:46.870083: step 31, loss 0.631763, acc 0.815\n",
      "2017-03-29T15:40:47.183655: step 32, loss 0.627161, acc 0.805\n",
      "2017-03-29T15:40:47.504235: step 33, loss 0.704125, acc 0.795\n",
      "2017-03-29T15:40:47.824677: step 34, loss 0.831877, acc 0.765\n",
      "2017-03-29T15:40:48.141557: step 35, loss 0.566992, acc 0.805\n",
      "2017-03-29T15:40:48.464057: step 36, loss 0.629705, acc 0.815\n",
      "2017-03-29T15:40:48.867719: step 37, loss 0.817799, acc 0.72\n",
      "2017-03-29T15:40:49.221256: step 38, loss 0.932524, acc 0.785\n",
      "2017-03-29T15:40:49.549009: step 39, loss 0.72503, acc 0.775\n",
      "2017-03-29T15:40:49.862585: step 40, loss 0.59132, acc 0.825\n",
      "2017-03-29T15:40:50.172544: step 41, loss 0.732143, acc 0.78\n",
      "2017-03-29T15:40:50.487492: step 42, loss 0.648301, acc 0.77\n",
      "2017-03-29T15:40:50.808585: step 43, loss 0.737278, acc 0.75\n",
      "2017-03-29T15:40:51.118104: step 44, loss 0.628445, acc 0.765\n",
      "2017-03-29T15:40:51.437502: step 45, loss 0.657387, acc 0.82\n",
      "2017-03-29T15:40:51.772149: step 46, loss 0.589662, acc 0.785\n",
      "2017-03-29T15:40:52.087732: step 47, loss 0.663876, acc 0.775\n",
      "2017-03-29T15:40:52.402267: step 48, loss 0.45628, acc 0.845\n",
      "2017-03-29T15:40:52.713881: step 49, loss 0.800387, acc 0.775\n",
      "2017-03-29T15:40:53.021055: step 50, loss 0.604739, acc 0.8\n",
      "2017-03-29T15:40:53.338239: step 51, loss 0.44313, acc 0.83\n",
      "2017-03-29T15:40:53.650570: step 52, loss 0.352973, acc 0.9\n",
      "2017-03-29T15:40:53.965293: step 53, loss 0.379738, acc 0.885\n",
      "2017-03-29T15:40:54.270537: step 54, loss 0.451519, acc 0.855\n",
      "2017-03-29T15:40:54.585655: step 55, loss 0.532984, acc 0.825\n",
      "2017-03-29T15:40:54.899751: step 56, loss 0.493254, acc 0.86\n",
      "2017-03-29T15:40:55.210133: step 57, loss 0.344033, acc 0.88\n",
      "2017-03-29T15:40:55.521948: step 58, loss 0.411982, acc 0.875\n",
      "2017-03-29T15:40:55.846738: step 59, loss 0.412189, acc 0.855\n",
      "2017-03-29T15:40:56.160885: step 60, loss 0.397812, acc 0.905\n",
      "2017-03-29T15:40:56.474509: step 61, loss 0.351948, acc 0.89\n",
      "2017-03-29T15:40:56.794974: step 62, loss 0.287708, acc 0.94\n",
      "2017-03-29T15:40:57.106831: step 63, loss 0.45043, acc 0.875\n",
      "2017-03-29T15:40:57.415469: step 64, loss 0.399881, acc 0.875\n",
      "2017-03-29T15:40:57.739300: step 65, loss 0.309931, acc 0.915\n",
      "2017-03-29T15:40:58.054600: step 66, loss 0.217976, acc 0.935\n",
      "2017-03-29T15:40:58.383996: step 67, loss 0.223358, acc 0.94\n",
      "2017-03-29T15:40:58.711969: step 68, loss 0.34645, acc 0.905\n",
      "2017-03-29T15:40:59.051299: step 69, loss 0.256599, acc 0.915\n",
      "2017-03-29T15:40:59.444442: step 70, loss 0.23528, acc 0.93\n",
      "2017-03-29T15:40:59.805821: step 71, loss 0.421305, acc 0.875\n",
      "2017-03-29T15:41:00.177261: step 72, loss 0.370907, acc 0.9\n",
      "2017-03-29T15:41:00.493100: step 73, loss 0.365556, acc 0.89\n",
      "2017-03-29T15:41:00.814393: step 74, loss 0.2674, acc 0.91\n",
      "2017-03-29T15:41:01.136725: step 75, loss 0.356303, acc 0.9\n",
      "2017-03-29T15:41:01.451432: step 76, loss 0.553991, acc 0.82\n",
      "2017-03-29T15:41:01.763009: step 77, loss 0.358648, acc 0.875\n",
      "2017-03-29T15:41:02.072550: step 78, loss 0.224528, acc 0.925\n",
      "2017-03-29T15:41:02.394041: step 79, loss 0.366917, acc 0.89\n",
      "2017-03-29T15:41:02.712086: step 80, loss 0.442636, acc 0.85\n",
      "2017-03-29T15:41:03.023158: step 81, loss 0.312016, acc 0.91\n",
      "2017-03-29T15:41:03.333459: step 82, loss 0.237158, acc 0.935\n",
      "2017-03-29T15:41:03.667553: step 83, loss 0.29171, acc 0.935\n",
      "2017-03-29T15:41:04.040648: step 84, loss 0.232789, acc 0.925\n",
      "2017-03-29T15:41:04.348190: step 85, loss 0.144601, acc 0.97\n",
      "2017-03-29T15:41:04.657485: step 86, loss 0.236228, acc 0.935\n",
      "2017-03-29T15:41:04.968669: step 87, loss 0.234829, acc 0.93\n",
      "2017-03-29T15:41:05.275628: step 88, loss 0.356177, acc 0.905\n",
      "2017-03-29T15:41:05.590873: step 89, loss 0.284883, acc 0.91\n",
      "2017-03-29T15:41:05.908246: step 90, loss 0.183219, acc 0.94\n",
      "2017-03-29T15:41:06.223805: step 91, loss 0.201773, acc 0.935\n",
      "2017-03-29T15:41:06.535245: step 92, loss 0.191219, acc 0.94\n",
      "2017-03-29T15:41:06.861900: step 93, loss 0.210706, acc 0.93\n",
      "2017-03-29T15:41:07.173630: step 94, loss 0.276709, acc 0.91\n",
      "2017-03-29T15:41:07.484068: step 95, loss 0.299337, acc 0.92\n",
      "2017-03-29T15:41:07.804728: step 96, loss 0.244908, acc 0.92\n",
      "2017-03-29T15:41:08.117822: step 97, loss 0.285472, acc 0.89\n",
      "2017-03-29T15:41:08.431262: step 98, loss 0.2459, acc 0.9\n",
      "2017-03-29T15:41:08.750936: step 99, loss 0.504205, acc 0.86\n",
      "2017-03-29T15:41:09.063494: step 100, loss 0.642572, acc 0.735\n",
      "Saved model checkpoint to /home/csegura/repo/deeplearning-tutorials/intro_tensorflow/runs/1490794834/summaries/train/model-100\n",
      "\n",
      "Test accuracy\n",
      "0.82\n",
      "0.8215\n"
     ]
    }
   ],
   "source": [
    "sess.run(tf.global_variables_initializer())\n",
    "\n",
    "\n",
    "# Train\n",
    "for _ in range(100):\n",
    "    batch_xs, batch_ys = mnist.train.next_batch(200)\n",
    "    feed_dict={mnist_dnn.input_x: batch_xs, mnist_dnn.input_y: batch_ys}\n",
    "    _, step, summaries, loss, accuracy = sess.run([train_op, global_step, train_summary_op, mnist_dnn.loss, mnist_dnn.accuracy],  feed_dict)\n",
    "\n",
    "    time_str = datetime.datetime.now().isoformat()\n",
    "    print(\"{}: step {}, loss {:g}, acc {:g}\".format(time_str, step, loss, accuracy))\n",
    "    train_summary_writer.add_summary(summaries, step)\n",
    "\n",
    "    \n",
    "path = saver.save(sess, checkpoint_prefix, global_step=step)\n",
    "print(\"Saved model checkpoint to {}\\n\".format(path))    \n",
    "    \n",
    "# Test trained model\n",
    "print(\"Test accuracy\")\n",
    "print(sess.run(mnist_dnn.accuracy, feed_dict={mnist_dnn.input_x:batch_xs,\n",
    "                                  mnist_dnn.input_y: batch_ys}))\n",
    "\n",
    "print(sess.run(mnist_dnn.accuracy, feed_dict={mnist_dnn.input_x: mnist.test.images,\n",
    "                                  mnist_dnn.input_y: mnist.test.labels}))\n"
   ]
  },
  {
   "cell_type": "code",
   "execution_count": null,
   "metadata": {
    "collapsed": true,
    "deletable": true,
    "editable": true
   },
   "outputs": [],
   "source": []
  }
 ],
 "metadata": {
  "celltoolbar": "Slideshow",
  "kernelspec": {
   "display_name": "Python 3",
   "language": "python",
   "name": "python3"
  },
  "language_info": {
   "codemirror_mode": {
    "name": "ipython",
    "version": 3
   },
   "file_extension": ".py",
   "mimetype": "text/x-python",
   "name": "python",
   "nbconvert_exporter": "python",
   "pygments_lexer": "ipython3",
   "version": "3.5.3"
  },
  "livereveal": {
   "height": 720,
   "scroll": true,
   "start_slideshow_at": "selected",
   "width": 1280
  }
 },
 "nbformat": 4,
 "nbformat_minor": 2
}
