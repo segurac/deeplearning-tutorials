{
 "cells": [
  {
   "cell_type": "markdown",
   "metadata": {
    "deletable": true,
    "editable": true,
    "slideshow": {
     "slide_type": "slide"
    }
   },
   "source": [
    "# Introduction to Deep Learning with Tensorflow\n",
    "<br><br><br>\n",
    "\n",
    "##  Carlos Segura \n",
    "<b>\n",
    "## Associate Researcher @ TID"
   ]
  },
  {
   "cell_type": "markdown",
   "metadata": {
    "deletable": true,
    "editable": true,
    "slideshow": {
     "slide_type": "slide"
    }
   },
   "source": [
    "# What is Tensorflow?"
   ]
  },
  {
   "cell_type": "markdown",
   "metadata": {
    "deletable": true,
    "editable": true,
    "slideshow": {
     "slide_type": "fragment"
    }
   },
   "source": [
    "* TensorFlow is a deep learning library\n",
    "     * open-sourced by Google.\n",
    "* TensorFlow provides primitives for\n",
    "defining functions on tensors and\n",
    "automatically computing their derivatives.\n",
    "\n",
    "* Python library that can work with symbolic mathematical expressions\n",
    "    * *Symbolic differentation*: symbolic graphs for computing gradients\n",
    "* Optimized for multi-dimensional arrays, like numpy.ndarray\n",
    "    * Tensors\n",
    "* Same code can work in CPU or GPU"
   ]
  },
  {
   "cell_type": "markdown",
   "metadata": {
    "deletable": true,
    "editable": true,
    "slideshow": {
     "slide_type": "slide"
    }
   },
   "source": [
    "### Installing Tensorflow\n",
    "* Requirements\n",
    "    * OS: Linux, Mac OS X, Windows\n",
    "    * Python: >= 2.7 || >= 3.5\n",
    "* pip install tensorflow [tensorflow-gpu]\n",
    " "
   ]
  },
  {
   "cell_type": "markdown",
   "metadata": {
    "deletable": true,
    "editable": true,
    "slideshow": {
     "slide_type": "slide"
    }
   },
   "source": [
    "## Basic usage:\n",
    "\n",
    "* Represent computations as graphs\n",
    "* Execute graphs in the context of sessions\n",
    "* Represent data as tensors\n",
    "* Maintain state with Variables\n",
    "* Use feeds and fetches to get data in and out of graph executions"
   ]
  },
  {
   "cell_type": "code",
   "execution_count": 1,
   "metadata": {
    "collapsed": false,
    "deletable": true,
    "editable": true,
    "slideshow": {
     "slide_type": "slide"
    }
   },
   "outputs": [],
   "source": [
    "## Graphs\n",
    "import tensorflow as tf\n",
    "\n",
    "# Create a Constant op that produces a 1x2 matrix.  The op is\n",
    "# added as a node to the default graph.\n",
    "#\n",
    "# The value returned by the constructor represents the output\n",
    "# of the Constant op.\n",
    "matrix1 = tf.constant([[3., 3.]])\n",
    "\n",
    "# Create another Constant that produces a 2x1 matrix.\n",
    "matrix2 = tf.constant([[2.],[2.]])\n",
    "\n",
    "# Create a Matmul op that takes 'matrix1' and 'matrix2' as inputs.\n",
    "# The returned value, 'product', represents the result of the matrix\n",
    "# multiplication.\n",
    "product = tf.matmul(matrix1, matrix2)"
   ]
  },
  {
   "cell_type": "code",
   "execution_count": 2,
   "metadata": {
    "collapsed": false,
    "deletable": true,
    "editable": true,
    "slideshow": {
     "slide_type": "slide"
    }
   },
   "outputs": [
    {
     "name": "stdout",
     "output_type": "stream",
     "text": [
      "[[ 12.]]\n"
     ]
    }
   ],
   "source": [
    "#To actually multiply the matrices, and get the result of the multiplication, you must launch the graph in a session.\n",
    "# Launch the default graph.\n",
    "sess = tf.Session()\n",
    "\n",
    "# To run the matmul op we call the session 'run()' method, passing 'product'\n",
    "# which represents the output of the matmul op.  This indicates to the call\n",
    "# that we want to get the output of the matmul op back.\n",
    "#\n",
    "# All inputs needed by the op are run automatically by the session.  They\n",
    "# typically are run in parallel.\n",
    "#\n",
    "# The call 'run(product)' thus causes the execution of three ops in the\n",
    "# graph: the two constants and matmul.\n",
    "#\n",
    "# The output of the op is returned in 'result' as a numpy `ndarray` object.\n",
    "result = sess.run(product)\n",
    "print(result)\n",
    "# ==> [[ 12.]]\n",
    "\n",
    "# Close the Session when we're done.\n",
    "sess.close()"
   ]
  },
  {
   "cell_type": "code",
   "execution_count": 3,
   "metadata": {
    "collapsed": false,
    "deletable": true,
    "editable": true,
    "slideshow": {
     "slide_type": "slide"
    }
   },
   "outputs": [
    {
     "name": "stdout",
     "output_type": "stream",
     "text": [
      "[array([[ 12.]], dtype=float32)]\n"
     ]
    }
   ],
   "source": [
    "# Sessions should be closed to release resources.\n",
    "# You can also enter a Session with a \"with\" block. \n",
    "# The Session closes automatically at the end of the with block.\n",
    "\n",
    "\n",
    "with tf.Session() as sess:\n",
    "  result = sess.run([product])\n",
    "  print(result)"
   ]
  },
  {
   "cell_type": "code",
   "execution_count": 4,
   "metadata": {
    "collapsed": true,
    "deletable": true,
    "editable": true,
    "slideshow": {
     "slide_type": "fragment"
    }
   },
   "outputs": [],
   "source": [
    "#\n",
    "with tf.Session() as sess:\n",
    "  with tf.device(\"/gpu:0\"): #/cpu:0 /gpu:0 /gpu:1 /gpu:2\n",
    "    matrix1 = tf.constant([[3., 3.]])\n",
    "    matrix2 = tf.constant([[2.],[2.]])\n",
    "    product = tf.matmul(matrix1, matrix2)"
   ]
  },
  {
   "cell_type": "code",
   "execution_count": 5,
   "metadata": {
    "collapsed": false,
    "deletable": true,
    "editable": true,
    "slideshow": {
     "slide_type": "slide"
    }
   },
   "outputs": [
    {
     "name": "stdout",
     "output_type": "stream",
     "text": [
      "0\n",
      "1\n",
      "2\n",
      "3\n"
     ]
    }
   ],
   "source": [
    "# Create a Variable, that will be initialized to the scalar value 0.\n",
    "state = tf.Variable(0, name=\"counter\")\n",
    "\n",
    "# Create an Op to add one to `state`.\n",
    "\n",
    "one = tf.constant(1)\n",
    "new_value = tf.add(state, one)\n",
    "update = tf.assign(state, new_value)\n",
    "\n",
    "# Variables must be initialized by running an `init` Op after having\n",
    "# launched the graph.  We first have to add the `init` Op to the graph.\n",
    "init_op = tf.global_variables_initializer()\n",
    "\n",
    "# Launch the graph and run the ops.\n",
    "with tf.Session() as sess:\n",
    "  # Run the 'init' op\n",
    "  sess.run(init_op)\n",
    "  # Print the initial value of 'state'\n",
    "  print(sess.run(state))\n",
    "  # Run the op that updates 'state' and print 'state'.\n",
    "  for _ in range(3):\n",
    "    sess.run(update)\n",
    "    print(sess.run(state))\n"
   ]
  },
  {
   "cell_type": "code",
   "execution_count": 6,
   "metadata": {
    "collapsed": false,
    "deletable": true,
    "editable": true,
    "slideshow": {
     "slide_type": "slide"
    }
   },
   "outputs": [
    {
     "name": "stdout",
     "output_type": "stream",
     "text": [
      "[array([ 21.], dtype=float32), array([ 7.], dtype=float32)]\n"
     ]
    }
   ],
   "source": [
    "#Fetches:\n",
    "input1 = tf.constant([3.0])\n",
    "input2 = tf.constant([2.0])\n",
    "input3 = tf.constant([5.0])\n",
    "intermed = tf.add(input2, input3)\n",
    "mul = input1 * intermed\n",
    "\n",
    "with tf.Session() as sess:\n",
    "  result = sess.run([mul, intermed])\n",
    "  print(result)\n"
   ]
  },
  {
   "cell_type": "code",
   "execution_count": 7,
   "metadata": {
    "collapsed": false,
    "deletable": true,
    "editable": true,
    "slideshow": {
     "slide_type": "slide"
    }
   },
   "outputs": [
    {
     "name": "stdout",
     "output_type": "stream",
     "text": [
      "[array([ 14.], dtype=float32)]\n"
     ]
    }
   ],
   "source": [
    "#Feeds\n",
    "input1 = tf.placeholder(tf.float32)\n",
    "input2 = tf.placeholder(tf.float32)\n",
    "output = input1 * input2\n",
    "\n",
    "with tf.Session() as sess:\n",
    "  print(sess.run([output], feed_dict={input1:[7.], input2:[2.]}))"
   ]
  },
  {
   "cell_type": "markdown",
   "metadata": {
    "deletable": true,
    "editable": true,
    "slideshow": {
     "slide_type": "slide"
    }
   },
   "source": [
    "## Linear Regression example\n",
    "\n",
    "<img src=\"http://www.atmos.washington.edu/~robwood/teaching/451/labs/images/concepts12.jpg\">"
   ]
  },
  {
   "cell_type": "code",
   "execution_count": 8,
   "metadata": {
    "collapsed": false,
    "deletable": true,
    "editable": true,
    "slideshow": {
     "slide_type": "slide"
    }
   },
   "outputs": [
    {
     "name": "stdout",
     "output_type": "stream",
     "text": [
      "Once deleted, variables cannot be recovered. Proceed (y/[n])? y\n"
     ]
    },
    {
     "data": {
      "image/png": "[encoded data removed]",
      "text/plain": [
       "<matplotlib.figure.Figure at 0x7f39b68a3ba8>"
      ]
     },
     "metadata": {},
     "output_type": "display_data"
    }
   ],
   "source": [
    "%reset\n",
    "import numpy as np\n",
    "trainX = np.linspace(-1,1, 200 )\n",
    "trainY = (2 * trainX + 1.0 + np.random.randn(*trainX.shape)*0.8)\n",
    "\n",
    "%matplotlib inline\n",
    "import matplotlib.pyplot as plt\n",
    "fig = plt.figure( figsize=(8, 8))\n",
    "plt.plot(trainX, trainY, 'bo', markeredgecolor='none')\n",
    "plt.ylabel('Line with noise')\n",
    "plt.show()"
   ]
  },
  {
   "cell_type": "code",
   "execution_count": 9,
   "metadata": {
    "collapsed": false,
    "deletable": true,
    "editable": true,
    "slideshow": {
     "slide_type": "slide"
    }
   },
   "outputs": [],
   "source": [
    "import tensorflow as tf\n",
    "\n",
    "\n",
    "X = tf.placeholder(\"float\")\n",
    "Y = tf.placeholder(\"float\")\n",
    "\n",
    "# Set model weights\n",
    "w = tf.Variable(np.random.randn(), name=\"weight\")\n",
    "b = tf.Variable(np.random.randn(), name=\"bias\")\n",
    "\n",
    "prediction = X*w + b\n",
    "loss = tf.reduce_mean(tf.pow(prediction-Y, 2))\n",
    "\n",
    "var_grads = tf.gradients(loss, [w,b])\n",
    "\n",
    "learning_rate = tf.constant(0.3)\n",
    "\n",
    "new_w =  w - var_grads[0] * learning_rate \n",
    "new_b =  b - var_grads[1] * learning_rate\n",
    "\n",
    "update_w = tf.assign(w, new_w)\n",
    "update_b = tf.assign(b, new_b)\n",
    "\n",
    "init_op = tf.global_variables_initializer()\n",
    "\n",
    "\n",
    "\n"
   ]
  },
  {
   "cell_type": "code",
   "execution_count": 10,
   "metadata": {
    "collapsed": false,
    "deletable": true,
    "editable": true,
    "slideshow": {
     "slide_type": "slide"
    }
   },
   "outputs": [
    {
     "data": {
      "image/png": "[encoded data removed]",
      "text/plain": [
       "<matplotlib.figure.Figure at 0x7f394b7efda0>"
      ]
     },
     "metadata": {},
     "output_type": "display_data"
    },
    {
     "name": "stdout",
     "output_type": "stream",
     "text": [
      "Cost:  0.573742  w: [2.1729417]  b: [1.0545049]\n"
     ]
    },
    {
     "data": {
      "image/png": "[encoded data removed]",
      "text/plain": [
       "<matplotlib.figure.Figure at 0x7f394b7efda0>"
      ]
     },
     "metadata": {},
     "output_type": "display_data"
    }
   ],
   "source": [
    "%matplotlib inline\n",
    "import time\n",
    "import pylab as plt\n",
    "from IPython import display\n",
    "\n",
    "fig = plt.figure( figsize=(10, 10))\n",
    "with tf.Session() as sess:\n",
    "    sess.run(init_op)\n",
    "    for epoch in range(15):\n",
    "        [current_loss, _, _ ] = sess.run(\n",
    "                [loss, update_w, update_b ], \n",
    "                feed_dict={X:trainX, Y:trainY})\n",
    "        current_w = sess.run([w])\n",
    "        current_b = sess.run([b])\n",
    "        \n",
    "\n",
    "        plt.clf()\n",
    "        plt.plot(trainX, trainY,'o',color='b', markeredgecolor='none')\n",
    "        plt.plot(trainX, trainX*current_w + current_b, color='r',)\n",
    "        print('Cost: ', current_loss,' w:',current_w, ' b:',current_b)\n",
    "        display.clear_output(wait=True)\n",
    "        display.display(plt.gcf())\n",
    "\n",
    "print('Cost: ', current_loss,' w:',current_w, ' b:',current_b)"
   ]
  },
  {
   "cell_type": "markdown",
   "metadata": {
    "deletable": true,
    "editable": true,
    "slideshow": {
     "slide_type": "slide"
    }
   },
   "source": [
    "## CNN example with MNIST\n",
    "\n",
    "Dataset of images of handwritten digits like these\n",
    "\n",
    "<div style=\"width: 400px\">\n",
    "![esto puede in en el style float:left;](https://www.tensorflow.org/images/MNIST.png)\n",
    "</div>\n",
    " Each image is 28 pixels by 28 pixels. Can be interpreted as a matrix:\n",
    "<div style=\"width: 200px\">\n",
    "![MNIST Pixels](https://www.tensorflow.org/images/MNIST-Matrix.png)\n",
    "</div>\n",
    "\n",
    "<div style=\"float:left;width: 400px\">\n",
    "![train ](https://www.tensorflow.org/images/mnist-train-xs.png)\n",
    "</div>\n",
    "\n",
    "<div style=\"float:right;width: 500px\">\n",
    "![1hot labels ](https://www.tensorflow.org/images/mnist-train-ys.png)\n",
    "</div>\n",
    "<br><br><br><br><br><br><br><br><br>\n",
    "Images are = [55000, 28 ,28]    \n",
    "reshaped into [5500, 784]         \n",
    "\n",
    "Labels are [55000, 10]\n",
    "(One-hot encoding of classes)\n"
   ]
  },
  {
   "cell_type": "code",
   "execution_count": 1,
   "metadata": {
    "collapsed": false,
    "deletable": true,
    "editable": true,
    "slideshow": {
     "slide_type": "slide"
    }
   },
   "outputs": [
    {
     "name": "stdout",
     "output_type": "stream",
     "text": [
      "Extracting ./MNIST_DATA/train-images-idx3-ubyte.gz\n",
      "Extracting ./MNIST_DATA/train-labels-idx1-ubyte.gz\n",
      "Extracting ./MNIST_DATA/t10k-images-idx3-ubyte.gz\n",
      "Extracting ./MNIST_DATA/t10k-labels-idx1-ubyte.gz\n"
     ]
    }
   ],
   "source": [
    "# %reset\n",
    "import argparse\n",
    "import sys\n",
    "import os\n",
    "import time\n",
    "import datetime\n",
    "\n",
    "import tensorflow as tf\n",
    "from tensorflow.examples.tutorials.mnist import input_data\n",
    "\n",
    "\n",
    "\n",
    "mnist = input_data.read_data_sets(\"./MNIST_DATA\", one_hot=True)\n"
   ]
  },
  {
   "cell_type": "code",
   "execution_count": 2,
   "metadata": {
    "collapsed": false,
    "deletable": true,
    "editable": true,
    "slideshow": {
     "slide_type": "subslide"
    }
   },
   "outputs": [],
   "source": [
    "class MNIST_CNN():\n",
    "    \"\"\"\n",
    "    A network for a classifier of digit images.\n",
    "    Input are 2D grayscale images reshaped into a vector, and the labels in one-hot encoding\n",
    "    Uses 2 Conv Layers, 1 hidden layer and softmax layer.\n",
    "    \"\"\"\n",
    "    def __init__(self, img_length, hidden_layer_size = 256, num_classes=10):\n",
    "        self.input_x = tf.placeholder(tf.float32, \n",
    "                            [None, img_length], name=\"input_x\")\n",
    "        self.input_y = tf.placeholder(tf.float32, \n",
    "                            [None, num_classes], name=\"input_y\")\n",
    "\n",
    "        # Input Layer\n",
    "        # Dimesnions are [batch_size, image_width, image_height, channels]\n",
    "        self.input_layer = tf.reshape(self.input_x, [-1, 28, 28, 1]) \n",
    "\n",
    "\n",
    "        # Convolutional Layer #1\n",
    "        with tf.name_scope(\"Conv_1\"):\n",
    "            nfilters1=8\n",
    "            self.W_conv1=tf.Variable(tf.truncated_normal([5, 5, 1, nfilters1], stddev=0.1), name=\"W\")\n",
    "            b = tf.Variable(tf.constant(0.1, shape=[nfilters1]), name=\"b\")\n",
    "            conv_out = tf.nn.conv2d(self.input_layer, self.W_conv1, \n",
    "                                 strides=[1, 1, 1, 1], padding='SAME') \n",
    "            self.conv1 = tf.nn.relu(conv_out + b)\n",
    "            self.pool1 = tf.nn.max_pool(self.conv1, ksize=[1, 2, 2, 1],\n",
    "                        strides=[1, 2, 2, 1], padding='SAME')\n",
    "\n",
    "            \n",
    "            #self.conv1 = tf.layers.conv2d(\n",
    "            #      inputs=self.input_layer,\n",
    "            #      filters=32,\n",
    "            #      kernel_size=[5, 5],\n",
    "            #      padding=\"same\",\n",
    "            #      activation=tf.nn.relu)\n",
    "            # Pooling Layer #1\n",
    "            #self.pool1 = tf.layers.max_pooling2d(inputs=self.conv1, pool_size=[2, 2], strides=2)\n",
    "\n",
    "        # Convolutional Layer #2 and Pooling Layer #2\n",
    "        with tf.name_scope(\"Conv_2\"):\n",
    "            nfilters2=16\n",
    "            self.W_conv2=tf.Variable(tf.truncated_normal([3, 3, nfilters1, nfilters2], stddev=0.1), name=\"W\")\n",
    "            b = tf.Variable(tf.constant(0.1, shape=[nfilters2]), name=\"b\")\n",
    "            \n",
    "            conv_out = tf.nn.conv2d(self.pool1, self.W_conv2, \n",
    "                                 strides=[1, 1, 1, 1], padding='SAME') \n",
    "            self.conv2 = tf.nn.relu(conv_out + b)\n",
    "            self.pool2 = tf.nn.max_pool(self.conv2, ksize=[1, 2, 2, 1],\n",
    "                        strides=[1, 2, 2, 1], padding='SAME')\n",
    "\n",
    "            #self.conv2 = tf.layers.conv2d(\n",
    "            #      inputs=self.pool1,\n",
    "            #      filters=64,\n",
    "            #      kernel_size=[5, 5],\n",
    "            #      padding=\"same\",\n",
    "            #      activation=tf.nn.relu)\n",
    "            #self.pool2 = tf.layers.max_pooling2d(inputs=self.conv2, pool_size=[2, 2], strides=2)\n",
    "\n",
    "        #Flat feature maps\n",
    "        self.pool2_flat = tf.reshape(self.pool2, [-1, 7 * 7 * nfilters2])\n",
    "\n",
    "        # Dense Layer\n",
    "        with tf.name_scope(\"hidden_layer_1\"):\n",
    "            W = tf.Variable(tf.truncated_normal([7 * 7 * nfilters2, hidden_layer_size], stddev=0.1), name=\"W\")\n",
    "            b = tf.Variable(tf.constant(0.1, shape=[hidden_layer_size]), name=\"b\")\n",
    "            self.hl1 = tf.nn.relu ( tf.matmul(self.pool2_flat, W) + b )\n",
    "            #dense = tf.layers.dense(inputs=pool2_flat, units=1024, activation=tf.nn.relu)\n",
    "\n",
    "\n",
    "\n",
    "        with tf.name_scope(\"softmax_layer\"):\n",
    "            W = tf.Variable(tf.truncated_normal([hidden_layer_size, num_classes], stddev=0.1), name=\"W\")\n",
    "            b = tf.Variable(tf.constant(0.1, shape=[num_classes]), name=\"b\")\n",
    "            self.scores = tf.nn.xw_plus_b(self.hl1, W, b, name=\"scores\")\n",
    "            self.predictions = tf.argmax(self.scores, 1, name=\"predictions\")\n",
    "\n",
    "\n",
    "        # CalculateMean cross-entropy loss\n",
    "        with tf.name_scope(\"loss\"):\n",
    "            losses = tf.nn.softmax_cross_entropy_with_logits(logits=self.scores, labels=self.input_y)\n",
    "            self.loss = tf.reduce_mean(losses)\n",
    "\n",
    "        # Accuracy\n",
    "        with tf.name_scope(\"accuracy\"):\n",
    "            correct_predictions = tf.equal(self.predictions, tf.argmax(self.input_y, 1))\n",
    "            self.accuracy = tf.reduce_mean(tf.cast(correct_predictions, \"float\"), name=\"accuracy\")\n",
    "\n"
   ]
  },
  {
   "cell_type": "code",
   "execution_count": 3,
   "metadata": {
    "collapsed": false,
    "deletable": true,
    "editable": true,
    "slideshow": {
     "slide_type": "slide"
    }
   },
   "outputs": [],
   "source": [
    "#sess = tf.Session()\n",
    "sess = tf.InteractiveSession() #for running inside notebook\n",
    "with tf.device(\"/cpu:0\"):\n",
    "    mnist_dnn = MNIST_CNN(img_length=784, hidden_layer_size = 128, num_classes=10)\n",
    "\n",
    "    # Define Training procedure\n",
    "    global_step = tf.Variable(0, name=\"global_step\", trainable=False)\n",
    "    train_op = tf.train.GradientDescentOptimizer(0.05).minimize(mnist_dnn.loss, global_step=global_step)\n"
   ]
  },
  {
   "cell_type": "code",
   "execution_count": 4,
   "metadata": {
    "collapsed": false,
    "deletable": true,
    "editable": true,
    "slideshow": {
     "slide_type": "slide"
    }
   },
   "outputs": [
    {
     "name": "stdout",
     "output_type": "stream",
     "text": [
      "Writing to /home/csegura/repo/deeplearning-tutorials/intro_tensorflow/runs/1490799778\n",
      "\n",
      "Conv_1/W:0\n",
      "Conv_1/b:0\n",
      "Conv_2/W:0\n",
      "Conv_2/b:0\n",
      "hidden_layer_1/W:0\n",
      "hidden_layer_1/b:0\n",
      "softmax_layer/W:0\n",
      "softmax_layer/b:0\n"
     ]
    }
   ],
   "source": [
    "from tensorflow.contrib.tensorboard.plugins import projector\n",
    "import numpy as np\n",
    "\n",
    "timestamp = str(int(time.time()))\n",
    "out_dir = os.path.abspath(os.path.join(os.path.curdir, \"runs\", timestamp))\n",
    "print(\"Writing to {}\\n\".format(out_dir))\n",
    "\n",
    "# Summaries for loss and accuracy\n",
    "loss_summary = tf.summary.scalar(\"loss\", mnist_dnn.loss)\n",
    "acc_summary = tf.summary.scalar(\"accuracy\", mnist_dnn.accuracy)\n",
    "\n",
    "\n",
    "with tf.name_scope('var_summary'):\n",
    "    for var in tf.trainable_variables():\n",
    "        with tf.name_scope(var.name.split(':')[0]):\n",
    "            print(var.name)\n",
    "            if var.name.startswith(\"counter\"):\n",
    "                continue\n",
    "            mean = tf.reduce_mean(var)\n",
    "            tf.summary.scalar('mean', mean)\n",
    "            with tf.name_scope('stddev'):\n",
    "                stddev = tf.sqrt(tf.reduce_mean(tf.square(var - mean)))\n",
    "            tf.summary.scalar('stddev', stddev)\n",
    "            tf.summary.scalar('max', tf.reduce_max(var))\n",
    "            tf.summary.scalar('min', tf.reduce_min(var))\n",
    "            tf.summary.histogram('histogram', var)\n",
    "\n",
    "with tf.variable_scope('visualization_conv1'):\n",
    "    # scale weights to [0 1], type is still float\n",
    "    kernel = mnist_dnn.W_conv1\n",
    "    x_min = tf.reduce_min(kernel)\n",
    "    x_max = tf.reduce_max(kernel)\n",
    "    kernel_0_to_1 = (kernel - x_min) / (x_max - x_min)\n",
    "\n",
    "    # to tf.image_summary format [batch_size, height, width, channels]\n",
    "    kernel_transposed = tf.transpose (kernel_0_to_1, [3, 0, 1, 2])\n",
    "\n",
    "    # this will display random 3 filters from the 32 in conv1\n",
    "    tf.summary.image('filters', kernel_transposed, max_outputs=16)\n",
    "\n",
    "with tf.variable_scope('visualization_conv2'):    \n",
    "    kernel = mnist_dnn.W_conv2\n",
    "    x_min = tf.reduce_min(kernel)\n",
    "    x_max = tf.reduce_max(kernel)\n",
    "    kernel_0_to_1 = (kernel - x_min) / (x_max - x_min)\n",
    "\n",
    "    # to tf.image_summary format [batch_size, height, width, channels]\n",
    "    kernel_transposed = tf.transpose (kernel_0_to_1, [3, 0, 1, 2])\n",
    "    kernel_transposed = tf.slice(kernel_transposed, [0, 0, 0,0], [-1, -1, -1, 1]) \n",
    "\n",
    "    # this will display random 3 filters from the 32 in conv1\n",
    "    tf.summary.image('conv2/filters', kernel_transposed, max_outputs=16)\n",
    "            \n",
    "image_features = tf.Variable(tf.truncated_normal([10000, 128], stddev=0.1), trainable=False, name='image_features')\n",
    "# Train Summaries\n",
    "#train_summary_op = tf.summary.merge([loss_summary, acc_summary ])\n",
    "train_summary_op = tf.summary.merge_all()\n",
    "train_summary_dir = os.path.join(out_dir, \"summaries\", \"train\")\n",
    "train_summary_writer = tf.summary.FileWriter(train_summary_dir, sess.graph)\n",
    "\n",
    "\n",
    "\n",
    "config = projector.ProjectorConfig()\n",
    "embed= config.embeddings.add()\n",
    "embed.tensor_name = image_features.name\n",
    "embed.metadata_path = os.path.join(train_summary_dir + '/metadata.tsv')\n",
    "embed.sprite.image_path = os.path.join('./mnist_10k_sprite.png')\n",
    "from shutil import copyfile\n",
    "copyfile('./mnist_10k_sprite.png', os.path.join(train_summary_dir + '/mnist_10k_sprite.png'))\n",
    "\n",
    "# Specify the width and height of a single thumbnail.\n",
    "embed.sprite.single_image_dim.extend([28, 28])\n",
    "projector.visualize_embeddings(train_summary_writer, config)\n",
    "\n",
    "def save_metadata(file):\n",
    "    with open(file, 'w') as f:\n",
    "        for i in range(10000):\n",
    "            c = np.nonzero(mnist.test.labels[::1])[1:][0][i]\n",
    "            f.write('{}\\n'.format(c))\n",
    "\n",
    "save_metadata(embed.metadata_path)\n",
    "get_image_features_op = tf.assign(image_features, mnist_dnn.hl1)"
   ]
  },
  {
   "cell_type": "code",
   "execution_count": 5,
   "metadata": {
    "collapsed": true,
    "deletable": true,
    "editable": true,
    "slideshow": {
     "slide_type": "slide"
    }
   },
   "outputs": [],
   "source": [
    "\n",
    "checkpoint_prefix = os.path.join(train_summary_dir, \"model\")\n",
    "if not os.path.exists(checkpoint_prefix):\n",
    "    os.makedirs(checkpoint_prefix)\n",
    "saver = tf.train.Saver(tf.global_variables(), max_to_keep=5)"
   ]
  },
  {
   "cell_type": "code",
   "execution_count": 6,
   "metadata": {
    "collapsed": false,
    "deletable": true,
    "editable": true,
    "slideshow": {
     "slide_type": "slide"
    }
   },
   "outputs": [
    {
     "name": "stdout",
     "output_type": "stream",
     "text": [
      "2017-03-29T17:03:12.655628: step 1, loss 2.39706, acc 0.076\n",
      "2017-03-29T17:03:12.821016: step 2, loss 2.33766, acc 0.082\n",
      "2017-03-29T17:03:12.976855: step 3, loss 2.32835, acc 0.102\n",
      "2017-03-29T17:03:13.131741: step 4, loss 2.30161, acc 0.142\n",
      "2017-03-29T17:03:13.298403: step 5, loss 2.28377, acc 0.15\n",
      "2017-03-29T17:03:13.448236: step 6, loss 2.26338, acc 0.214\n",
      "2017-03-29T17:03:13.625121: step 7, loss 2.25028, acc 0.222\n",
      "2017-03-29T17:03:13.787609: step 8, loss 2.25049, acc 0.202\n",
      "2017-03-29T17:03:13.951133: step 9, loss 2.22752, acc 0.28\n",
      "2017-03-29T17:03:14.122909: step 10, loss 2.21609, acc 0.292\n",
      "2017-03-29T17:03:14.322360: step 11, loss 2.20285, acc 0.278\n",
      "2017-03-29T17:03:14.502711: step 12, loss 2.19495, acc 0.28\n",
      "2017-03-29T17:03:14.665649: step 13, loss 2.17085, acc 0.348\n",
      "2017-03-29T17:03:14.821107: step 14, loss 2.1594, acc 0.298\n",
      "2017-03-29T17:03:14.978781: step 15, loss 2.15889, acc 0.29\n",
      "2017-03-29T17:03:15.145866: step 16, loss 2.135, acc 0.328\n",
      "2017-03-29T17:03:15.310865: step 17, loss 2.11567, acc 0.338\n",
      "2017-03-29T17:03:15.461376: step 18, loss 2.09972, acc 0.334\n",
      "2017-03-29T17:03:15.625057: step 19, loss 2.08467, acc 0.33\n",
      "2017-03-29T17:03:15.793053: step 20, loss 2.06272, acc 0.39\n",
      "2017-03-29T17:03:15.953207: step 21, loss 2.00876, acc 0.442\n",
      "2017-03-29T17:03:16.128852: step 22, loss 1.9878, acc 0.42\n",
      "2017-03-29T17:03:16.300566: step 23, loss 1.96418, acc 0.398\n",
      "2017-03-29T17:03:16.451315: step 24, loss 1.92891, acc 0.442\n",
      "2017-03-29T17:03:16.619592: step 25, loss 1.89506, acc 0.47\n",
      "2017-03-29T17:03:16.778233: step 26, loss 1.8908, acc 0.476\n",
      "2017-03-29T17:03:16.932084: step 27, loss 1.82433, acc 0.444\n",
      "2017-03-29T17:03:17.085688: step 28, loss 1.76015, acc 0.52\n",
      "2017-03-29T17:03:17.247278: step 29, loss 1.7148, acc 0.574\n",
      "2017-03-29T17:03:17.413531: step 30, loss 1.63545, acc 0.548\n",
      "2017-03-29T17:03:17.570366: step 31, loss 1.63205, acc 0.57\n",
      "2017-03-29T17:03:17.720689: step 32, loss 1.56563, acc 0.574\n",
      "2017-03-29T17:03:17.884881: step 33, loss 1.51378, acc 0.532\n",
      "2017-03-29T17:03:18.044641: step 34, loss 1.41405, acc 0.632\n",
      "2017-03-29T17:03:18.204230: step 35, loss 1.45647, acc 0.57\n",
      "2017-03-29T17:03:18.376332: step 36, loss 1.37718, acc 0.618\n",
      "2017-03-29T17:03:18.549403: step 37, loss 1.36557, acc 0.57\n",
      "2017-03-29T17:03:18.713255: step 38, loss 1.39327, acc 0.53\n",
      "2017-03-29T17:03:18.877909: step 39, loss 1.35953, acc 0.63\n",
      "2017-03-29T17:03:19.039022: step 40, loss 1.25266, acc 0.616\n",
      "2017-03-29T17:03:19.200674: step 41, loss 1.16428, acc 0.632\n",
      "2017-03-29T17:03:19.363884: step 42, loss 1.17656, acc 0.636\n",
      "2017-03-29T17:03:19.526776: step 43, loss 1.06047, acc 0.738\n",
      "2017-03-29T17:03:19.681999: step 44, loss 1.03288, acc 0.722\n",
      "2017-03-29T17:03:19.841869: step 45, loss 1.00209, acc 0.714\n",
      "2017-03-29T17:03:19.991317: step 46, loss 1.00093, acc 0.692\n",
      "2017-03-29T17:03:20.159452: step 47, loss 1.05657, acc 0.642\n",
      "2017-03-29T17:03:20.324915: step 48, loss 1.33356, acc 0.64\n",
      "2017-03-29T17:03:20.483360: step 49, loss 1.17815, acc 0.612\n",
      "2017-03-29T17:03:20.644579: step 50, loss 1.40894, acc 0.548\n",
      "2017-03-29T17:03:20.814157: step 51, loss 1.1877, acc 0.644\n",
      "2017-03-29T17:03:20.962383: step 52, loss 1.12725, acc 0.64\n",
      "2017-03-29T17:03:21.125941: step 53, loss 1.00821, acc 0.692\n",
      "2017-03-29T17:03:21.277188: step 54, loss 1.02179, acc 0.676\n",
      "2017-03-29T17:03:21.441644: step 55, loss 1.0724, acc 0.672\n",
      "2017-03-29T17:03:21.599711: step 56, loss 0.888497, acc 0.708\n",
      "2017-03-29T17:03:21.765021: step 57, loss 0.969997, acc 0.694\n",
      "2017-03-29T17:03:21.924531: step 58, loss 0.746121, acc 0.758\n",
      "2017-03-29T17:03:22.090742: step 59, loss 0.80265, acc 0.766\n",
      "2017-03-29T17:03:22.247308: step 60, loss 0.840629, acc 0.742\n",
      "2017-03-29T17:03:22.414043: step 61, loss 0.708616, acc 0.774\n",
      "2017-03-29T17:03:22.565973: step 62, loss 0.766049, acc 0.726\n",
      "2017-03-29T17:03:22.723786: step 63, loss 0.785379, acc 0.756\n",
      "2017-03-29T17:03:22.887396: step 64, loss 0.81354, acc 0.716\n",
      "2017-03-29T17:03:23.058914: step 65, loss 1.10605, acc 0.718\n",
      "2017-03-29T17:03:23.218266: step 66, loss 0.76129, acc 0.768\n",
      "2017-03-29T17:03:23.377074: step 67, loss 0.602267, acc 0.826\n",
      "2017-03-29T17:03:23.531392: step 68, loss 0.589514, acc 0.818\n",
      "2017-03-29T17:03:23.692756: step 69, loss 0.642756, acc 0.794\n",
      "2017-03-29T17:03:23.851862: step 70, loss 0.708784, acc 0.764\n",
      "2017-03-29T17:03:24.008960: step 71, loss 0.591892, acc 0.81\n",
      "2017-03-29T17:03:24.162229: step 72, loss 0.5983, acc 0.792\n",
      "2017-03-29T17:03:24.335206: step 73, loss 0.711908, acc 0.786\n",
      "2017-03-29T17:03:24.491099: step 74, loss 0.629023, acc 0.802\n",
      "2017-03-29T17:03:24.656006: step 75, loss 0.72278, acc 0.756\n",
      "2017-03-29T17:03:24.824849: step 76, loss 0.713097, acc 0.742\n",
      "2017-03-29T17:03:24.990166: step 77, loss 0.712392, acc 0.744\n",
      "2017-03-29T17:03:25.151233: step 78, loss 0.81096, acc 0.72\n",
      "2017-03-29T17:03:25.331980: step 79, loss 0.827295, acc 0.696\n",
      "2017-03-29T17:03:25.484471: step 80, loss 0.816102, acc 0.724\n",
      "2017-03-29T17:03:25.654690: step 81, loss 0.623227, acc 0.794\n",
      "2017-03-29T17:03:25.824854: step 82, loss 0.567304, acc 0.828\n",
      "2017-03-29T17:03:25.987789: step 83, loss 0.608621, acc 0.792\n",
      "2017-03-29T17:03:26.151639: step 84, loss 0.489124, acc 0.85\n",
      "2017-03-29T17:03:26.324073: step 85, loss 0.507771, acc 0.86\n",
      "2017-03-29T17:03:26.473827: step 86, loss 0.488988, acc 0.858\n",
      "2017-03-29T17:03:26.637823: step 87, loss 0.444067, acc 0.864\n",
      "2017-03-29T17:03:26.799988: step 88, loss 0.474931, acc 0.846\n",
      "2017-03-29T17:03:26.960093: step 89, loss 0.537294, acc 0.81\n",
      "2017-03-29T17:03:27.113686: step 90, loss 0.680833, acc 0.764\n",
      "2017-03-29T17:03:27.268640: step 91, loss 0.611176, acc 0.808\n",
      "2017-03-29T17:03:27.432165: step 92, loss 0.535787, acc 0.806\n",
      "2017-03-29T17:03:27.595715: step 93, loss 0.50888, acc 0.81\n",
      "2017-03-29T17:03:27.750022: step 94, loss 0.469032, acc 0.836\n",
      "2017-03-29T17:03:27.920706: step 95, loss 0.575972, acc 0.79\n",
      "2017-03-29T17:03:28.076314: step 96, loss 0.56643, acc 0.788\n",
      "2017-03-29T17:03:28.238205: step 97, loss 0.419994, acc 0.876\n",
      "2017-03-29T17:03:28.395466: step 98, loss 0.41653, acc 0.876\n",
      "2017-03-29T17:03:28.560648: step 99, loss 0.364631, acc 0.884\n",
      "2017-03-29T17:03:28.718914: step 100, loss 0.461124, acc 0.862\n",
      "2017-03-29T17:03:28.885369: step 101, loss 0.352202, acc 0.906\n",
      "2017-03-29T17:03:29.042961: step 102, loss 0.341853, acc 0.908\n",
      "2017-03-29T17:03:29.202011: step 103, loss 0.443616, acc 0.868\n",
      "2017-03-29T17:03:29.362055: step 104, loss 0.370401, acc 0.886\n",
      "2017-03-29T17:03:29.518342: step 105, loss 0.439306, acc 0.842\n",
      "2017-03-29T17:03:29.680492: step 106, loss 0.534262, acc 0.804\n",
      "2017-03-29T17:03:29.847466: step 107, loss 0.343411, acc 0.874\n",
      "2017-03-29T17:03:29.997913: step 108, loss 0.33159, acc 0.892\n",
      "2017-03-29T17:03:30.159826: step 109, loss 0.404155, acc 0.86\n",
      "2017-03-29T17:03:30.316622: step 110, loss 0.301698, acc 0.918\n",
      "2017-03-29T17:03:30.544297: step 111, loss 0.435108, acc 0.872\n",
      "2017-03-29T17:03:30.707964: step 112, loss 0.432724, acc 0.858\n",
      "2017-03-29T17:03:30.866474: step 113, loss 0.464223, acc 0.86\n",
      "2017-03-29T17:03:31.016813: step 114, loss 0.396377, acc 0.864\n",
      "2017-03-29T17:03:31.177985: step 115, loss 0.447888, acc 0.824\n",
      "2017-03-29T17:03:31.341384: step 116, loss 0.470675, acc 0.838\n",
      "2017-03-29T17:03:31.499978: step 117, loss 0.45088, acc 0.826\n",
      "2017-03-29T17:03:31.658460: step 118, loss 0.445977, acc 0.856\n",
      "2017-03-29T17:03:31.820042: step 119, loss 0.333697, acc 0.876\n",
      "2017-03-29T17:03:31.973940: step 120, loss 0.430989, acc 0.858\n",
      "2017-03-29T17:03:32.140591: step 121, loss 0.422624, acc 0.858\n",
      "2017-03-29T17:03:32.291249: step 122, loss 0.395995, acc 0.874\n",
      "2017-03-29T17:03:32.460524: step 123, loss 0.411984, acc 0.86\n",
      "2017-03-29T17:03:32.626761: step 124, loss 0.394796, acc 0.872\n",
      "2017-03-29T17:03:32.778769: step 125, loss 0.415463, acc 0.858\n",
      "2017-03-29T17:03:32.933665: step 126, loss 0.432073, acc 0.852\n",
      "2017-03-29T17:03:33.093093: step 127, loss 0.39592, acc 0.858\n",
      "2017-03-29T17:03:33.244395: step 128, loss 0.41821, acc 0.87\n",
      "2017-03-29T17:03:33.407424: step 129, loss 0.416058, acc 0.852\n",
      "2017-03-29T17:03:33.564160: step 130, loss 0.377789, acc 0.88\n",
      "2017-03-29T17:03:33.729266: step 131, loss 0.394408, acc 0.868\n",
      "2017-03-29T17:03:33.882043: step 132, loss 0.359972, acc 0.89\n",
      "2017-03-29T17:03:34.031877: step 133, loss 0.366988, acc 0.884\n",
      "2017-03-29T17:03:34.190835: step 134, loss 0.340287, acc 0.892\n",
      "2017-03-29T17:03:34.357656: step 135, loss 0.302978, acc 0.906\n",
      "2017-03-29T17:03:34.514496: step 136, loss 0.349368, acc 0.89\n",
      "2017-03-29T17:03:34.679745: step 137, loss 0.322767, acc 0.9\n",
      "2017-03-29T17:03:34.832939: step 138, loss 0.334334, acc 0.912\n",
      "2017-03-29T17:03:34.983271: step 139, loss 0.427548, acc 0.862\n",
      "2017-03-29T17:03:35.137085: step 140, loss 0.300597, acc 0.916\n",
      "2017-03-29T17:03:35.287082: step 141, loss 0.370242, acc 0.89\n",
      "2017-03-29T17:03:35.451555: step 142, loss 0.344598, acc 0.888\n",
      "2017-03-29T17:03:35.613310: step 143, loss 0.377205, acc 0.886\n",
      "2017-03-29T17:03:35.761989: step 144, loss 0.323472, acc 0.892\n",
      "2017-03-29T17:03:35.925182: step 145, loss 0.390234, acc 0.868\n",
      "2017-03-29T17:03:36.077749: step 146, loss 0.381633, acc 0.874\n",
      "2017-03-29T17:03:36.246924: step 147, loss 0.373539, acc 0.882\n",
      "2017-03-29T17:03:36.402048: step 148, loss 0.318021, acc 0.908\n",
      "2017-03-29T17:03:36.563121: step 149, loss 0.361363, acc 0.876\n",
      "2017-03-29T17:03:36.726930: step 150, loss 0.510274, acc 0.826\n",
      "2017-03-29T17:03:36.888046: step 151, loss 0.632382, acc 0.784\n",
      "2017-03-29T17:03:37.040582: step 152, loss 0.626929, acc 0.798\n",
      "2017-03-29T17:03:37.207138: step 153, loss 0.512459, acc 0.844\n",
      "2017-03-29T17:03:37.364464: step 154, loss 0.343375, acc 0.908\n",
      "2017-03-29T17:03:37.516848: step 155, loss 0.317944, acc 0.904\n",
      "2017-03-29T17:03:37.674126: step 156, loss 0.346636, acc 0.89\n",
      "2017-03-29T17:03:37.827494: step 157, loss 0.305618, acc 0.908\n",
      "2017-03-29T17:03:37.978581: step 158, loss 0.258631, acc 0.92\n",
      "2017-03-29T17:03:38.133825: step 159, loss 0.343488, acc 0.878\n",
      "2017-03-29T17:03:38.283015: step 160, loss 0.307077, acc 0.908\n",
      "2017-03-29T17:03:38.450203: step 161, loss 0.287346, acc 0.902\n",
      "2017-03-29T17:03:38.604248: step 162, loss 0.368095, acc 0.88\n",
      "2017-03-29T17:03:38.764241: step 163, loss 0.320615, acc 0.914\n",
      "2017-03-29T17:03:38.924052: step 164, loss 0.27117, acc 0.92\n",
      "2017-03-29T17:03:39.087818: step 165, loss 0.340631, acc 0.906\n",
      "2017-03-29T17:03:39.241956: step 166, loss 0.33409, acc 0.91\n",
      "2017-03-29T17:03:39.403507: step 167, loss 0.25197, acc 0.922\n",
      "2017-03-29T17:03:39.566891: step 168, loss 0.357717, acc 0.9\n",
      "2017-03-29T17:03:39.734833: step 169, loss 0.305556, acc 0.914\n",
      "2017-03-29T17:03:39.893927: step 170, loss 0.354662, acc 0.886\n",
      "2017-03-29T17:03:40.050826: step 171, loss 0.320928, acc 0.906\n",
      "2017-03-29T17:03:40.207413: step 172, loss 0.320154, acc 0.902\n",
      "2017-03-29T17:03:40.377361: step 173, loss 0.292419, acc 0.912\n",
      "2017-03-29T17:03:40.529205: step 174, loss 0.271518, acc 0.922\n",
      "2017-03-29T17:03:40.696532: step 175, loss 0.258328, acc 0.928\n",
      "2017-03-29T17:03:40.852491: step 176, loss 0.312182, acc 0.91\n",
      "2017-03-29T17:03:41.009711: step 177, loss 0.329016, acc 0.916\n",
      "2017-03-29T17:03:41.165612: step 178, loss 0.317682, acc 0.908\n",
      "2017-03-29T17:03:41.324844: step 179, loss 0.3484, acc 0.892\n",
      "2017-03-29T17:03:41.479438: step 180, loss 0.263336, acc 0.926\n",
      "2017-03-29T17:03:41.642067: step 181, loss 0.247922, acc 0.92\n",
      "2017-03-29T17:03:41.789618: step 182, loss 0.317371, acc 0.902\n",
      "2017-03-29T17:03:41.950551: step 183, loss 0.32853, acc 0.898\n",
      "2017-03-29T17:03:42.100884: step 184, loss 0.295002, acc 0.918\n",
      "2017-03-29T17:03:42.252054: step 185, loss 0.335971, acc 0.896\n",
      "2017-03-29T17:03:42.398454: step 186, loss 0.331363, acc 0.884\n",
      "2017-03-29T17:03:42.551723: step 187, loss 0.328613, acc 0.888\n",
      "2017-03-29T17:03:42.720349: step 188, loss 0.30289, acc 0.9\n",
      "2017-03-29T17:03:42.883311: step 189, loss 0.199877, acc 0.944\n",
      "2017-03-29T17:03:43.034791: step 190, loss 0.321423, acc 0.898\n",
      "2017-03-29T17:03:43.190694: step 191, loss 0.303374, acc 0.908\n",
      "2017-03-29T17:03:43.347400: step 192, loss 0.269738, acc 0.914\n",
      "2017-03-29T17:03:43.508028: step 193, loss 0.274163, acc 0.922\n",
      "2017-03-29T17:03:43.668216: step 194, loss 0.344804, acc 0.916\n",
      "2017-03-29T17:03:43.824860: step 195, loss 0.265146, acc 0.918\n",
      "2017-03-29T17:03:43.986989: step 196, loss 0.295497, acc 0.91\n",
      "2017-03-29T17:03:44.150934: step 197, loss 0.386829, acc 0.878\n",
      "2017-03-29T17:03:44.306003: step 198, loss 0.346073, acc 0.908\n",
      "2017-03-29T17:03:44.482077: step 199, loss 0.344879, acc 0.886\n",
      "2017-03-29T17:03:44.635236: step 200, loss 0.258512, acc 0.904\n",
      "2017-03-29T17:03:44.789655: step 201, loss 0.292491, acc 0.906\n",
      "2017-03-29T17:03:44.955486: step 202, loss 0.301187, acc 0.904\n",
      "2017-03-29T17:03:45.113853: step 203, loss 0.311746, acc 0.908\n",
      "2017-03-29T17:03:45.268806: step 204, loss 0.336326, acc 0.908\n",
      "2017-03-29T17:03:45.422648: step 205, loss 0.283223, acc 0.908\n",
      "2017-03-29T17:03:45.581459: step 206, loss 0.313974, acc 0.92\n",
      "2017-03-29T17:03:45.752913: step 207, loss 0.280525, acc 0.918\n",
      "2017-03-29T17:03:45.907170: step 208, loss 0.27651, acc 0.924\n",
      "2017-03-29T17:03:46.070358: step 209, loss 0.29529, acc 0.896\n",
      "2017-03-29T17:03:46.227294: step 210, loss 0.276682, acc 0.91\n",
      "2017-03-29T17:03:46.390489: step 211, loss 0.256857, acc 0.918\n",
      "2017-03-29T17:03:46.539668: step 212, loss 0.242582, acc 0.928\n",
      "2017-03-29T17:03:46.696627: step 213, loss 0.222881, acc 0.946\n",
      "2017-03-29T17:03:46.849283: step 214, loss 0.228101, acc 0.93\n",
      "2017-03-29T17:03:47.003300: step 215, loss 0.215302, acc 0.932\n",
      "2017-03-29T17:03:47.159204: step 216, loss 0.202715, acc 0.942\n",
      "2017-03-29T17:03:47.310076: step 217, loss 0.276165, acc 0.924\n",
      "2017-03-29T17:03:47.477590: step 218, loss 0.265552, acc 0.918\n",
      "2017-03-29T17:03:47.641321: step 219, loss 0.220538, acc 0.934\n",
      "2017-03-29T17:03:47.798788: step 220, loss 0.322066, acc 0.898\n",
      "2017-03-29T17:03:48.028593: step 221, loss 0.270494, acc 0.91\n",
      "2017-03-29T17:03:48.183959: step 222, loss 0.245508, acc 0.912\n",
      "2017-03-29T17:03:48.349489: step 223, loss 0.242835, acc 0.924\n",
      "2017-03-29T17:03:48.513240: step 224, loss 0.223605, acc 0.934\n",
      "2017-03-29T17:03:48.678225: step 225, loss 0.232913, acc 0.93\n",
      "2017-03-29T17:03:48.835573: step 226, loss 0.225725, acc 0.928\n",
      "2017-03-29T17:03:49.003452: step 227, loss 0.238815, acc 0.938\n",
      "2017-03-29T17:03:49.157568: step 228, loss 0.254654, acc 0.926\n",
      "2017-03-29T17:03:49.315250: step 229, loss 0.252477, acc 0.922\n",
      "2017-03-29T17:03:49.473896: step 230, loss 0.273878, acc 0.928\n",
      "2017-03-29T17:03:49.635692: step 231, loss 0.351689, acc 0.904\n",
      "2017-03-29T17:03:49.793782: step 232, loss 0.271865, acc 0.904\n",
      "2017-03-29T17:03:49.959575: step 233, loss 0.274496, acc 0.9\n",
      "2017-03-29T17:03:50.108313: step 234, loss 0.20944, acc 0.936\n",
      "2017-03-29T17:03:50.270196: step 235, loss 0.240365, acc 0.932\n",
      "2017-03-29T17:03:50.426987: step 236, loss 0.302765, acc 0.892\n",
      "2017-03-29T17:03:50.580545: step 237, loss 0.26639, acc 0.914\n",
      "2017-03-29T17:03:50.753056: step 238, loss 0.280867, acc 0.902\n",
      "2017-03-29T17:03:50.912991: step 239, loss 0.244975, acc 0.924\n",
      "2017-03-29T17:03:51.068765: step 240, loss 0.240907, acc 0.934\n",
      "2017-03-29T17:03:51.245093: step 241, loss 0.249318, acc 0.922\n",
      "2017-03-29T17:03:51.402289: step 242, loss 0.277445, acc 0.918\n",
      "2017-03-29T17:03:51.562194: step 243, loss 0.255085, acc 0.922\n",
      "2017-03-29T17:03:51.730729: step 244, loss 0.265916, acc 0.916\n",
      "2017-03-29T17:03:51.890250: step 245, loss 0.256748, acc 0.91\n",
      "2017-03-29T17:03:52.047042: step 246, loss 0.23647, acc 0.93\n",
      "2017-03-29T17:03:52.214395: step 247, loss 0.209402, acc 0.936\n",
      "2017-03-29T17:03:52.364019: step 248, loss 0.300926, acc 0.898\n",
      "2017-03-29T17:03:52.524624: step 249, loss 0.233733, acc 0.928\n",
      "2017-03-29T17:03:52.683773: step 250, loss 0.208976, acc 0.942\n",
      "2017-03-29T17:03:52.843137: step 251, loss 0.283854, acc 0.9\n",
      "2017-03-29T17:03:53.004314: step 252, loss 0.288487, acc 0.896\n",
      "2017-03-29T17:03:53.163968: step 253, loss 0.250834, acc 0.906\n",
      "2017-03-29T17:03:53.314180: step 254, loss 0.285679, acc 0.918\n",
      "2017-03-29T17:03:53.486400: step 255, loss 0.238539, acc 0.922\n",
      "2017-03-29T17:03:53.640702: step 256, loss 0.218615, acc 0.934\n",
      "2017-03-29T17:03:53.800074: step 257, loss 0.284473, acc 0.926\n",
      "2017-03-29T17:03:53.965187: step 258, loss 0.256498, acc 0.916\n",
      "2017-03-29T17:03:54.135005: step 259, loss 0.257388, acc 0.916\n",
      "2017-03-29T17:03:54.293156: step 260, loss 0.301902, acc 0.904\n",
      "2017-03-29T17:03:54.457439: step 261, loss 0.241589, acc 0.93\n",
      "2017-03-29T17:03:54.608559: step 262, loss 0.224619, acc 0.926\n",
      "2017-03-29T17:03:54.791523: step 263, loss 0.233861, acc 0.934\n",
      "2017-03-29T17:03:54.955313: step 264, loss 0.275749, acc 0.926\n",
      "2017-03-29T17:03:55.108866: step 265, loss 0.225337, acc 0.92\n",
      "2017-03-29T17:03:55.270239: step 266, loss 0.213227, acc 0.934\n",
      "2017-03-29T17:03:55.432029: step 267, loss 0.220627, acc 0.934\n",
      "2017-03-29T17:03:55.581508: step 268, loss 0.215347, acc 0.932\n",
      "2017-03-29T17:03:55.761960: step 269, loss 0.227081, acc 0.93\n",
      "2017-03-29T17:03:55.921779: step 270, loss 0.176339, acc 0.956\n",
      "2017-03-29T17:03:56.083358: step 271, loss 0.24316, acc 0.92\n",
      "2017-03-29T17:03:56.245690: step 272, loss 0.226972, acc 0.922\n",
      "2017-03-29T17:03:56.406671: step 273, loss 0.209044, acc 0.936\n",
      "2017-03-29T17:03:56.565156: step 274, loss 0.210936, acc 0.924\n",
      "2017-03-29T17:03:56.736047: step 275, loss 0.226851, acc 0.93\n",
      "2017-03-29T17:03:56.894159: step 276, loss 0.227544, acc 0.936\n",
      "2017-03-29T17:03:57.048158: step 277, loss 0.201813, acc 0.932\n",
      "2017-03-29T17:03:57.208362: step 278, loss 0.245751, acc 0.926\n",
      "2017-03-29T17:03:57.374739: step 279, loss 0.219634, acc 0.93\n",
      "2017-03-29T17:03:57.524657: step 280, loss 0.247965, acc 0.926\n",
      "2017-03-29T17:03:57.693464: step 281, loss 0.193212, acc 0.934\n",
      "2017-03-29T17:03:57.850819: step 282, loss 0.202972, acc 0.936\n",
      "2017-03-29T17:03:58.008682: step 283, loss 0.202939, acc 0.944\n",
      "2017-03-29T17:03:58.167437: step 284, loss 0.200911, acc 0.942\n",
      "2017-03-29T17:03:58.319828: step 285, loss 0.232307, acc 0.93\n",
      "2017-03-29T17:03:58.481417: step 286, loss 0.249483, acc 0.926\n",
      "2017-03-29T17:03:58.641485: step 287, loss 0.236879, acc 0.926\n",
      "2017-03-29T17:03:58.804910: step 288, loss 0.230089, acc 0.924\n",
      "2017-03-29T17:03:58.970260: step 289, loss 0.238076, acc 0.928\n",
      "2017-03-29T17:03:59.120810: step 290, loss 0.17713, acc 0.958\n",
      "2017-03-29T17:03:59.274881: step 291, loss 0.146802, acc 0.964\n",
      "2017-03-29T17:03:59.429827: step 292, loss 0.215971, acc 0.934\n",
      "2017-03-29T17:03:59.588999: step 293, loss 0.197775, acc 0.944\n",
      "2017-03-29T17:03:59.753459: step 294, loss 0.268373, acc 0.932\n",
      "2017-03-29T17:03:59.915915: step 295, loss 0.234985, acc 0.916\n",
      "2017-03-29T17:04:00.072809: step 296, loss 0.232788, acc 0.924\n",
      "2017-03-29T17:04:00.241157: step 297, loss 0.271998, acc 0.92\n",
      "2017-03-29T17:04:00.399596: step 298, loss 0.208817, acc 0.94\n",
      "2017-03-29T17:04:00.554962: step 299, loss 0.247766, acc 0.93\n",
      "2017-03-29T17:04:00.709593: step 300, loss 0.267456, acc 0.92\n",
      "Test accuracy\n",
      "0.9388\n",
      "Saved model checkpoint to /home/csegura/repo/deeplearning-tutorials/intro_tensorflow/runs/1490799778/summaries/train/model-300\n",
      "\n"
     ]
    }
   ],
   "source": [
    "sess.run(tf.global_variables_initializer())\n",
    "\n",
    "\n",
    "# Train\n",
    "for _ in range(300):\n",
    "    batch_xs, batch_ys = mnist.train.next_batch(500)\n",
    "    feed_dict={mnist_dnn.input_x: batch_xs, mnist_dnn.input_y: batch_ys}\n",
    "    _, step, summaries, loss, accuracy = sess.run([train_op, global_step, train_summary_op, mnist_dnn.loss, mnist_dnn.accuracy],  feed_dict)\n",
    "\n",
    "    time_str = datetime.datetime.now().isoformat()\n",
    "    print(\"{}: step {}, loss {:g}, acc {:g}\".format(time_str, step, loss, accuracy))\n",
    "    train_summary_writer.add_summary(summaries, step)\n",
    "\n",
    "    \n",
    "    \n",
    "# Test trained model\n",
    "print(\"Test accuracy\")\n",
    "[accuracy, _ ] =sess.run([mnist_dnn.accuracy, get_image_features_op], feed_dict={mnist_dnn.input_x: mnist.test.images,\n",
    "                                  mnist_dnn.input_y: mnist.test.labels})\n",
    "print(accuracy)\n",
    "\n",
    "path = saver.save(sess, checkpoint_prefix, global_step=step)\n",
    "print(\"Saved model checkpoint to {}\\n\".format(path))    \n",
    "sess.close()"
   ]
  },
  {
   "cell_type": "code",
   "execution_count": null,
   "metadata": {
    "collapsed": true,
    "deletable": true,
    "editable": true
   },
   "outputs": [],
   "source": []
  }
 ],
 "metadata": {
  "celltoolbar": "Slideshow",
  "kernelspec": {
   "display_name": "Python 3",
   "language": "python",
   "name": "python3"
  },
  "language_info": {
   "codemirror_mode": {
    "name": "ipython",
    "version": 3
   },
   "file_extension": ".py",
   "mimetype": "text/x-python",
   "name": "python",
   "nbconvert_exporter": "python",
   "pygments_lexer": "ipython3",
   "version": "3.5.3"
  },
  "livereveal": {
   "height": 720,
   "scroll": true,
   "start_slideshow_at": "selected",
   "width": 1280
  }
 },
 "nbformat": 4,
 "nbformat_minor": 2
}
