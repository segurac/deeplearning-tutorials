{
 "cells": [
  {
   "cell_type": "markdown",
   "metadata": {
    "deletable": true,
    "editable": true,
    "slideshow": {
     "slide_type": "slide"
    }
   },
   "source": [
    "# Introduction to Deep Learning with Tensorflow\n",
    "<br><br><br>\n",
    "\n",
    "##  Carlos Segura \n",
    "<b>\n",
    "## Associate Researcher @ TID"
   ]
  },
  {
   "cell_type": "markdown",
   "metadata": {
    "deletable": true,
    "editable": true,
    "slideshow": {
     "slide_type": "slide"
    }
   },
   "source": [
    "# What is Tensorflow?"
   ]
  },
  {
   "cell_type": "markdown",
   "metadata": {
    "deletable": true,
    "editable": true,
    "slideshow": {
     "slide_type": "fragment"
    }
   },
   "source": [
    "* TensorFlow is a deep learning library\n",
    "     * open-sourced by Google.\n",
    "* TensorFlow provides primitives for\n",
    "defining functions on tensors and\n",
    "automatically computing their derivatives.\n",
    "\n",
    "* Python library that can work with symbolic mathematical expressions\n",
    "    * *Symbolic differentation*: symbolic graphs for computing gradients\n",
    "* Optimized for multi-dimensional arrays, like numpy.ndarray\n",
    "    * Tensors\n",
    "* Same code can work in CPU or GPU"
   ]
  },
  {
   "cell_type": "markdown",
   "metadata": {
    "deletable": true,
    "editable": true,
    "slideshow": {
     "slide_type": "slide"
    }
   },
   "source": [
    "### Installing Tensorflow\n",
    "* Requirements\n",
    "    * OS: Linux, Mac OS X, Windows\n",
    "    * Python: >= 2.7 || >= 3.5\n",
    "* pip install tensorflow [tensorflow-gpu]\n",
    " "
   ]
  },
  {
   "cell_type": "markdown",
   "metadata": {
    "deletable": true,
    "editable": true,
    "slideshow": {
     "slide_type": "slide"
    }
   },
   "source": [
    "## Basic usage:\n",
    "\n",
    "* Represent computations as graphs\n",
    "* Execute graphs in the context of sessions\n",
    "* Represent data as tensors\n",
    "* Maintain state with Variables\n",
    "* Use feeds and fetches to get data in and out of graph executions"
   ]
  },
  {
   "cell_type": "code",
   "execution_count": 1,
   "metadata": {
    "collapsed": false,
    "deletable": true,
    "editable": true,
    "slideshow": {
     "slide_type": "slide"
    }
   },
   "outputs": [],
   "source": [
    "## Graphs\n",
    "import tensorflow as tf\n",
    "\n",
    "# Create a Constant op that produces a 1x2 matrix.  The op is\n",
    "# added as a node to the default graph.\n",
    "#\n",
    "# The value returned by the constructor represents the output\n",
    "# of the Constant op.\n",
    "matrix1 = tf.constant([[3., 3.]])\n",
    "\n",
    "# Create another Constant that produces a 2x1 matrix.\n",
    "matrix2 = tf.constant([[2.],[2.]])\n",
    "\n",
    "# Create a Matmul op that takes 'matrix1' and 'matrix2' as inputs.\n",
    "# The returned value, 'product', represents the result of the matrix\n",
    "# multiplication.\n",
    "product = tf.matmul(matrix1, matrix2)"
   ]
  },
  {
   "cell_type": "code",
   "execution_count": 2,
   "metadata": {
    "collapsed": false,
    "deletable": true,
    "editable": true,
    "slideshow": {
     "slide_type": "slide"
    }
   },
   "outputs": [
    {
     "name": "stdout",
     "output_type": "stream",
     "text": [
      "[[ 12.]]\n"
     ]
    }
   ],
   "source": [
    "#To actually multiply the matrices, and get the result of the multiplication, you must launch the graph in a session.\n",
    "# Launch the default graph.\n",
    "sess = tf.Session()\n",
    "\n",
    "# To run the matmul op we call the session 'run()' method, passing 'product'\n",
    "# which represents the output of the matmul op.  This indicates to the call\n",
    "# that we want to get the output of the matmul op back.\n",
    "#\n",
    "# All inputs needed by the op are run automatically by the session.  They\n",
    "# typically are run in parallel.\n",
    "#\n",
    "# The call 'run(product)' thus causes the execution of three ops in the\n",
    "# graph: the two constants and matmul.\n",
    "#\n",
    "# The output of the op is returned in 'result' as a numpy `ndarray` object.\n",
    "result = sess.run(product)\n",
    "print(result)\n",
    "# ==> [[ 12.]]\n",
    "\n",
    "# Close the Session when we're done.\n",
    "sess.close()"
   ]
  },
  {
   "cell_type": "code",
   "execution_count": 3,
   "metadata": {
    "collapsed": false,
    "deletable": true,
    "editable": true,
    "slideshow": {
     "slide_type": "slide"
    }
   },
   "outputs": [
    {
     "name": "stdout",
     "output_type": "stream",
     "text": [
      "[array([[ 12.]], dtype=float32)]\n"
     ]
    }
   ],
   "source": [
    "# Sessions should be closed to release resources.\n",
    "# You can also enter a Session with a \"with\" block. \n",
    "# The Session closes automatically at the end of the with block.\n",
    "\n",
    "\n",
    "with tf.Session() as sess:\n",
    "  result = sess.run([product])\n",
    "  print(result)"
   ]
  },
  {
   "cell_type": "code",
   "execution_count": 4,
   "metadata": {
    "collapsed": true,
    "deletable": true,
    "editable": true,
    "slideshow": {
     "slide_type": "fragment"
    }
   },
   "outputs": [],
   "source": [
    "#\n",
    "with tf.Session() as sess:\n",
    "  with tf.device(\"/gpu:0\"): #/cpu:0 /gpu:0 /gpu:1 /gpu:2\n",
    "    matrix1 = tf.constant([[3., 3.]])\n",
    "    matrix2 = tf.constant([[2.],[2.]])\n",
    "    product = tf.matmul(matrix1, matrix2)"
   ]
  },
  {
   "cell_type": "code",
   "execution_count": 5,
   "metadata": {
    "collapsed": false,
    "deletable": true,
    "editable": true,
    "slideshow": {
     "slide_type": "slide"
    }
   },
   "outputs": [
    {
     "name": "stdout",
     "output_type": "stream",
     "text": [
      "0\n",
      "1\n",
      "2\n",
      "3\n"
     ]
    }
   ],
   "source": [
    "# Create a Variable, that will be initialized to the scalar value 0.\n",
    "state = tf.Variable(0, name=\"counter\")\n",
    "\n",
    "# Create an Op to add one to `state`.\n",
    "\n",
    "one = tf.constant(1)\n",
    "new_value = tf.add(state, one)\n",
    "update = tf.assign(state, new_value)\n",
    "\n",
    "# Variables must be initialized by running an `init` Op after having\n",
    "# launched the graph.  We first have to add the `init` Op to the graph.\n",
    "init_op = tf.global_variables_initializer()\n",
    "\n",
    "# Launch the graph and run the ops.\n",
    "with tf.Session() as sess:\n",
    "  # Run the 'init' op\n",
    "  sess.run(init_op)\n",
    "  # Print the initial value of 'state'\n",
    "  print(sess.run(state))\n",
    "  # Run the op that updates 'state' and print 'state'.\n",
    "  for _ in range(3):\n",
    "    sess.run(update)\n",
    "    print(sess.run(state))\n"
   ]
  },
  {
   "cell_type": "code",
   "execution_count": 6,
   "metadata": {
    "collapsed": false,
    "deletable": true,
    "editable": true,
    "slideshow": {
     "slide_type": "slide"
    }
   },
   "outputs": [
    {
     "name": "stdout",
     "output_type": "stream",
     "text": [
      "[array([ 21.], dtype=float32), array([ 7.], dtype=float32)]\n"
     ]
    }
   ],
   "source": [
    "#Fetches:\n",
    "input1 = tf.constant([3.0])\n",
    "input2 = tf.constant([2.0])\n",
    "input3 = tf.constant([5.0])\n",
    "intermed = tf.add(input2, input3)\n",
    "mul = input1 * intermed\n",
    "\n",
    "with tf.Session() as sess:\n",
    "  result = sess.run([mul, intermed])\n",
    "  print(result)\n"
   ]
  },
  {
   "cell_type": "code",
   "execution_count": 7,
   "metadata": {
    "collapsed": false,
    "deletable": true,
    "editable": true,
    "slideshow": {
     "slide_type": "slide"
    }
   },
   "outputs": [
    {
     "name": "stdout",
     "output_type": "stream",
     "text": [
      "[array([ 14.], dtype=float32)]\n"
     ]
    }
   ],
   "source": [
    "#Feeds\n",
    "input1 = tf.placeholder(tf.float32)\n",
    "input2 = tf.placeholder(tf.float32)\n",
    "output = input1 * input2\n",
    "\n",
    "with tf.Session() as sess:\n",
    "  print(sess.run([output], feed_dict={input1:[7.], input2:[2.]}))"
   ]
  },
  {
   "cell_type": "markdown",
   "metadata": {
    "deletable": true,
    "editable": true,
    "slideshow": {
     "slide_type": "slide"
    }
   },
   "source": [
    "## Linear Regression example\n",
    "\n",
    "<img src=\"http://www.atmos.washington.edu/~robwood/teaching/451/labs/images/concepts12.jpg\">"
   ]
  },
  {
   "cell_type": "code",
   "execution_count": 8,
   "metadata": {
    "collapsed": false,
    "deletable": true,
    "editable": true,
    "slideshow": {
     "slide_type": "slide"
    }
   },
   "outputs": [
    {
     "name": "stdout",
     "output_type": "stream",
     "text": [
      "Once deleted, variables cannot be recovered. Proceed (y/[n])? y\n"
     ]
    },
    {
     "data": {
      "image/png": "[encoded data removed]",
      "text/plain": [
       "<matplotlib.figure.Figure at 0x7f39b68a3ba8>"
      ]
     },
     "metadata": {},
     "output_type": "display_data"
    }
   ],
   "source": [
    "%reset\n",
    "import numpy as np\n",
    "trainX = np.linspace(-1,1, 200 )\n",
    "trainY = (2 * trainX + 1.0 + np.random.randn(*trainX.shape)*0.8)\n",
    "\n",
    "%matplotlib inline\n",
    "import matplotlib.pyplot as plt\n",
    "fig = plt.figure( figsize=(8, 8))\n",
    "plt.plot(trainX, trainY, 'bo', markeredgecolor='none')\n",
    "plt.ylabel('Line with noise')\n",
    "plt.show()"
   ]
  },
  {
   "cell_type": "code",
   "execution_count": 9,
   "metadata": {
    "collapsed": false,
    "deletable": true,
    "editable": true,
    "slideshow": {
     "slide_type": "slide"
    }
   },
   "outputs": [],
   "source": [
    "import tensorflow as tf\n",
    "\n",
    "\n",
    "X = tf.placeholder(\"float\")\n",
    "Y = tf.placeholder(\"float\")\n",
    "\n",
    "# Set model weights\n",
    "w = tf.Variable(np.random.randn(), name=\"weight\")\n",
    "b = tf.Variable(np.random.randn(), name=\"bias\")\n",
    "\n",
    "prediction = X*w + b\n",
    "loss = tf.reduce_mean(tf.pow(prediction-Y, 2))\n",
    "\n",
    "var_grads = tf.gradients(loss, [w,b])\n",
    "\n",
    "learning_rate = tf.constant(0.3)\n",
    "\n",
    "new_w =  w - var_grads[0] * learning_rate \n",
    "new_b =  b - var_grads[1] * learning_rate\n",
    "\n",
    "update_w = tf.assign(w, new_w)\n",
    "update_b = tf.assign(b, new_b)\n",
    "\n",
    "init_op = tf.global_variables_initializer()\n",
    "\n",
    "\n",
    "\n"
   ]
  },
  {
   "cell_type": "code",
   "execution_count": 10,
   "metadata": {
    "collapsed": false,
    "deletable": true,
    "editable": true,
    "slideshow": {
     "slide_type": "slide"
    }
   },
   "outputs": [
    {
     "data": {
      "image/png": "[encoded data removed]",
      "text/plain": [
       "<matplotlib.figure.Figure at 0x7f394b7efda0>"
      ]
     },
     "metadata": {},
     "output_type": "display_data"
    },
    {
     "name": "stdout",
     "output_type": "stream",
     "text": [
      "Cost:  0.573742  w: [2.1729417]  b: [1.0545049]\n"
     ]
    },
    {
     "data": {
      "image/png": "[encoded data removed]",
      "text/plain": [
       "<matplotlib.figure.Figure at 0x7f394b7efda0>"
      ]
     },
     "metadata": {},
     "output_type": "display_data"
    }
   ],
   "source": [
    "%matplotlib inline\n",
    "import time\n",
    "import pylab as plt\n",
    "from IPython import display\n",
    "\n",
    "fig = plt.figure( figsize=(10, 10))\n",
    "with tf.Session() as sess:\n",
    "    sess.run(init_op)\n",
    "    for epoch in range(15):\n",
    "        [current_loss, _, _ ] = sess.run(\n",
    "                [loss, update_w, update_b ], \n",
    "                feed_dict={X:trainX, Y:trainY})\n",
    "        current_w = sess.run([w])\n",
    "        current_b = sess.run([b])\n",
    "        \n",
    "\n",
    "        plt.clf()\n",
    "        plt.plot(trainX, trainY,'o',color='b', markeredgecolor='none')\n",
    "        plt.plot(trainX, trainX*current_w + current_b, color='r',)\n",
    "        print('Cost: ', current_loss,' w:',current_w, ' b:',current_b)\n",
    "        display.clear_output(wait=True)\n",
    "        display.display(plt.gcf())\n",
    "\n",
    "print('Cost: ', current_loss,' w:',current_w, ' b:',current_b)"
   ]
  },
  {
   "cell_type": "markdown",
   "metadata": {
    "deletable": true,
    "editable": true,
    "slideshow": {
     "slide_type": "slide"
    }
   },
   "source": [
    "## CNN example with MNIST\n",
    "\n",
    "Dataset of images of handwritten digits like these\n",
    "\n",
    "<div style=\"width: 400px\">\n",
    "![esto puede in en el style float:left;](https://www.tensorflow.org/images/MNIST.png)\n",
    "</div>\n",
    " Each image is 28 pixels by 28 pixels. Can be interpreted as a matrix:\n",
    "<div style=\"width: 200px\">\n",
    "![MNIST Pixels](https://www.tensorflow.org/images/MNIST-Matrix.png)\n",
    "</div>\n",
    "\n",
    "<div style=\"float:left;width: 400px\">\n",
    "![train ](https://www.tensorflow.org/images/mnist-train-xs.png)\n",
    "</div>\n",
    "\n",
    "<div style=\"float:right;width: 500px\">\n",
    "![1hot labels ](https://www.tensorflow.org/images/mnist-train-ys.png)\n",
    "</div>\n",
    "<br><br><br><br><br><br><br><br><br>\n",
    "Images are = [55000, 28 ,28]    \n",
    "reshaped into [5500, 784]         \n",
    "\n",
    "Labels are [55000, 10]\n",
    "(One-hot encoding of classes)\n"
   ]
  },
  {
   "cell_type": "code",
   "execution_count": 1,
   "metadata": {
    "collapsed": false,
    "deletable": true,
    "editable": true,
    "slideshow": {
     "slide_type": "slide"
    }
   },
   "outputs": [
    {
     "name": "stdout",
     "output_type": "stream",
     "text": [
      "Extracting ./MNIST_DATA/train-images-idx3-ubyte.gz\n",
      "Extracting ./MNIST_DATA/train-labels-idx1-ubyte.gz\n",
      "Extracting ./MNIST_DATA/t10k-images-idx3-ubyte.gz\n",
      "Extracting ./MNIST_DATA/t10k-labels-idx1-ubyte.gz\n"
     ]
    }
   ],
   "source": [
    "# %reset\n",
    "import argparse\n",
    "import sys\n",
    "import os\n",
    "import time\n",
    "import datetime\n",
    "\n",
    "import tensorflow as tf\n",
    "from tensorflow.examples.tutorials.mnist import input_data\n",
    "\n",
    "\n",
    "\n",
    "mnist = input_data.read_data_sets(\"./MNIST_DATA\", one_hot=True)\n"
   ]
  },
  {
   "cell_type": "code",
   "execution_count": 2,
   "metadata": {
    "collapsed": false,
    "deletable": true,
    "editable": true,
    "slideshow": {
     "slide_type": "subslide"
    }
   },
   "outputs": [],
   "source": [
    "class MNIST_CNN():\n",
    "    \"\"\"\n",
    "    A network for a classifier of digit images.\n",
    "    Input are 2D grayscale images reshaped into a vector, and the labels in one-hot encoding\n",
    "    Uses 2 Conv Layers, 1 hidden layer and softmax layer.\n",
    "    \"\"\"\n",
    "    def __init__(self, img_length, hidden_layer_size = 256, num_classes=10):\n",
    "        self.input_x = tf.placeholder(tf.float32, \n",
    "                            [None, img_length], name=\"input_x\")\n",
    "        self.input_y = tf.placeholder(tf.float32, \n",
    "                            [None, num_classes], name=\"input_y\")\n",
    "\n",
    "        # Input Layer\n",
    "        # Dimesnions are [batch_size, image_width, image_height, channels]\n",
    "        self.input_layer = tf.reshape(self.input_x, [-1, 28, 28, 1]) \n",
    "\n",
    "\n",
    "        # Convolutional Layer #1\n",
    "        with tf.name_scope(\"Conv_1\"):\n",
    "            nfilters1=8\n",
    "            self.W_conv1=tf.Variable(tf.truncated_normal([5, 5, 1, nfilters1], stddev=0.1), name=\"W\")\n",
    "            b = tf.Variable(tf.constant(0.1, shape=[nfilters1]), name=\"b\")\n",
    "            conv_out = tf.nn.conv2d(self.input_layer, self.W_conv1, \n",
    "                                 strides=[1, 1, 1, 1], padding='SAME') \n",
    "            self.conv1 = tf.nn.relu(conv_out + b)\n",
    "            self.pool1 = tf.nn.max_pool(self.conv1, ksize=[1, 2, 2, 1],\n",
    "                        strides=[1, 2, 2, 1], padding='SAME')\n",
    "\n",
    "            \n",
    "            #self.conv1 = tf.layers.conv2d(\n",
    "            #      inputs=self.input_layer,\n",
    "            #      filters=32,\n",
    "            #      kernel_size=[5, 5],\n",
    "            #      padding=\"same\",\n",
    "            #      activation=tf.nn.relu)\n",
    "            # Pooling Layer #1\n",
    "            #self.pool1 = tf.layers.max_pooling2d(inputs=self.conv1, pool_size=[2, 2], strides=2)\n",
    "\n",
    "        # Convolutional Layer #2 and Pooling Layer #2\n",
    "        with tf.name_scope(\"Conv_2\"):\n",
    "            nfilters2=16\n",
    "            self.W_conv2=tf.Variable(tf.truncated_normal([3, 3, nfilters1, nfilters2], stddev=0.1), name=\"W\")\n",
    "            b = tf.Variable(tf.constant(0.1, shape=[nfilters2]), name=\"b\")\n",
    "            \n",
    "            conv_out = tf.nn.conv2d(self.pool1, self.W_conv2, \n",
    "                                 strides=[1, 1, 1, 1], padding='SAME') \n",
    "            self.conv2 = tf.nn.relu(conv_out + b)\n",
    "            self.pool2 = tf.nn.max_pool(self.conv2, ksize=[1, 2, 2, 1],\n",
    "                        strides=[1, 2, 2, 1], padding='SAME')\n",
    "\n",
    "            #self.conv2 = tf.layers.conv2d(\n",
    "            #      inputs=self.pool1,\n",
    "            #      filters=64,\n",
    "            #      kernel_size=[5, 5],\n",
    "            #      padding=\"same\",\n",
    "            #      activation=tf.nn.relu)\n",
    "            #self.pool2 = tf.layers.max_pooling2d(inputs=self.conv2, pool_size=[2, 2], strides=2)\n",
    "\n",
    "        #Flat feature maps\n",
    "        self.pool2_flat = tf.reshape(self.pool2, [-1, 7 * 7 * nfilters2])\n",
    "\n",
    "        # Dense Layer\n",
    "        with tf.name_scope(\"hidden_layer_1\"):\n",
    "            W = tf.Variable(tf.truncated_normal([7 * 7 * nfilters2, hidden_layer_size], stddev=0.1), name=\"W\")\n",
    "            b = tf.Variable(tf.constant(0.1, shape=[hidden_layer_size]), name=\"b\")\n",
    "            self.hl1 = tf.nn.relu ( tf.matmul(self.pool2_flat, W) + b )\n",
    "            #dense = tf.layers.dense(inputs=pool2_flat, units=1024, activation=tf.nn.relu)\n",
    "\n",
    "\n",
    "\n",
    "        with tf.name_scope(\"softmax_layer\"):\n",
    "            W = tf.Variable(tf.truncated_normal([hidden_layer_size, num_classes], stddev=0.1), name=\"W\")\n",
    "            b = tf.Variable(tf.constant(0.1, shape=[num_classes]), name=\"b\")\n",
    "            self.scores = tf.nn.xw_plus_b(self.hl1, W, b, name=\"scores\")\n",
    "            self.predictions = tf.argmax(self.scores, 1, name=\"predictions\")\n",
    "\n",
    "\n",
    "        # CalculateMean cross-entropy loss\n",
    "        with tf.name_scope(\"loss\"):\n",
    "            losses = tf.nn.softmax_cross_entropy_with_logits(logits=self.scores, labels=self.input_y)\n",
    "            self.loss = tf.reduce_mean(losses)\n",
    "\n",
    "        # Accuracy\n",
    "        with tf.name_scope(\"accuracy\"):\n",
    "            correct_predictions = tf.equal(self.predictions, tf.argmax(self.input_y, 1))\n",
    "            self.accuracy = tf.reduce_mean(tf.cast(correct_predictions, \"float\"), name=\"accuracy\")\n",
    "\n"
   ]
  },
  {
   "cell_type": "code",
   "execution_count": 3,
   "metadata": {
    "collapsed": false,
    "deletable": true,
    "editable": true,
    "slideshow": {
     "slide_type": "slide"
    }
   },
   "outputs": [],
   "source": [
    "#sess = tf.Session()\n",
    "sess = tf.InteractiveSession() #for running inside notebook\n",
    "with tf.device(\"/cpu:0\"):\n",
    "    mnist_dnn = MNIST_CNN(img_length=784, hidden_layer_size = 128, num_classes=10)\n",
    "\n",
    "    # Define Training procedure\n",
    "    global_step = tf.Variable(0, name=\"global_step\", trainable=False)\n",
    "    train_op = tf.train.GradientDescentOptimizer(0.05).minimize(mnist_dnn.loss, global_step=global_step)\n"
   ]
  },
  {
   "cell_type": "code",
   "execution_count": 4,
   "metadata": {
    "collapsed": false,
    "deletable": true,
    "editable": true,
    "slideshow": {
     "slide_type": "slide"
    }
   },
   "outputs": [
    {
     "name": "stdout",
     "output_type": "stream",
     "text": [
      "Writing to /home/csegura/repo/deeplearning-tutorials/intro_tensorflow/runs/1490797861\n",
      "\n",
      "Conv_1/W:0\n",
      "Conv_1/b:0\n",
      "Conv_2/W:0\n",
      "Conv_2/b:0\n",
      "hidden_layer_1/W:0\n",
      "hidden_layer_1/b:0\n",
      "softmax_layer/W:0\n",
      "softmax_layer/b:0\n"
     ]
    }
   ],
   "source": [
    "from tensorflow.contrib.tensorboard.plugins import projector\n",
    "import numpy as np\n",
    "\n",
    "timestamp = str(int(time.time()))\n",
    "out_dir = os.path.abspath(os.path.join(os.path.curdir, \"runs\", timestamp))\n",
    "print(\"Writing to {}\\n\".format(out_dir))\n",
    "\n",
    "# Summaries for loss and accuracy\n",
    "loss_summary = tf.summary.scalar(\"loss\", mnist_dnn.loss)\n",
    "acc_summary = tf.summary.scalar(\"accuracy\", mnist_dnn.accuracy)\n",
    "\n",
    "\n",
    "with tf.name_scope('var_summary'):\n",
    "    for var in tf.trainable_variables():\n",
    "        with tf.name_scope(var.name.split(':')[0]):\n",
    "            print(var.name)\n",
    "            if var.name.startswith(\"counter\"):\n",
    "                continue\n",
    "            mean = tf.reduce_mean(var)\n",
    "            tf.summary.scalar('mean', mean)\n",
    "            with tf.name_scope('stddev'):\n",
    "                stddev = tf.sqrt(tf.reduce_mean(tf.square(var - mean)))\n",
    "            tf.summary.scalar('stddev', stddev)\n",
    "            tf.summary.scalar('max', tf.reduce_max(var))\n",
    "            tf.summary.scalar('min', tf.reduce_min(var))\n",
    "            tf.summary.histogram('histogram', var)\n",
    "\n",
    "with tf.variable_scope('visualization_conv1'):\n",
    "    # scale weights to [0 1], type is still float\n",
    "    kernel = mnist_dnn.W_conv1\n",
    "    x_min = tf.reduce_min(kernel)\n",
    "    x_max = tf.reduce_max(kernel)\n",
    "    kernel_0_to_1 = (kernel - x_min) / (x_max - x_min)\n",
    "\n",
    "    # to tf.image_summary format [batch_size, height, width, channels]\n",
    "    kernel_transposed = tf.transpose (kernel_0_to_1, [3, 0, 1, 2])\n",
    "\n",
    "    # this will display random 3 filters from the 32 in conv1\n",
    "    tf.summary.image('filters', kernel_transposed, max_outputs=16)\n",
    "\n",
    "with tf.variable_scope('visualization_conv2'):    \n",
    "    kernel = mnist_dnn.W_conv2\n",
    "    x_min = tf.reduce_min(kernel)\n",
    "    x_max = tf.reduce_max(kernel)\n",
    "    kernel_0_to_1 = (kernel - x_min) / (x_max - x_min)\n",
    "\n",
    "    # to tf.image_summary format [batch_size, height, width, channels]\n",
    "    kernel_transposed = tf.transpose (kernel_0_to_1, [3, 0, 1, 2])\n",
    "    kernel_transposed = tf.slice(kernel_transposed, [0, 0, 0,0], [-1, -1, -1, 1]) \n",
    "\n",
    "    # this will display random 3 filters from the 32 in conv1\n",
    "    tf.summary.image('conv2/filters', kernel_transposed, max_outputs=16)\n",
    "            \n",
    "image_features = tf.Variable(tf.truncated_normal([10000, 128], stddev=0.1), trainable=False, name='image_features')\n",
    "# Train Summaries\n",
    "#train_summary_op = tf.summary.merge([loss_summary, acc_summary ])\n",
    "train_summary_op = tf.summary.merge_all()\n",
    "train_summary_dir = os.path.join(out_dir, \"summaries\", \"train\")\n",
    "train_summary_writer = tf.summary.FileWriter(train_summary_dir, sess.graph)\n",
    "\n",
    "\n",
    "\n",
    "config = projector.ProjectorConfig()\n",
    "embed= config.embeddings.add()\n",
    "embed.tensor_name = image_features.name\n",
    "embed.metadata_path = os.path.join(train_summary_dir + '/metadata.tsv')\n",
    "embed.sprite.image_path = os.path.join('./mnist_10k_sprite.png')\n",
    "\n",
    "# Specify the width and height of a single thumbnail.\n",
    "embed.sprite.single_image_dim.extend([28, 28])\n",
    "projector.visualize_embeddings(train_summary_writer, config)\n",
    "\n",
    "def save_metadata(file):\n",
    "    with open(file, 'w') as f:\n",
    "        for i in range(10000):\n",
    "            c = np.nonzero(mnist.test.labels[::1])[1:][0][i]\n",
    "            f.write('{}\\n'.format(c))\n",
    "\n",
    "save_metadata(embed.metadata_path)\n",
    "get_image_features_op = tf.assign(image_features, mnist_dnn.hl1)"
   ]
  },
  {
   "cell_type": "code",
   "execution_count": 5,
   "metadata": {
    "collapsed": true,
    "deletable": true,
    "editable": true,
    "slideshow": {
     "slide_type": "slide"
    }
   },
   "outputs": [],
   "source": [
    "\n",
    "checkpoint_prefix = os.path.join(train_summary_dir, \"model\")\n",
    "if not os.path.exists(checkpoint_prefix):\n",
    "    os.makedirs(checkpoint_prefix)\n",
    "saver = tf.train.Saver(tf.global_variables(), max_to_keep=5)"
   ]
  },
  {
   "cell_type": "code",
   "execution_count": 7,
   "metadata": {
    "collapsed": false,
    "deletable": true,
    "editable": true,
    "slideshow": {
     "slide_type": "slide"
    }
   },
   "outputs": [
    {
     "name": "stdout",
     "output_type": "stream",
     "text": [
      "2017-03-29T16:31:25.750151: step 1, loss 2.41613, acc 0.12\n",
      "2017-03-29T16:31:25.817022: step 2, loss 2.32421, acc 0.15\n",
      "2017-03-29T16:31:25.883269: step 3, loss 2.3183, acc 0.12\n",
      "2017-03-29T16:31:25.951343: step 4, loss 2.29139, acc 0.15\n",
      "2017-03-29T16:31:26.025448: step 5, loss 2.27513, acc 0.195\n",
      "2017-03-29T16:31:26.088752: step 6, loss 2.27115, acc 0.175\n",
      "2017-03-29T16:31:26.159364: step 7, loss 2.26317, acc 0.15\n",
      "2017-03-29T16:31:26.232924: step 8, loss 2.23756, acc 0.18\n",
      "2017-03-29T16:31:26.305291: step 9, loss 2.24129, acc 0.15\n",
      "2017-03-29T16:31:26.369027: step 10, loss 2.23126, acc 0.285\n",
      "2017-03-29T16:31:26.442024: step 11, loss 2.20637, acc 0.305\n",
      "2017-03-29T16:31:26.515976: step 12, loss 2.22237, acc 0.23\n",
      "2017-03-29T16:31:26.580233: step 13, loss 2.1901, acc 0.285\n",
      "2017-03-29T16:31:26.647031: step 14, loss 2.19261, acc 0.33\n",
      "2017-03-29T16:31:26.720477: step 15, loss 2.16253, acc 0.32\n",
      "2017-03-29T16:31:26.790127: step 16, loss 2.15273, acc 0.355\n",
      "2017-03-29T16:31:26.867583: step 17, loss 2.13201, acc 0.395\n",
      "2017-03-29T16:31:26.934332: step 18, loss 2.1349, acc 0.32\n",
      "2017-03-29T16:31:27.001261: step 19, loss 2.12704, acc 0.44\n",
      "2017-03-29T16:31:27.081785: step 20, loss 2.08885, acc 0.475\n",
      "2017-03-29T16:31:27.170163: step 21, loss 2.07446, acc 0.465\n",
      "2017-03-29T16:31:27.265394: step 22, loss 2.0613, acc 0.485\n",
      "2017-03-29T16:31:27.343741: step 23, loss 2.00219, acc 0.475\n",
      "2017-03-29T16:31:27.412657: step 24, loss 1.91838, acc 0.58\n",
      "2017-03-29T16:31:27.495740: step 25, loss 1.91065, acc 0.47\n",
      "2017-03-29T16:31:27.576573: step 26, loss 1.89522, acc 0.545\n",
      "2017-03-29T16:31:27.661341: step 27, loss 1.87107, acc 0.565\n",
      "2017-03-29T16:31:27.749155: step 28, loss 1.81548, acc 0.605\n",
      "2017-03-29T16:31:27.815910: step 29, loss 1.79165, acc 0.6\n",
      "2017-03-29T16:31:27.881806: step 30, loss 1.69933, acc 0.56\n",
      "2017-03-29T16:31:27.945356: step 31, loss 1.6215, acc 0.67\n",
      "2017-03-29T16:31:28.018523: step 32, loss 1.64424, acc 0.595\n",
      "2017-03-29T16:31:28.082681: step 33, loss 1.68386, acc 0.435\n",
      "2017-03-29T16:31:28.151622: step 34, loss 1.66373, acc 0.505\n",
      "2017-03-29T16:31:28.215682: step 35, loss 1.58151, acc 0.54\n",
      "2017-03-29T16:31:28.289048: step 36, loss 1.52236, acc 0.555\n",
      "2017-03-29T16:31:28.350882: step 37, loss 1.66812, acc 0.415\n",
      "2017-03-29T16:31:28.414578: step 38, loss 1.65368, acc 0.56\n",
      "2017-03-29T16:31:28.485285: step 39, loss 1.36782, acc 0.625\n",
      "2017-03-29T16:31:28.557564: step 40, loss 1.35608, acc 0.64\n",
      "2017-03-29T16:31:28.626304: step 41, loss 1.37266, acc 0.59\n",
      "2017-03-29T16:31:28.693021: step 42, loss 1.60484, acc 0.535\n",
      "2017-03-29T16:31:28.762527: step 43, loss 1.27651, acc 0.55\n",
      "2017-03-29T16:31:28.830303: step 44, loss 1.34853, acc 0.615\n",
      "2017-03-29T16:31:28.895501: step 45, loss 1.38574, acc 0.585\n",
      "2017-03-29T16:31:28.960156: step 46, loss 1.1031, acc 0.635\n",
      "2017-03-29T16:31:29.038735: step 47, loss 1.32605, acc 0.54\n",
      "2017-03-29T16:31:29.102453: step 48, loss 1.32768, acc 0.655\n",
      "2017-03-29T16:31:29.167272: step 49, loss 1.33091, acc 0.575\n",
      "2017-03-29T16:31:29.231568: step 50, loss 1.17975, acc 0.56\n",
      "2017-03-29T16:31:29.301194: step 51, loss 1.04355, acc 0.725\n",
      "2017-03-29T16:31:29.367544: step 52, loss 0.953262, acc 0.71\n",
      "2017-03-29T16:31:29.433111: step 53, loss 0.769129, acc 0.805\n",
      "2017-03-29T16:31:29.504690: step 54, loss 0.902665, acc 0.725\n",
      "2017-03-29T16:31:29.580892: step 55, loss 0.886172, acc 0.735\n",
      "2017-03-29T16:31:29.655043: step 56, loss 0.995659, acc 0.71\n",
      "2017-03-29T16:31:29.724117: step 57, loss 1.18992, acc 0.7\n",
      "2017-03-29T16:31:29.794163: step 58, loss 0.835651, acc 0.72\n",
      "2017-03-29T16:31:29.860103: step 59, loss 0.853363, acc 0.755\n",
      "2017-03-29T16:31:29.927527: step 60, loss 0.819459, acc 0.75\n",
      "2017-03-29T16:31:30.003015: step 61, loss 0.729708, acc 0.755\n",
      "2017-03-29T16:31:30.067825: step 62, loss 0.682625, acc 0.815\n",
      "2017-03-29T16:31:30.139051: step 63, loss 0.925248, acc 0.71\n",
      "2017-03-29T16:31:30.223199: step 64, loss 1.03026, acc 0.67\n",
      "2017-03-29T16:31:30.304497: step 65, loss 0.997287, acc 0.74\n",
      "2017-03-29T16:31:30.387821: step 66, loss 0.764176, acc 0.785\n",
      "2017-03-29T16:31:30.469653: step 67, loss 0.595749, acc 0.845\n",
      "2017-03-29T16:31:30.558519: step 68, loss 0.652099, acc 0.83\n",
      "2017-03-29T16:31:30.634129: step 69, loss 0.643338, acc 0.83\n",
      "2017-03-29T16:31:30.718163: step 70, loss 0.621804, acc 0.825\n",
      "2017-03-29T16:31:30.796895: step 71, loss 0.815951, acc 0.725\n",
      "2017-03-29T16:31:30.881327: step 72, loss 0.726228, acc 0.785\n",
      "2017-03-29T16:31:30.963815: step 73, loss 1.14207, acc 0.72\n",
      "2017-03-29T16:31:31.046558: step 74, loss 0.866697, acc 0.835\n",
      "2017-03-29T16:31:31.121917: step 75, loss 0.665626, acc 0.81\n",
      "2017-03-29T16:31:31.200700: step 76, loss 0.792889, acc 0.77\n",
      "2017-03-29T16:31:31.272214: step 77, loss 0.620665, acc 0.8\n",
      "2017-03-29T16:31:31.349854: step 78, loss 0.540657, acc 0.83\n",
      "2017-03-29T16:31:31.420763: step 79, loss 0.632096, acc 0.875\n",
      "2017-03-29T16:31:31.488714: step 80, loss 0.805549, acc 0.785\n",
      "2017-03-29T16:31:31.561256: step 81, loss 0.493654, acc 0.855\n",
      "2017-03-29T16:31:31.629590: step 82, loss 0.491202, acc 0.86\n",
      "2017-03-29T16:31:31.696326: step 83, loss 0.646295, acc 0.77\n",
      "2017-03-29T16:31:31.768037: step 84, loss 0.572976, acc 0.835\n",
      "2017-03-29T16:31:31.835789: step 85, loss 0.343081, acc 0.93\n",
      "2017-03-29T16:31:31.899030: step 86, loss 0.525371, acc 0.85\n",
      "2017-03-29T16:31:31.965329: step 87, loss 0.508968, acc 0.865\n",
      "2017-03-29T16:31:32.040604: step 88, loss 0.668881, acc 0.765\n",
      "2017-03-29T16:31:32.107102: step 89, loss 0.659112, acc 0.785\n",
      "2017-03-29T16:31:32.172708: step 90, loss 0.525786, acc 0.805\n",
      "2017-03-29T16:31:32.239610: step 91, loss 0.641536, acc 0.79\n",
      "2017-03-29T16:31:32.315260: step 92, loss 0.491882, acc 0.83\n",
      "2017-03-29T16:31:32.386701: step 93, loss 0.441321, acc 0.88\n",
      "2017-03-29T16:31:32.468404: step 94, loss 0.512351, acc 0.85\n",
      "2017-03-29T16:31:32.565319: step 95, loss 0.532104, acc 0.865\n",
      "2017-03-29T16:31:32.652181: step 96, loss 0.475713, acc 0.86\n",
      "2017-03-29T16:31:32.736234: step 97, loss 0.674071, acc 0.785\n",
      "2017-03-29T16:31:32.807206: step 98, loss 0.581979, acc 0.82\n",
      "2017-03-29T16:31:32.873322: step 99, loss 0.910798, acc 0.735\n",
      "2017-03-29T16:31:32.939080: step 100, loss 0.885862, acc 0.745\n",
      "2017-03-29T16:31:33.001116: step 101, loss 0.567363, acc 0.81\n",
      "2017-03-29T16:31:33.081291: step 102, loss 0.51381, acc 0.8\n",
      "2017-03-29T16:31:33.145400: step 103, loss 0.534841, acc 0.81\n",
      "2017-03-29T16:31:33.209333: step 104, loss 0.487736, acc 0.845\n",
      "2017-03-29T16:31:33.286958: step 105, loss 0.514586, acc 0.86\n",
      "2017-03-29T16:31:33.363817: step 106, loss 0.355097, acc 0.895\n",
      "2017-03-29T16:31:33.428871: step 107, loss 0.531144, acc 0.88\n",
      "2017-03-29T16:31:33.495442: step 108, loss 0.422646, acc 0.875\n",
      "2017-03-29T16:31:33.579256: step 109, loss 0.62437, acc 0.79\n",
      "2017-03-29T16:31:33.653315: step 110, loss 0.600603, acc 0.76\n",
      "2017-03-29T16:31:33.727958: step 111, loss 0.794298, acc 0.79\n",
      "2017-03-29T16:31:33.795993: step 112, loss 0.544751, acc 0.805\n",
      "2017-03-29T16:31:33.861125: step 113, loss 0.582284, acc 0.86\n",
      "2017-03-29T16:31:33.927418: step 114, loss 0.500407, acc 0.855\n",
      "2017-03-29T16:31:33.998838: step 115, loss 0.375731, acc 0.905\n",
      "2017-03-29T16:31:34.065772: step 116, loss 0.347268, acc 0.91\n",
      "2017-03-29T16:31:34.129426: step 117, loss 0.395647, acc 0.885\n",
      "2017-03-29T16:31:34.192517: step 118, loss 0.365387, acc 0.905\n",
      "2017-03-29T16:31:34.263994: step 119, loss 0.526831, acc 0.825\n",
      "2017-03-29T16:31:34.332492: step 120, loss 0.413575, acc 0.89\n",
      "2017-03-29T16:31:34.395564: step 121, loss 0.630803, acc 0.835\n",
      "2017-03-29T16:31:34.460347: step 122, loss 0.47734, acc 0.855\n",
      "2017-03-29T16:31:34.540215: step 123, loss 0.455676, acc 0.845\n",
      "2017-03-29T16:31:34.602932: step 124, loss 0.541958, acc 0.86\n",
      "2017-03-29T16:31:34.669923: step 125, loss 0.588705, acc 0.815\n",
      "2017-03-29T16:31:34.736768: step 126, loss 0.454838, acc 0.88\n",
      "2017-03-29T16:31:34.807232: step 127, loss 0.402743, acc 0.865\n",
      "2017-03-29T16:31:34.871444: step 128, loss 0.496449, acc 0.84\n",
      "2017-03-29T16:31:34.942111: step 129, loss 0.500148, acc 0.86\n",
      "2017-03-29T16:31:35.006151: step 130, loss 0.459833, acc 0.87\n",
      "2017-03-29T16:31:35.078832: step 131, loss 0.592336, acc 0.835\n",
      "2017-03-29T16:31:35.145114: step 132, loss 0.517336, acc 0.845\n",
      "2017-03-29T16:31:35.211750: step 133, loss 0.490211, acc 0.825\n",
      "2017-03-29T16:31:35.277954: step 134, loss 0.594599, acc 0.82\n",
      "2017-03-29T16:31:35.352697: step 135, loss 0.397055, acc 0.86\n",
      "2017-03-29T16:31:35.419257: step 136, loss 0.487645, acc 0.865\n",
      "2017-03-29T16:31:35.485699: step 137, loss 0.552031, acc 0.84\n",
      "2017-03-29T16:31:35.569531: step 138, loss 0.55202, acc 0.825\n",
      "2017-03-29T16:31:35.651811: step 139, loss 0.485356, acc 0.855\n",
      "2017-03-29T16:31:35.728977: step 140, loss 0.390937, acc 0.87\n",
      "2017-03-29T16:31:35.807538: step 141, loss 0.338454, acc 0.9\n",
      "2017-03-29T16:31:35.879088: step 142, loss 0.461314, acc 0.86\n",
      "2017-03-29T16:31:35.947343: step 143, loss 0.337047, acc 0.915\n",
      "2017-03-29T16:31:36.014011: step 144, loss 0.317858, acc 0.895\n",
      "2017-03-29T16:31:36.084232: step 145, loss 0.205656, acc 0.935\n",
      "2017-03-29T16:31:36.151187: step 146, loss 0.298083, acc 0.925\n",
      "2017-03-29T16:31:36.218708: step 147, loss 0.301657, acc 0.925\n",
      "2017-03-29T16:31:36.289519: step 148, loss 0.42513, acc 0.87\n",
      "2017-03-29T16:31:36.356368: step 149, loss 0.536347, acc 0.815\n",
      "2017-03-29T16:31:36.421620: step 150, loss 0.797178, acc 0.73\n",
      "2017-03-29T16:31:36.490645: step 151, loss 0.795129, acc 0.73\n",
      "2017-03-29T16:31:36.564814: step 152, loss 1.0162, acc 0.795\n",
      "2017-03-29T16:31:36.640930: step 153, loss 0.360954, acc 0.885\n",
      "2017-03-29T16:31:36.726496: step 154, loss 0.385627, acc 0.855\n",
      "2017-03-29T16:31:36.805994: step 155, loss 0.331581, acc 0.905\n",
      "2017-03-29T16:31:36.875838: step 156, loss 0.373423, acc 0.88\n",
      "2017-03-29T16:31:36.948962: step 157, loss 0.283337, acc 0.895\n",
      "2017-03-29T16:31:37.027333: step 158, loss 0.372393, acc 0.885\n",
      "2017-03-29T16:31:37.101608: step 159, loss 0.317946, acc 0.9\n",
      "2017-03-29T16:31:37.169803: step 160, loss 0.34246, acc 0.905\n",
      "2017-03-29T16:31:37.235711: step 161, loss 0.445651, acc 0.865\n",
      "2017-03-29T16:31:37.316065: step 162, loss 0.607123, acc 0.845\n",
      "2017-03-29T16:31:37.386408: step 163, loss 0.579381, acc 0.84\n",
      "2017-03-29T16:31:37.462669: step 164, loss 0.585657, acc 0.79\n",
      "2017-03-29T16:31:37.541076: step 165, loss 0.483816, acc 0.865\n",
      "2017-03-29T16:31:37.616538: step 166, loss 0.315756, acc 0.9\n",
      "2017-03-29T16:31:37.683997: step 167, loss 0.391016, acc 0.895\n",
      "2017-03-29T16:31:37.763857: step 168, loss 0.395756, acc 0.885\n",
      "2017-03-29T16:31:37.842148: step 169, loss 0.417481, acc 0.885\n",
      "2017-03-29T16:31:37.921463: step 170, loss 0.27579, acc 0.935\n",
      "2017-03-29T16:31:37.995156: step 171, loss 0.270311, acc 0.91\n",
      "2017-03-29T16:31:38.078978: step 172, loss 0.468471, acc 0.865\n",
      "2017-03-29T16:31:38.157554: step 173, loss 0.408935, acc 0.895\n",
      "2017-03-29T16:31:38.236782: step 174, loss 0.39822, acc 0.865\n",
      "2017-03-29T16:31:38.312538: step 175, loss 0.47166, acc 0.845\n",
      "2017-03-29T16:31:38.382017: step 176, loss 0.3021, acc 0.91\n",
      "2017-03-29T16:31:38.456626: step 177, loss 0.30745, acc 0.905\n",
      "2017-03-29T16:31:38.541228: step 178, loss 0.38338, acc 0.93\n",
      "2017-03-29T16:31:38.618879: step 179, loss 0.293629, acc 0.915\n",
      "2017-03-29T16:31:38.691285: step 180, loss 0.265916, acc 0.93\n",
      "2017-03-29T16:31:38.763967: step 181, loss 0.31911, acc 0.895\n",
      "2017-03-29T16:31:38.839699: step 182, loss 0.412113, acc 0.895\n",
      "2017-03-29T16:31:38.912924: step 183, loss 0.492415, acc 0.87\n",
      "2017-03-29T16:31:38.984483: step 184, loss 0.345729, acc 0.9\n",
      "2017-03-29T16:31:39.055314: step 185, loss 0.313042, acc 0.92\n",
      "2017-03-29T16:31:39.120650: step 186, loss 0.359216, acc 0.885\n",
      "2017-03-29T16:31:39.196593: step 187, loss 0.338284, acc 0.9\n",
      "2017-03-29T16:31:39.276304: step 188, loss 0.486464, acc 0.905\n",
      "2017-03-29T16:31:39.360564: step 189, loss 0.353438, acc 0.89\n",
      "2017-03-29T16:31:39.434204: step 190, loss 0.451608, acc 0.88\n",
      "2017-03-29T16:31:39.502125: step 191, loss 0.335464, acc 0.87\n",
      "2017-03-29T16:31:39.581486: step 192, loss 0.317378, acc 0.935\n",
      "2017-03-29T16:31:39.660926: step 193, loss 0.270493, acc 0.91\n",
      "2017-03-29T16:31:39.733098: step 194, loss 0.464909, acc 0.885\n",
      "2017-03-29T16:31:39.800078: step 195, loss 0.51007, acc 0.83\n",
      "2017-03-29T16:31:39.874589: step 196, loss 0.4244, acc 0.855\n",
      "2017-03-29T16:31:39.948982: step 197, loss 0.352826, acc 0.91\n",
      "2017-03-29T16:31:40.021448: step 198, loss 0.320075, acc 0.91\n",
      "2017-03-29T16:31:40.095502: step 199, loss 0.273586, acc 0.925\n",
      "2017-03-29T16:31:40.165258: step 200, loss 0.388176, acc 0.89\n",
      "2017-03-29T16:31:40.233907: step 201, loss 0.394755, acc 0.89\n",
      "2017-03-29T16:31:40.323793: step 202, loss 0.248485, acc 0.915\n",
      "2017-03-29T16:31:40.399055: step 203, loss 0.423631, acc 0.85\n",
      "2017-03-29T16:31:40.480727: step 204, loss 0.299548, acc 0.915\n",
      "2017-03-29T16:31:40.558479: step 205, loss 0.446175, acc 0.875\n",
      "2017-03-29T16:31:40.625441: step 206, loss 0.432309, acc 0.865\n",
      "2017-03-29T16:31:40.702359: step 207, loss 0.640817, acc 0.8\n",
      "2017-03-29T16:31:40.783633: step 208, loss 0.394679, acc 0.875\n",
      "2017-03-29T16:31:40.864938: step 209, loss 0.446205, acc 0.86\n",
      "2017-03-29T16:31:40.944422: step 210, loss 0.440896, acc 0.845\n",
      "2017-03-29T16:31:41.021780: step 211, loss 0.5625, acc 0.79\n",
      "2017-03-29T16:31:41.098724: step 212, loss 0.416535, acc 0.825\n",
      "2017-03-29T16:31:41.173706: step 213, loss 0.364168, acc 0.88\n",
      "2017-03-29T16:31:41.239958: step 214, loss 0.332962, acc 0.9\n",
      "2017-03-29T16:31:41.306215: step 215, loss 0.325391, acc 0.9\n",
      "2017-03-29T16:31:41.375691: step 216, loss 0.290957, acc 0.925\n",
      "2017-03-29T16:31:41.453317: step 217, loss 0.341834, acc 0.895\n",
      "2017-03-29T16:31:41.529236: step 218, loss 0.189427, acc 0.94\n",
      "2017-03-29T16:31:41.605901: step 219, loss 0.185086, acc 0.95\n",
      "2017-03-29T16:31:41.677433: step 220, loss 0.380763, acc 0.885\n",
      "2017-03-29T16:31:41.749594: step 221, loss 0.4849, acc 0.835\n",
      "2017-03-29T16:31:41.836150: step 222, loss 0.234525, acc 0.94\n",
      "2017-03-29T16:31:41.919399: step 223, loss 0.492861, acc 0.86\n",
      "2017-03-29T16:31:41.994841: step 224, loss 0.349035, acc 0.905\n",
      "2017-03-29T16:31:42.081540: step 225, loss 0.412777, acc 0.875\n",
      "2017-03-29T16:31:42.144273: step 226, loss 0.414047, acc 0.86\n",
      "2017-03-29T16:31:42.210132: step 227, loss 0.584422, acc 0.82\n",
      "2017-03-29T16:31:42.275280: step 228, loss 0.489743, acc 0.855\n",
      "2017-03-29T16:31:42.347001: step 229, loss 0.380519, acc 0.86\n",
      "2017-03-29T16:31:42.413257: step 230, loss 0.240523, acc 0.915\n",
      "2017-03-29T16:31:42.479056: step 231, loss 0.278907, acc 0.9\n",
      "2017-03-29T16:31:42.548603: step 232, loss 0.306129, acc 0.895\n",
      "2017-03-29T16:31:42.617765: step 233, loss 0.21416, acc 0.94\n",
      "2017-03-29T16:31:42.685667: step 234, loss 0.296478, acc 0.945\n",
      "2017-03-29T16:31:42.752743: step 235, loss 0.317215, acc 0.905\n",
      "2017-03-29T16:31:42.821385: step 236, loss 0.374159, acc 0.88\n",
      "2017-03-29T16:31:42.884920: step 237, loss 0.336463, acc 0.9\n",
      "2017-03-29T16:31:42.948432: step 238, loss 0.152403, acc 0.96\n",
      "2017-03-29T16:31:43.015333: step 239, loss 0.34222, acc 0.905\n",
      "2017-03-29T16:31:43.082137: step 240, loss 0.586532, acc 0.835\n",
      "2017-03-29T16:31:43.149693: step 241, loss 0.38341, acc 0.885\n",
      "2017-03-29T16:31:43.214434: step 242, loss 0.214314, acc 0.955\n",
      "2017-03-29T16:31:43.288843: step 243, loss 0.292279, acc 0.915\n",
      "2017-03-29T16:31:43.357528: step 244, loss 0.218128, acc 0.935\n",
      "2017-03-29T16:31:43.421443: step 245, loss 0.328975, acc 0.905\n",
      "2017-03-29T16:31:43.489699: step 246, loss 0.301959, acc 0.89\n",
      "2017-03-29T16:31:43.571178: step 247, loss 0.192209, acc 0.955\n",
      "2017-03-29T16:31:43.640660: step 248, loss 0.313061, acc 0.9\n",
      "2017-03-29T16:31:43.706241: step 249, loss 0.263114, acc 0.91\n",
      "2017-03-29T16:31:43.777303: step 250, loss 0.380486, acc 0.885\n",
      "2017-03-29T16:31:43.851689: step 251, loss 0.242103, acc 0.925\n",
      "2017-03-29T16:31:43.916735: step 252, loss 0.274547, acc 0.925\n",
      "2017-03-29T16:31:43.979814: step 253, loss 0.232517, acc 0.92\n",
      "2017-03-29T16:31:44.054302: step 254, loss 0.34132, acc 0.915\n",
      "2017-03-29T16:31:44.123338: step 255, loss 0.211714, acc 0.96\n",
      "2017-03-29T16:31:44.199057: step 256, loss 0.213423, acc 0.91\n",
      "2017-03-29T16:31:44.288469: step 257, loss 0.267676, acc 0.91\n",
      "2017-03-29T16:31:44.373925: step 258, loss 0.262151, acc 0.935\n",
      "2017-03-29T16:31:44.464599: step 259, loss 0.175709, acc 0.95\n",
      "2017-03-29T16:31:44.556362: step 260, loss 0.235839, acc 0.925\n",
      "2017-03-29T16:31:44.646968: step 261, loss 0.201771, acc 0.925\n",
      "2017-03-29T16:31:44.729398: step 262, loss 0.305462, acc 0.89\n",
      "2017-03-29T16:31:44.795111: step 263, loss 0.269894, acc 0.915\n",
      "2017-03-29T16:31:44.864775: step 264, loss 0.351324, acc 0.895\n",
      "2017-03-29T16:31:44.941030: step 265, loss 0.193209, acc 0.93\n",
      "2017-03-29T16:31:45.015102: step 266, loss 0.183176, acc 0.94\n",
      "2017-03-29T16:31:45.088526: step 267, loss 0.105682, acc 0.955\n",
      "2017-03-29T16:31:45.152242: step 268, loss 0.179297, acc 0.935\n",
      "2017-03-29T16:31:45.220717: step 269, loss 0.116331, acc 0.97\n",
      "2017-03-29T16:31:45.301856: step 270, loss 0.135342, acc 0.97\n",
      "2017-03-29T16:31:45.386346: step 271, loss 0.052268, acc 0.99\n",
      "2017-03-29T16:31:45.485463: step 272, loss 0.31579, acc 0.915\n",
      "2017-03-29T16:31:45.574773: step 273, loss 0.258843, acc 0.91\n",
      "2017-03-29T16:31:45.656346: step 274, loss 0.467564, acc 0.885\n",
      "2017-03-29T16:31:45.731275: step 275, loss 0.162766, acc 0.98\n",
      "2017-03-29T16:31:45.874150: step 276, loss 0.26725, acc 0.91\n",
      "2017-03-29T16:31:45.944250: step 277, loss 0.254423, acc 0.91\n",
      "2017-03-29T16:31:46.006160: step 278, loss 0.293977, acc 0.905\n",
      "2017-03-29T16:31:46.078845: step 279, loss 0.224221, acc 0.93\n",
      "2017-03-29T16:31:46.149463: step 280, loss 0.291817, acc 0.89\n",
      "2017-03-29T16:31:46.211759: step 281, loss 0.369696, acc 0.885\n",
      "2017-03-29T16:31:46.278591: step 282, loss 0.285079, acc 0.91\n",
      "2017-03-29T16:31:46.348515: step 283, loss 0.289911, acc 0.895\n",
      "2017-03-29T16:31:46.413563: step 284, loss 0.266018, acc 0.92\n",
      "2017-03-29T16:31:46.480293: step 285, loss 0.330628, acc 0.89\n",
      "2017-03-29T16:31:46.547849: step 286, loss 0.400102, acc 0.88\n",
      "2017-03-29T16:31:46.617061: step 287, loss 0.284338, acc 0.915\n",
      "2017-03-29T16:31:46.682087: step 288, loss 0.22623, acc 0.95\n",
      "2017-03-29T16:31:46.749100: step 289, loss 0.297914, acc 0.905\n",
      "2017-03-29T16:31:46.820095: step 290, loss 0.176803, acc 0.96\n",
      "2017-03-29T16:31:46.890501: step 291, loss 0.387039, acc 0.905\n",
      "2017-03-29T16:31:46.959979: step 292, loss 0.341915, acc 0.895\n",
      "2017-03-29T16:31:47.027579: step 293, loss 0.218891, acc 0.915\n",
      "2017-03-29T16:31:47.104778: step 294, loss 0.373384, acc 0.89\n",
      "2017-03-29T16:31:47.170168: step 295, loss 0.310091, acc 0.905\n",
      "2017-03-29T16:31:47.233862: step 296, loss 0.22937, acc 0.955\n",
      "2017-03-29T16:31:47.305764: step 297, loss 0.33966, acc 0.89\n",
      "2017-03-29T16:31:47.371503: step 298, loss 0.236815, acc 0.925\n",
      "2017-03-29T16:31:47.437246: step 299, loss 0.181419, acc 0.95\n",
      "2017-03-29T16:31:47.504336: step 300, loss 0.292403, acc 0.91\n",
      "Test accuracy\n",
      "0.9246\n",
      "Saved model checkpoint to /home/csegura/repo/deeplearning-tutorials/intro_tensorflow/runs/1490797861/summaries/train/model-300\n",
      "\n"
     ]
    }
   ],
   "source": [
    "sess.run(tf.global_variables_initializer())\n",
    "\n",
    "\n",
    "# Train\n",
    "for _ in range(300):\n",
    "    batch_xs, batch_ys = mnist.train.next_batch(200)\n",
    "    feed_dict={mnist_dnn.input_x: batch_xs, mnist_dnn.input_y: batch_ys}\n",
    "    _, step, summaries, loss, accuracy = sess.run([train_op, global_step, train_summary_op, mnist_dnn.loss, mnist_dnn.accuracy],  feed_dict)\n",
    "\n",
    "    time_str = datetime.datetime.now().isoformat()\n",
    "    print(\"{}: step {}, loss {:g}, acc {:g}\".format(time_str, step, loss, accuracy))\n",
    "    train_summary_writer.add_summary(summaries, step)\n",
    "\n",
    "    \n",
    "    \n",
    "# Test trained model\n",
    "print(\"Test accuracy\")\n",
    "[accuracy, _ ] =sess.run([mnist_dnn.accuracy, get_image_features_op], feed_dict={mnist_dnn.input_x: mnist.test.images,\n",
    "                                  mnist_dnn.input_y: mnist.test.labels})\n",
    "print(accuracy)\n",
    "\n",
    "path = saver.save(sess, checkpoint_prefix, global_step=step)\n",
    "print(\"Saved model checkpoint to {}\\n\".format(path))    \n"
   ]
  },
  {
   "cell_type": "code",
   "execution_count": null,
   "metadata": {
    "collapsed": true,
    "deletable": true,
    "editable": true
   },
   "outputs": [],
   "source": []
  }
 ],
 "metadata": {
  "celltoolbar": "Slideshow",
  "kernelspec": {
   "display_name": "Python 3",
   "language": "python",
   "name": "python3"
  },
  "language_info": {
   "codemirror_mode": {
    "name": "ipython",
    "version": 3
   },
   "file_extension": ".py",
   "mimetype": "text/x-python",
   "name": "python",
   "nbconvert_exporter": "python",
   "pygments_lexer": "ipython3",
   "version": "3.5.3"
  },
  "livereveal": {
   "height": 720,
   "scroll": true,
   "start_slideshow_at": "selected",
   "width": 1280
  }
 },
 "nbformat": 4,
 "nbformat_minor": 2
}
