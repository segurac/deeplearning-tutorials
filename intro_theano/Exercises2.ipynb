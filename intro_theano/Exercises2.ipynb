{
 "cells": [
  {
   "cell_type": "markdown",
   "metadata": {
    "slideshow": {
     "slide_type": "slide"
    }
   },
   "source": [
    "# Introduction to Deep Learning with Python and Theano"
   ]
  },
  {
   "cell_type": "markdown",
   "metadata": {
    "slideshow": {
     "slide_type": "slide"
    }
   },
   "source": [
    "## Today's Talk\n",
    "\n",
    "* Theano\n",
    "    * Theano introduction\n",
    "    * Linear Regression\n",
    "    * Logistic Regression\n",
    "    * Multi class classsification\n",
    "        * MNIST digit detection problem\n",
    "    * Exercise1: Use ReLU, Dropout and a deeper network\n",
    "    * Exercise2: Number hallucination"
   ]
  },
  {
   "cell_type": "markdown",
   "metadata": {
    "slideshow": {
     "slide_type": "subslide"
    }
   },
   "source": [
    "### Disclaimer, It won't be like this...\n",
    "```python\n",
    "layer {\n",
    "  name: \"conv1\"\n",
    "  type: \"Convolution\"\n",
    "  param { lr_mult: 1 }\n",
    "  param { lr_mult: 2 }\n",
    "  convolution_param {\n",
    "    num_output: 20\n",
    "    kernel_size: 5\n",
    "    stride: 1\n",
    "    weight_filler {\n",
    "      type: \"xavier\"\n",
    "    }\n",
    "    bias_filler {\n",
    "      type: \"constant\"\n",
    "    }\n",
    "  }\n",
    "  bottom: \"data\"\n",
    "  top: \"conv1\"\n",
    "}\n",
    "```"
   ]
  },
  {
   "cell_type": "markdown",
   "metadata": {
    "slideshow": {
     "slide_type": "slide"
    }
   },
   "source": [
    "## Theano Introduction"
   ]
  },
  {
   "cell_type": "markdown",
   "metadata": {
    "slideshow": {
     "slide_type": "subslide"
    }
   },
   "source": [
    "### What is Theano?"
   ]
  },
  {
   "cell_type": "markdown",
   "metadata": {
    "slideshow": {
     "slide_type": "fragment"
    }
   },
   "source": [
    "* Python library that can work with symbolic mathematical expressions\n",
    "    * *Symbolic differentation*: symbolic graphs for computing gradients\n",
    "* Optimized for multi-dimensional arrays, like numpy.ndarray\n",
    "    * Tensors\n",
    "* Same code can work in CPU or GPU\n",
    "    * Optimizes and compiles expression graphs with **g++** or **nvcc**\n",
    "* Named after the Greek philosopher and mathematician\n"
   ]
  },
  {
   "cell_type": "markdown",
   "metadata": {
    "slideshow": {
     "slide_type": "subslide"
    }
   },
   "source": [
    "### Installing Theano\n",
    "* Requirements\n",
    "  * OS: Linux, Mac OS X, Windows\n",
    "  * Python: >= 2.6\n",
    "  * Numpy, Scipy, BLAS\n",
    " * pip install [--upgrade] theano\n",
    " * from source: pip install --upgrade --no-deps git+git://github.com/Theano/Theano.git\n",
    " * docker pull csegura/machinelearning_python (CUDA 7.5-18)"
   ]
  },
  {
   "cell_type": "markdown",
   "metadata": {
    "slideshow": {
     "slide_type": "subslide"
    }
   },
   "source": [
    "### Building Symbolic Expressions, basic operators\n",
    "\n",
    "* Tensor\n",
    "  * Scalars:   0th-order tensor, tensor.scalar()\n",
    "  * Vectors:   1th-order tensor, tensor.vector()\n",
    "  * Matrices:  2th-order tensor, tensor.matrix()\n",
    "  * Tensors:   ....            , tensor.tensor3(), tensor.tensor4()\n",
    "  \n",
    "* Reductions\n",
    " * tensor.sum(), tensor.sum(axis= (0,1))\n",
    " * tensor.max()\n",
    " * tensor.mean()\n",
    "* Dimshuffle\n",
    " * Transpose\n",
    " * broadcast (adding to a larger tensor)\n"
   ]
  },
  {
   "cell_type": "markdown",
   "metadata": {
    "slideshow": {
     "slide_type": "subslide"
    }
   },
   "source": [
    "### Scalar Math\n",
    "```python\n",
    "from theano import tensor as T\n",
    "x = T.scalar()\n",
    "y = T.scalar()\n",
    "z = x + y\n",
    "w = z * x\n",
    "a = T.sqrt(w)\n",
    "c = a ** b\n",
    "d = T.log(c)\n",
    "```\n"
   ]
  },
  {
   "cell_type": "markdown",
   "metadata": {
    "slideshow": {
     "slide_type": "subslide"
    }
   },
   "source": [
    "### Vector and Matrix Math\n",
    "\n",
    "```python\n",
    "from theano import tensor as T\n",
    "x = T.vector()\n",
    "y = T.vector()\n",
    "#element wise multiplication\n",
    "a = x * y\n",
    "# vector dot product\n",
    "b = T.dot(x,y)\n",
    "\n",
    "z = T.matrix()\n",
    "#matrix-vector multiplication\n",
    "c = T.dot(z,a)\n",
    "```"
   ]
  },
  {
   "cell_type": "markdown",
   "metadata": {
    "slideshow": {
     "slide_type": "slide"
    }
   },
   "source": [
    "## Theano simple example"
   ]
  },
  {
   "cell_type": "code",
   "execution_count": null,
   "metadata": {
    "collapsed": false,
    "slideshow": {
     "slide_type": "subslide"
    }
   },
   "outputs": [],
   "source": [
    "import theano\n",
    "from theano import tensor"
   ]
  },
  {
   "cell_type": "code",
   "execution_count": null,
   "metadata": {
    "collapsed": true,
    "slideshow": {
     "slide_type": "fragment"
    }
   },
   "outputs": [],
   "source": [
    "# declare two symbolic floating-point scalars\n",
    "a = tensor.dscalar( )\n",
    "b = tensor.dscalar()"
   ]
  },
  {
   "cell_type": "code",
   "execution_count": null,
   "metadata": {
    "collapsed": false,
    "slideshow": {
     "slide_type": "fragment"
    }
   },
   "outputs": [],
   "source": [
    "# create a simple expression\n",
    "y1 = a + b\n",
    "y = tensor.sqr(y1)"
   ]
  },
  {
   "cell_type": "code",
   "execution_count": null,
   "metadata": {
    "collapsed": false,
    "slideshow": {
     "slide_type": "fragment"
    }
   },
   "outputs": [],
   "source": [
    "# convert the expression into a callable object that \n",
    "# takes (a,b) symbolic inputs values\n",
    "# as input and computes a value for y\n",
    "add_function = theano.function(inputs=[a,b], outputs=y)"
   ]
  },
  {
   "cell_type": "code",
   "execution_count": null,
   "metadata": {
    "collapsed": false,
    "scrolled": true,
    "slideshow": {
     "slide_type": "fragment"
    }
   },
   "outputs": [],
   "source": [
    "print add_function(2,5)\n",
    "print add_fun ction(3.5, 5.33333)  "
   ]
  },
  {
   "cell_type": "markdown",
   "metadata": {
    "slideshow": {
     "slide_type": "slide"
    }
   },
   "source": [
    "## Linear Regression example\n",
    "\n",
    "<img src=\"http://www.atmos.washington.edu/~robwood/teaching/451/labs/images/concepts12.jpg\">"
   ]
  },
  {
   "cell_type": "code",
   "execution_count": null,
   "metadata": {
    "collapsed": false,
    "scrolled": true,
    "slideshow": {
     "slide_type": "subslide"
    }
   },
   "outputs": [],
   "source": [
    "import theano\n",
    "from theano import tensor as T\n",
    "import numpy as np\n",
    "theano.config.compute_test_value = 'warn' #Default is off"
   ]
  },
  {
   "cell_type": "code",
   "execution_count": null,
   "metadata": {
    "collapsed": false,
    "slideshow": {
     "slide_type": "fragment"
    }
   },
   "outputs": [],
   "source": [
    "trainX = np.linspace(-1,1, 200 ).astype(theano.config.floatX)\n",
    "trainY = (2 * trainX + 1.0 + np.random.randn(*trainX.shape)*0.8).astype(theano.config.floatX)\n",
    "\n",
    "%matplotlib inline\n",
    "import matplotlib.pyplot as plt\n",
    "fig = plt.figure( figsize=(8, 8))\n",
    "plt.plot(trainX, trainY, 'bo', markeredgecolor='none')\n",
    "plt.ylabel('Line with noise')\n",
    "plt.show()"
   ]
  },
  {
   "cell_type": "code",
   "execution_count": null,
   "metadata": {
    "collapsed": false,
    "slideshow": {
     "slide_type": "subslide"
    }
   },
   "outputs": [],
   "source": [
    "def linear_model(x, w, b):\n",
    "    return x * w + b\n",
    "\n",
    "w = theano.shared( np.random.randn(1).astype(theano.config.floatX)[0])\n",
    "b = theano.shared( np.random.randn(1).astype(theano.config.floatX)[0])\n",
    "\n",
    "x = T.vector(\"x\")\n",
    "y = T.vector(\"y\")\n",
    "\n",
    "x.tag.test_value = np.random.rand( 5, ).astype(theano.config.floatX)\n",
    "y.tag.test_value = np.random.rand( 5, ).astype(theano.config.floatX)\n",
    "\n",
    "y_pred = linear_model(x,w,b)\n",
    "\n",
    "#Compute gradients and training function\n",
    "my_cost = T.mean(T.sqr(y-y_pred))\n",
    "gradient = T.grad(cost=my_cost, wrt=[w,b])\n",
    "\n",
    "learning_rate = 0.3\n",
    "updates = [[w, w - gradient[0] * learning_rate], \n",
    "           [b, b - gradient[1] * learning_rate]]\n",
    "\n",
    "train = theano.function(inputs=[x,y], outputs=my_cost, updates=updates)"
   ]
  },
  {
   "cell_type": "code",
   "execution_count": null,
   "metadata": {
    "collapsed": false,
    "slideshow": {
     "slide_type": "subslide"
    }
   },
   "outputs": [],
   "source": [
    "current_cost = train(trainX, trainY)\n",
    "print \"Current cost: \" + str(current_cost)\n",
    "print \"W: \" + str(w.get_value())\n",
    "print \"b: \"+ str(b.get_value())"
   ]
  },
  {
   "cell_type": "code",
   "execution_count": null,
   "metadata": {
    "collapsed": false,
    "slideshow": {
     "slide_type": "subslide"
    }
   },
   "outputs": [],
   "source": [
    "%matplotlib inline\n",
    "import time\n",
    "import pylab as plt\n",
    "from IPython import display\n",
    "\n",
    "w.set_value(-1.0)\n",
    "b.set_value(3.0)\n",
    "fig = plt.figure( figsize=(10, 10))\n",
    "for epoch in range(15):\n",
    "    current_cost = train(trainX, trainY)\n",
    "    current_w = w.get_value()\n",
    "    current_b = b.get_value()\n",
    "    \n",
    "    plt.clf()\n",
    "    plt.plot(trainX, trainY,'o',color='b', markeredgecolor='none')\n",
    "    plt.plot(trainX, trainX*current_w + current_b, color='r',)\n",
    "    print 'Cost: ' + str(current_cost) + ' w:' + str(current_w) + ' b:' + str(current_b)\n",
    "    display.clear_output(wait=True)\n",
    "    display.display(plt.gcf())\n",
    "\n",
    "print 'Cost: ' + str(current_cost) + ' w:' + str(current_w) + ' b:' + str(current_b)"
   ]
  },
  {
   "cell_type": "markdown",
   "metadata": {
    "slideshow": {
     "slide_type": "slide"
    }
   },
   "source": [
    "## Logistic Regression example"
   ]
  },
  {
   "cell_type": "markdown",
   "metadata": {
    "collapsed": false,
    "slideshow": {
     "slide_type": "subslide"
    }
   },
   "source": [
    "<img src=\"http://diffsharp.github.io/DiffSharp/img/examples-neuralnetworks-neuron.png\" alt=\"Single Neuron Logistic Function\" style=\"width: 400px;\">\n",
    "\n",
    "\n",
    "<img src=https://upload.wikimedia.org/wikipedia/commons/8/88/Logistic-curve.svg style=\"width: 300px;\" ALIGN=\"right\" >\n",
    "Sigmoid function: $$\\sigma ( z ) = \\frac{1}{1+e^{-z}}$$ \n",
    "\n",
    "Output a: $$ a = \\sigma(  \\sum_{i=0}^{n}{x_{i} \\cdot w_{i}} + b )$$ \n",
    "$$ a = \\sigma( {\\bf x} \\cdot {\\bf W} + b) $$\n",
    "\n",
    "where $ {\\bf x} = \\begin{pmatrix} x_1 \\cdots  x_n  \\end{pmatrix} $\n",
    "\n",
    "and $  {\\bf W} = \\begin{pmatrix} w_1 \\cdots  w_n  \\end{pmatrix}^T $"
   ]
  },
  {
   "cell_type": "markdown",
   "metadata": {
    "collapsed": false,
    "slideshow": {
     "slide_type": "subslide"
    }
   },
   "source": [
    "### Let's write it in Theano! "
   ]
  },
  {
   "cell_type": "code",
   "execution_count": null,
   "metadata": {
    "collapsed": false,
    "slideshow": {
     "slide_type": "subslide"
    }
   },
   "outputs": [],
   "source": [
    "import numpy as np\n",
    "\n",
    "# Create dataset\n",
    "%matplotlib inline\n",
    "import matplotlib.pyplot as plt\n",
    "\n",
    "XX1 = np.concatenate( (np.random.randn( 500,2) + [2,3], \n",
    "                       np.random.randn( 500,2) + [0,-1]), axis=0)\n",
    "YY1 = np.concatenate( (np.zeros((500,1)), np.ones((500,1))), axis=0)\n",
    "indexes=np.arange(1000)\n",
    "np.random.shuffle(indexes)\n",
    "YY1=YY1[indexes,:].astype(theano.config.floatX)\n",
    "XX1=XX1[indexes,:].astype(theano.config.floatX)\n",
    "fig = plt.figure( figsize=(8, 8))\n",
    "plt.scatter(XX1[:, 0], XX1[:, 1], marker='o', c=YY1, s=50, lw = 0)\n",
    "plt.show()\n"
   ]
  },
  {
   "cell_type": "code",
   "execution_count": 13,
   "metadata": {
    "collapsed": false,
    "slideshow": {
     "slide_type": "subslide"
    }
   },
   "outputs": [],
   "source": [
    "import theano\n",
    "from theano import tensor as T\n",
    "theano.config.compute_test_value = 'off' #Default is off\n",
    "\n",
    "sigmoid = T.nnet.sigmoid\n",
    "\n",
    "def linear_model(X, W, b):\n",
    "    return T.dot(X, W)+b\n",
    "\n",
    "def logistic_model(X, W, b):\n",
    "    return sigmoid(T.dot(X, W)+b)\n",
    "\n",
    "W = theano.shared( np.random.randn(2,1).astype(theano.config.floatX))\n",
    "b = theano.shared( np.random.randn(1).astype(theano.config.floatX)[0] )\n",
    "\n",
    "X = T.matrix(\"X\")\n",
    "y = T.matrix(\"y\")\n",
    "\n",
    "X.tag.test_value = np.random.rand( 5,2 ).astype(theano.config.floatX)\n",
    "y.tag.test_value = np.random.rand( 5, 1).astype(theano.config.floatX)\n",
    "\n",
    "y_pred = logistic_model(X,W,b)\n"
   ]
  },
  {
   "cell_type": "code",
   "execution_count": 14,
   "metadata": {
    "collapsed": false,
    "slideshow": {
     "slide_type": "subslide"
    }
   },
   "outputs": [
    {
     "ename": "NameError",
     "evalue": "name 'W' is not defined",
     "output_type": "error",
     "traceback": [
      "\u001b[1;31m---------------------------------------------------------------------------\u001b[0m",
      "\u001b[1;31mNameError\u001b[0m                                 Traceback (most recent call last)",
      "\u001b[1;32m<ipython-input-14-b9c81d29260f>\u001b[0m in \u001b[0;36m<module>\u001b[1;34m()\u001b[0m\n\u001b[0;32m      2\u001b[0m \u001b[0mmy_cost\u001b[0m \u001b[1;33m=\u001b[0m \u001b[1;33m-\u001b[0m\u001b[0mT\u001b[0m\u001b[1;33m.\u001b[0m\u001b[0mmean\u001b[0m\u001b[1;33m(\u001b[0m\u001b[0my\u001b[0m\u001b[1;33m*\u001b[0m\u001b[0mT\u001b[0m\u001b[1;33m.\u001b[0m\u001b[0mlog\u001b[0m\u001b[1;33m(\u001b[0m\u001b[0my_pred\u001b[0m\u001b[1;33m)\u001b[0m \u001b[1;33m+\u001b[0m \u001b[1;33m(\u001b[0m\u001b[1;36m1.0\u001b[0m\u001b[1;33m-\u001b[0m\u001b[0my\u001b[0m\u001b[1;33m)\u001b[0m\u001b[1;33m*\u001b[0m\u001b[0mT\u001b[0m\u001b[1;33m.\u001b[0m\u001b[0mlog\u001b[0m\u001b[1;33m(\u001b[0m\u001b[1;36m1.0\u001b[0m\u001b[1;33m-\u001b[0m\u001b[0my_pred\u001b[0m\u001b[1;33m)\u001b[0m\u001b[1;33m)\u001b[0m\u001b[1;33m\u001b[0m\u001b[0m\n\u001b[0;32m      3\u001b[0m \u001b[1;33m\u001b[0m\u001b[0m\n\u001b[1;32m----> 4\u001b[1;33m \u001b[0mparams\u001b[0m \u001b[1;33m=\u001b[0m \u001b[1;33m[\u001b[0m\u001b[0mW\u001b[0m\u001b[1;33m,\u001b[0m\u001b[0mb\u001b[0m\u001b[1;33m]\u001b[0m\u001b[1;33m\u001b[0m\u001b[0m\n\u001b[0m\u001b[0;32m      5\u001b[0m \u001b[0mgradient\u001b[0m \u001b[1;33m=\u001b[0m \u001b[0mT\u001b[0m\u001b[1;33m.\u001b[0m\u001b[0mgrad\u001b[0m\u001b[1;33m(\u001b[0m\u001b[0mcost\u001b[0m\u001b[1;33m=\u001b[0m\u001b[0mmy_cost\u001b[0m\u001b[1;33m,\u001b[0m \u001b[0mwrt\u001b[0m\u001b[1;33m=\u001b[0m\u001b[0mparams\u001b[0m\u001b[1;33m)\u001b[0m\u001b[1;33m\u001b[0m\u001b[0m\n\u001b[0;32m      6\u001b[0m \u001b[1;33m\u001b[0m\u001b[0m\n",
      "\u001b[1;31mNameError\u001b[0m: name 'W' is not defined"
     ]
    }
   ],
   "source": [
    "#binary cross-entropy cost function\n",
    "my_cost = -T.mean(y*T.log(y_pred) + (1.0-y)*T.log(1.0-y_pred))\n",
    "\n",
    "params = [W,b]\n",
    "gradient = T.grad(cost=my_cost, wrt=params)\n",
    "\n",
    "#updates = [[w, w - gradient[0] * lr], [b, b - gradient[1] * lr]]\n",
    "learning_rate = 0.3\n",
    "updates = []\n",
    "for param_i, grad_i in zip(params, gradient):\n",
    "    updates.append((param_i, param_i - learning_rate * grad_i))\n",
    "    \n",
    "train = theano.function(inputs=[X,y], outputs=my_cost, updates=updates)\n",
    "#theano.printing.debugprint(train)"
   ]
  },
  {
   "cell_type": "markdown",
   "metadata": {
    "slideshow": {
     "slide_type": "subslide"
    }
   },
   "source": [
    "#### Decision boundary\n",
    "<img src=https://upload.wikimedia.org/wikipedia/commons/8/88/Logistic-curve.svg style=\"width: 300px;\" ALIGN=\"right\" >\n",
    "\n",
    "$ sigmoid(z) = 0.5$\n",
    "\n",
    "which means that:\n",
    "\n",
    "$z=0.0$\n",
    "\n",
    "In our regression model we have:\n",
    "\n",
    "$z = x1 \\cdot w1 + x2 \\cdot w2 + b = 0$\n",
    "\n",
    "We can draw the line in the x1 , x2 plane:\n",
    "\n",
    "$x2 = (-b -x1 \\cdot w1)/w2$"
   ]
  },
  {
   "cell_type": "code",
   "execution_count": null,
   "metadata": {
    "collapsed": false,
    "scrolled": false,
    "slideshow": {
     "slide_type": "subslide"
    }
   },
   "outputs": [],
   "source": [
    "from IPython import display\n",
    "x1= np.linspace(-4,6, 200 )\n",
    "fig = plt.figure( figsize=(8, 8))\n",
    "for epoch in range(50):\n",
    "    current_cost = train(XX1, YY1)\n",
    "    #Get current weights\n",
    "    current_W = W.get_value()\n",
    "    current_b = b.get_value()\n",
    "    #draw decision boundary\n",
    "    x2 = (-current_b -x1*current_W[0])/current_W[1]\n",
    "    plt.clf()\n",
    "    plt.scatter(XX1[:, 0], XX1[:, 1], marker='o', c=YY1, s=50, lw = 0)\n",
    "    plt.plot(x1,x2, \"g--\", lw=4)\n",
    "    display.clear_output(wait=True)\n",
    "    display.display(plt.gcf())\n",
    "    print current_cost"
   ]
  },
  {
   "cell_type": "markdown",
   "metadata": {
    "slideshow": {
     "slide_type": "slide"
    }
   },
   "source": [
    "### Multi-class Classification Network"
   ]
  },
  {
   "cell_type": "markdown",
   "metadata": {
    "slideshow": {
     "slide_type": "subslide"
    }
   },
   "source": [
    "<img src=\"2layersGeneric.png\" alt=\"Multiple classes\" style=\"width: 500px;\" ALIGN=\"right\" >\n",
    "Layer outputs:\n",
    "\n",
    "$${\\bf x}^2 = h^1(  {\\bf x}^1 \\cdot {\\bf W}^1 + {\\bf b}^1 )  $$\n",
    "\n",
    "$${\\bf x}^3 = h^2(  {\\bf x}^2 \\cdot {\\bf W}^2 + {\\bf b}^2 )  $$\n",
    "\n",
    "where $ {\\bf x} = \\begin{pmatrix} x_1 \\cdots  x_n  \\end{pmatrix} $ \n",
    "\n",
    "$ {\\bf b} = \\begin{pmatrix} b_1 \\cdots  b_m  \\end{pmatrix} $ \n",
    "\n",
    "$  {\\bf W} = \\begin{pmatrix} w_{1,1} \\cdots  w_{1,m} \\\\ \n",
    "\\vdots \\cdots  \\vdots \\\\\n",
    "w_{n,1} \\cdots w_{n,m} \\\\\n",
    "\\end{pmatrix} $\n",
    "\n",
    "$ h(  ) $ is the activation function (ReLU, sigmoid, Softmax etc)\n",
    "\n",
    "For Multi-class classification: $h^2( \\cdot ) = softmax$ \n",
    "\n",
    "$$ softmax \\rightarrow  P(y = j \\vert {\\bf x}) \\rightarrow  g(z_j) = \\frac{e^{z_j}}{  \\sum_k{e^{z_k}} } $$\n",
    "\n",
    "$$ Cross entropy \\rightarrow H(p, q) = -\\sum_x {p(x)  log (q(x))} $$\n",
    "\n"
   ]
  },
  {
   "cell_type": "code",
   "execution_count": 15,
   "metadata": {
    "collapsed": false,
    "slideshow": {
     "slide_type": "subslide"
    }
   },
   "outputs": [
    {
     "name": "stdout",
     "output_type": "stream",
     "text": [
      "trainX.shape: (60000, 784)\n",
      "trainY.shape: (60000, 10)\n",
      "testX.shape: (10000, 784)\n",
      "testY.shape: (10000, 10)\n"
     ]
    }
   ],
   "source": [
    "import numpy as np\n",
    "\n",
    "def one_hot(x,n):\n",
    "    if type(x) == list:\n",
    "        x = np.array(x)\n",
    "    x = x.flatten()\n",
    "    o_h = np.zeros((len(x),n))\n",
    "    o_h[np.arange(len(x)),x] = 1\n",
    "    return o_h\n",
    "\n",
    "#download database\n",
    "from sklearn.datasets import fetch_mldata\n",
    "mnist = fetch_mldata(\"MNIST Original\")\n",
    "mnist.target = mnist.target.astype(np.uint8)\n",
    "mnist.data = (mnist.data/255.0).astype(theano.config.floatX)\n",
    "\n",
    "#shuffle data\n",
    "indexes=np.arange(mnist.data.shape[0])\n",
    "np.random.shuffle(indexes)\n",
    "mnist.target=mnist.target[indexes]\n",
    "mnist.data = mnist.data[indexes,:]\n",
    "\n",
    "#Partition train test\n",
    "ntrain=60000\n",
    "trainX=mnist.data[0:ntrain,:]\n",
    "trainY = one_hot(  mnist.target[0:ntrain],10).astype(theano.config.floatX)\n",
    "testX=mnist.data[ntrain:,:]\n",
    "testY = one_hot(  mnist.target[ntrain:],10).astype(theano.config.floatX)\n",
    "\n",
    "print \"trainX.shape: \" + str(trainX.shape)\n",
    "print \"trainY.shape: \" + str(trainY.shape)\n",
    "print \"testX.shape: \" + str(testX.shape)\n",
    "print \"testY.shape: \" + str(testY.shape)"
   ]
  },
  {
   "cell_type": "code",
   "execution_count": 17,
   "metadata": {
    "collapsed": false,
    "slideshow": {
     "slide_type": "subslide"
    }
   },
   "outputs": [
    {
     "data": {
      "text/plain": [
       "[]"
      ]
     },
     "execution_count": 17,
     "metadata": {},
     "output_type": "execute_result"
    },
    {
     "data": {
      "image/png": "[encoded data removed]",
      "text/plain": [
       "<matplotlib.figure.Figure at 0x7f98a3666cd0>"
      ]
     },
     "metadata": {},
     "output_type": "display_data"
    }
   ],
   "source": [
    "%matplotlib inline\n",
    "import matplotlib.pyplot as plt\n",
    "show_data = np.copy(testX[0:16,:])\n",
    "fig, axes = plt.subplots(4, 4, figsize=(10,10))\n",
    "vmin, vmax = show_data.min(), show_data.max()\n",
    "for coef, ax in zip(show_data, axes.ravel()):\n",
    "    ax.matshow(coef.reshape(28, 28), cmap=plt.cm.gray, vmin=.5 * vmin,\n",
    "           vmax=.5 * vmax)\n",
    "ax.set_xticks(())\n",
    "ax.set_yticks(())"
   ]
  },
  {
   "cell_type": "code",
   "execution_count": 18,
   "metadata": {
    "collapsed": false,
    "slideshow": {
     "slide_type": "subslide"
    }
   },
   "outputs": [],
   "source": [
    "import theano\n",
    "from theano import tensor as T\n",
    "import numpy as np\n",
    "theano.config.compute_test_value = 'warn' #Default is off\n",
    "\n",
    "sigmoid = T.nnet.sigmoid\n",
    "softmax = T.nnet.softmax\n",
    "\n",
    "def dense_layer(X, W, b):\n",
    "    return T.dot(X, W) + b.dimshuffle('x',0)\n",
    "\n",
    "def network(X, W1, b1, W2, b2):\n",
    "    \n",
    "    X2 = dense_layer(X,W1,b1)    \n",
    "    X2 = sigmoid(X2)\n",
    "    \n",
    "    X3 = dense_layer(X2, W2, b2)\n",
    "    return softmax( X3 )\n",
    "\n",
    "n_input1=28*28 #784\n",
    "n_output1=128\n",
    "W1 = theano.shared( np.random.randn(n_input1, n_output1).astype(theano.config.floatX)*0.01)\n",
    "b1 = theano.shared( np.random.randn(n_output1).astype(theano.config.floatX) *0.01)\n",
    "\n",
    "n_input2=n_output1\n",
    "n_output2=10\n",
    "W2 = theano.shared( np.random.randn(n_input2, n_output2).astype(theano.config.floatX) * 0.01)\n",
    "b2 = theano.shared( np.random.randn(n_output2).astype(theano.config.floatX) * 0.01 )\n",
    "\n",
    "\n",
    "X = T.matrix(\"X\")\n",
    "y = T.matrix(\"y\")\n",
    "\n",
    "X.tag.test_value = np.random.rand( 5,n_input1 ).astype(theano.config.floatX)\n",
    "y.tag.test_value = np.ones( (5, 10) ).astype(theano.config.floatX)\n",
    "\n",
    "py_x = network(X, W1, b1, W2, b2)\n",
    "\n",
    "y_pred = T.argmax(py_x, axis=1)"
   ]
  },
  {
   "cell_type": "code",
   "execution_count": 19,
   "metadata": {
    "collapsed": false,
    "scrolled": true,
    "slideshow": {
     "slide_type": "subslide"
    }
   },
   "outputs": [],
   "source": [
    "#Compute gradients and training function\n",
    "my_cost = T.mean(T.nnet.categorical_crossentropy(py_x, y))\n",
    "\n",
    "params = [W1,b1, W2, b2]\n",
    "gradient = T.grad(cost=my_cost, wrt=params)\n",
    "\n",
    "learning_rate = 0.1\n",
    "updates = []\n",
    "for param_i, grad_i in zip(params, gradient):\n",
    "    updates.append((param_i, param_i - learning_rate * grad_i))\n",
    "    \n",
    "train = theano.function(inputs=[X,y], outputs=my_cost, updates=updates)\n",
    "predict  = theano.function(inputs=[X], outputs=y_pred)"
   ]
  },
  {
   "cell_type": "code",
   "execution_count": 20,
   "metadata": {
    "collapsed": false,
    "slideshow": {
     "slide_type": "subslide"
    }
   },
   "outputs": [
    {
     "name": "stdout",
     "output_type": "stream",
     "text": [
      "Epoch 49 current cost 0.0976786985993\n",
      "Accuracy: 0.9565\n"
     ]
    }
   ],
   "source": [
    "from IPython import display\n",
    "\n",
    "mbatch_size = 200\n",
    "n_epochs = 10\n",
    "n_batches_train=trainX.shape[0]/mbatch_size\n",
    "for epoch in range(n_epochs):\n",
    "    for i in range(n_batches_train):\n",
    "        start_idx = mbatch_size*i\n",
    "        end_idx = mbatch_size*(i+1)        \n",
    "        current_cost = train(trainX[start_idx:end_idx,:], trainY[start_idx:end_idx,:])\n",
    "\n",
    "    display.clear_output(wait=True)\n",
    "    print \"Epoch \" + str(epoch) + \" current cost \" + str(current_cost)\n",
    "    print \"Accuracy: \" + str(np.mean(np.argmax(testY, axis=1) == predict(testX)))"
   ]
  },
  {
   "cell_type": "markdown",
   "metadata": {
    "slideshow": {
     "slide_type": "subslide"
    }
   },
   "source": [
    "### Let's see some of the weights of the first layer"
   ]
  },
  {
   "cell_type": "code",
   "execution_count": 21,
   "metadata": {
    "collapsed": false,
    "slideshow": {
     "slide_type": "fragment"
    }
   },
   "outputs": [
    {
     "data": {
      "image/png": "[encoded data removed]",
      "text/plain": [
       "<matplotlib.figure.Figure at 0x7f98c05d9d50>"
      ]
     },
     "metadata": {},
     "output_type": "display_data"
    }
   ],
   "source": [
    "%matplotlib inline\n",
    "import matplotlib.pyplot as plt\n",
    "\n",
    "fig, axes = plt.subplots(5, 5, figsize=(15,15))\n",
    "   \n",
    "vmin, vmax = W1.get_value().min(), W1.get_value().max()\n",
    "for coef, ax in zip(W1.get_value().T, axes.ravel()):\n",
    "    ax.matshow(coef.reshape(28, 28), cmap=plt.cm.gray, vmin=.5 * vmin,\n",
    "           vmax=.5 * vmax)\n",
    "    ax.set_xticks(())\n",
    "    ax.set_yticks(())"
   ]
  },
  {
   "cell_type": "markdown",
   "metadata": {
    "slideshow": {
     "slide_type": "slide"
    }
   },
   "source": [
    "### Exercise 1\n",
    "#### Update the network at little\n",
    "* More layers (at least 3)\n",
    "* Use ReLU or leaky_ReLU\n",
    "* Use Dropout for training\n",
    "* Don't use dropout for prediction!"
   ]
  },
  {
   "cell_type": "code",
   "execution_count": 50,
   "metadata": {
    "collapsed": true
   },
   "outputs": [],
   "source": [
    "## LOAD DATA\n",
    "import theano\n",
    "import numpy as np\n",
    "\n",
    "def one_hot(x,n):\n",
    "    if type(x) == list:\n",
    "        x = np.array(x)\n",
    "    x = x.flatten()\n",
    "    o_h = np.zeros((len(x),n))\n",
    "    o_h[np.arange(len(x)),x] = 1\n",
    "    return o_h\n",
    "\n",
    "#download database\n",
    "from sklearn.datasets import fetch_mldata\n",
    "mnist = fetch_mldata(\"MNIST Original\")\n",
    "mnist.target = mnist.target.astype(np.uint8)\n",
    "mnist.data = (mnist.data/255.0).astype(theano.config.floatX)\n",
    "\n",
    "#shuffle data\n",
    "indexes=np.arange(mnist.data.shape[0])\n",
    "np.random.shuffle(indexes)\n",
    "mnist.target=mnist.target[indexes]\n",
    "mnist.data = mnist.data[indexes,:]\n",
    "\n",
    "#Partition train test\n",
    "ntrain=60000\n",
    "trainX=mnist.data[0:ntrain,:]\n",
    "trainY = one_hot(  mnist.target[0:ntrain],10).astype(theano.config.floatX)\n",
    "testX=mnist.data[ntrain:,:]\n",
    "testY = one_hot(  mnist.target[ntrain:],10).astype(theano.config.floatX)"
   ]
  },
  {
   "cell_type": "code",
   "execution_count": 51,
   "metadata": {
    "collapsed": false,
    "slideshow": {
     "slide_type": "subslide"
    }
   },
   "outputs": [],
   "source": [
    "import theano\n",
    "from theano import tensor as T\n",
    "import numpy as np\n",
    "theano.config.compute_test_value = 'warn' #Default is off\n",
    "\n",
    "#Activations\n",
    "sigmoid = T.nnet.sigmoid\n",
    "softmax = T.nnet.softmax\n",
    "def relu(x):\n",
    "    return T.maximum(x, 0.0)\n",
    "\n",
    "#Leaky ReLU\n",
    "def leaky_relu(x,c): \n",
    "    return T.switch(x<0, x*c, x)\n",
    "#c has to be a shared variable, since we want to optimize it\n",
    "c=theano.shared(np.asarray(-0.01, dtype=theano.config.floatX))\n",
    "#z=leaky_relu(x, c)    \n",
    "\n",
    "from theano.tensor.shared_randomstreams import RandomStreams\n",
    "srng = RandomStreams(seed=234)\n",
    "#Dropout\n",
    "def dropout(X, p=0.):\n",
    "    if p> 0:\n",
    "        retain_prob = 1 - p\n",
    "        X = X / retain_prob * srng.binomial(X.shape, p=retain_prob, dtype='int32').astype(theano.config.floatX)\n",
    "    return X\n",
    "\n",
    "def dense_layer(X, W, b):\n",
    "    return T.dot(X, W) + b.dimshuffle('x',0)\n",
    "\n",
    "def old_network(X, W1, b1, W2, b2):\n",
    "    \n",
    "    X2 = dense_layer(X,W1,b1)    \n",
    "    X2 = sigmoid(X2)\n",
    "    \n",
    "    X3 = dense_layer(X2, W2, b2)\n",
    "    return softmax( X3 )\n",
    "\n",
    "\n",
    "n_input1=28*28 #784\n",
    "n_output1=128\n",
    "W1 = theano.shared( np.random.randn(n_input1, n_output1).astype(theano.config.floatX)*0.01)\n",
    "b1 = theano.shared( np.random.randn(n_output1).astype(theano.config.floatX) *0.01)\n",
    "\n",
    "n_input2=n_output1\n",
    "n_output2=10\n",
    "W2 = theano.shared( np.random.randn(n_input2, n_output2).astype(theano.config.floatX) * 0.01)\n",
    "b2 = theano.shared( np.random.randn(n_output2).astype(theano.config.floatX) * 0.01 )\n",
    "\n",
    "\n",
    "X = T.matrix(\"X\")\n",
    "y = T.matrix(\"y\")\n",
    "\n",
    "X.tag.test_value = np.random.rand( 5,n_input1 ).astype(theano.config.floatX)\n",
    "y.tag.test_value = np.ones( (5, 10) ).astype(theano.config.floatX)\n",
    "\n",
    "py_x = old_network(X, W1, b1, W2, b2)\n",
    "\n",
    "y_pred = T.argmax(py_x, axis=1)\n",
    "\n",
    "#Compute gradients and training function\n",
    "my_cost = T.mean(T.nnet.categorical_crossentropy(py_x, y))\n",
    "\n",
    "params = [W1,b1, W2, b2]\n",
    "gradient = T.grad(cost=my_cost, wrt=params)\n",
    "\n",
    "learning_rate = 0.1\n",
    "updates = []\n",
    "for param_i, grad_i in zip(params, gradient):\n",
    "    updates.append((param_i, param_i - learning_rate * grad_i))\n",
    "    \n",
    "train = theano.function(inputs=[X,y], outputs=my_cost, updates=updates)\n",
    "predict  = theano.function(inputs=[X], outputs=y_pred)"
   ]
  },
  {
   "cell_type": "code",
   "execution_count": 52,
   "metadata": {
    "collapsed": false
   },
   "outputs": [
    {
     "name": "stdout",
     "output_type": "stream",
     "text": [
      "Epoch 9 current cost 0.428808927536\n",
      "Accuracy: 0.8871\n"
     ]
    }
   ],
   "source": [
    "#Training\n",
    "from IPython import display\n",
    "\n",
    "mbatch_size = 500\n",
    "n_epochs = 10\n",
    "n_batches_train=trainX.shape[0]/mbatch_size\n",
    "for epoch in range(n_epochs):\n",
    "    for i in range(n_batches_train):\n",
    "        start_idx = mbatch_size*i\n",
    "        end_idx = mbatch_size*(i+1)        \n",
    "        current_cost = train(trainX[start_idx:end_idx,:], trainY[start_idx:end_idx,:])\n",
    "\n",
    "    display.clear_output(wait=True)\n",
    "    print \"Epoch \" + str(epoch) + \" current cost \" + str(current_cost)\n",
    "    print \"Accuracy: \" + str(np.mean(np.argmax(testY, axis=1) == predict(testX)))"
   ]
  },
  {
   "cell_type": "code",
   "execution_count": null,
   "metadata": {
    "collapsed": false
   },
   "outputs": [],
   "source": [
    "#View some of the weights of the first layer\n",
    "%matplotlib inline\n",
    "import matplotlib.pyplot as plt\n",
    "\n",
    "fig, axes = plt.subplots(5, 5, figsize=(15,15))\n",
    "   \n",
    "vmin, vmax = W1.get_value().min(), W1.get_value().max()\n",
    "for coef, ax in zip(W1.get_value().T, axes.ravel()):\n",
    "    ax.matshow(coef.reshape(28, 28), cmap=plt.cm.gray, vmin=.5 * vmin,\n",
    "           vmax=.5 * vmax)\n",
    "    ax.set_xticks(())\n",
    "    ax.set_yticks(())"
   ]
  },
  {
   "cell_type": "markdown",
   "metadata": {
    "slideshow": {
     "slide_type": "slide"
    }
   },
   "source": [
    "### Exercise 2\n",
    "#### Image hallucination\n",
    "\n",
    "Reusing pretrained weights W1,b1,W2,b2 initialize X with a sample random image and optimize its pixels to minimize the crossentropy between \n",
    "py_x_sample and y"
   ]
  },
  {
   "cell_type": "code",
   "execution_count": 23,
   "metadata": {
    "collapsed": false
   },
   "outputs": [],
   "source": [
    "## LOAD DATA\n",
    "import numpy as np\n",
    "import theano\n",
    "\n",
    "def one_hot(x,n):\n",
    "    if type(x) == list:\n",
    "        x = np.array(x)\n",
    "    x = x.flatten()\n",
    "    o_h = np.zeros((len(x),n))\n",
    "    o_h[np.arange(len(x)),x] = 1\n",
    "    return o_h\n",
    "\n",
    "#download database\n",
    "from sklearn.datasets import fetch_mldata\n",
    "mnist = fetch_mldata(\"MNIST Original\")\n",
    "mnist.target = mnist.target.astype(np.uint8)\n",
    "mnist.data = (mnist.data/255.0).astype(theano.config.floatX)\n",
    "\n",
    "#shuffle data\n",
    "indexes=np.arange(mnist.data.shape[0])\n",
    "np.random.shuffle(indexes)\n",
    "mnist.target=mnist.target[indexes]\n",
    "mnist.data = mnist.data[indexes,:]\n",
    "\n",
    "#Partition train test\n",
    "ntrain=60000\n",
    "trainX=mnist.data[0:ntrain,:]\n",
    "trainY = one_hot(  mnist.target[0:ntrain],10).astype(theano.config.floatX)\n",
    "testX=mnist.data[ntrain:,:]\n",
    "testY = one_hot(  mnist.target[ntrain:],10).astype(theano.config.floatX)"
   ]
  },
  {
   "cell_type": "markdown",
   "metadata": {},
   "source": [
    "Train a simple network, no need to change anything here, just run it to train parameters"
   ]
  },
  {
   "cell_type": "code",
   "execution_count": 24,
   "metadata": {
    "collapsed": false
   },
   "outputs": [
    {
     "name": "stdout",
     "output_type": "stream",
     "text": [
      "Epoch 9 current cost 0.326211929321\n",
      "Accuracy: 0.9151\n"
     ]
    }
   ],
   "source": [
    "import theano\n",
    "from theano import tensor as T\n",
    "import numpy as np\n",
    "theano.config.compute_test_value = 'warn' #Default is off\n",
    "\n",
    "#Activations\n",
    "sigmoid = T.nnet.sigmoid\n",
    "softmax = T.nnet.softmax\n",
    "\n",
    "def dense_layer(X, W, b):\n",
    "    return T.dot(X, W) + b.dimshuffle('x',0)\n",
    "\n",
    "def old_network(X, W1, b1, W2, b2):\n",
    "    X2 = sigmoid(dense_layer(X,W1,b1))\n",
    "    return softmax(dense_layer(X2, W2, b2) )\n",
    "\n",
    "n_input1=28*28 #784\n",
    "n_output1=128\n",
    "W1 = theano.shared( np.random.randn(n_input1, n_output1).astype(theano.config.floatX)*0.01)\n",
    "b1 = theano.shared( np.random.randn(n_output1).astype(theano.config.floatX) *0.01)\n",
    "\n",
    "n_input2=n_output1\n",
    "n_output2=10\n",
    "W2 = theano.shared( np.random.randn(n_input2, n_output2).astype(theano.config.floatX) * 0.01)\n",
    "b2 = theano.shared( np.random.randn(n_output2).astype(theano.config.floatX) * 0.01 )\n",
    "\n",
    "\n",
    "X = T.matrix(\"X\")\n",
    "y = T.matrix(\"y\")\n",
    "\n",
    "X.tag.test_value = np.random.rand( 5,n_input1 ).astype(theano.config.floatX)\n",
    "y.tag.test_value = np.ones( (5, 10) ).astype(theano.config.floatX)\n",
    "\n",
    "py_x = old_network(X, W1, b1, W2, b2)\n",
    "\n",
    "y_pred = T.argmax(py_x, axis=1)\n",
    "\n",
    "#Compute gradients and training function\n",
    "my_cost = T.mean(T.nnet.categorical_crossentropy(py_x, y))\n",
    "\n",
    "params = [W1,b1, W2, b2]\n",
    "gradient = T.grad(cost=my_cost, wrt=params)\n",
    "\n",
    "learning_rate = 0.1\n",
    "updates = []\n",
    "for param_i, grad_i in zip(params, gradient):\n",
    "    updates.append((param_i, param_i - learning_rate * grad_i))\n",
    "    \n",
    "train = theano.function(inputs=[X,y], outputs=my_cost, updates=updates)\n",
    "predict  = theano.function(inputs=[X], outputs=y_pred)\n",
    "\n",
    "from IPython import display\n",
    "\n",
    "mbatch_size = 200\n",
    "n_epochs = 10\n",
    "n_batches_train=trainX.shape[0]/mbatch_size\n",
    "for epoch in range(n_epochs):\n",
    "    for i in range(n_batches_train):\n",
    "        start_idx = mbatch_size*i\n",
    "        end_idx = mbatch_size*(i+1)        \n",
    "        current_cost = train(trainX[start_idx:end_idx,:], trainY[start_idx:end_idx,:])\n",
    "\n",
    "    display.clear_output(wait=True)\n",
    "    print \"Epoch \" + str(epoch) + \" current cost \" + str(current_cost)\n",
    "    print \"Accuracy: \" + str(np.mean(np.argmax(testY, axis=1) == predict(testX)))"
   ]
  },
  {
   "cell_type": "markdown",
   "metadata": {},
   "source": [
    "Write missing parts with ??\n",
    "\n",
    "Buld the model py_x_sample as a function of X_sample instead of X\n",
    "Set patameters to optimize, X_sample in our case"
   ]
  },
  {
   "cell_type": "code",
   "execution_count": 36,
   "metadata": {
    "collapsed": false,
    "slideshow": {
     "slide_type": "subslide"
    }
   },
   "outputs": [],
   "source": [
    "X_sample = theano.shared(np.ones( (1, 28*28) ).astype(theano.config.floatX)*0.1)\n",
    "y.tag.test_value = np.ones( (1, 10) ).astype(theano.config.floatX)\n",
    "\n",
    "#create the model again with X_sample instead of X\n",
    "py_x_sample = ??\n",
    "\n",
    "my_cost_sample = T.mean(T.nnet.categorical_crossentropy(py_x_sample, y))\n",
    "\n",
    "#we want the gradients with respecto to X_sample\n",
    "params_sample = ??\n",
    "gradient_sample = T.grad(cost=my_cost_sample, wrt=params_sample)\n",
    "\n",
    "learning_rate = 0.01\n",
    "updates_sample = []\n",
    "for param_i, grad_i in zip(params_sample, gradient_sample):\n",
    "    updates_sample.append((param_i, param_i - learning_rate * grad_i))\n",
    "    \n",
    "hallucinate = theano.function(inputs=[y], outputs=my_cost_sample, updates=updates_sample)"
   ]
  },
  {
   "cell_type": "code",
   "execution_count": 48,
   "metadata": {
    "collapsed": false,
    "slideshow": {
     "slide_type": "subslide"
    }
   },
   "outputs": [
    {
     "name": "stdout",
     "output_type": "stream",
     "text": [
      "Cost 0.00166354561225\n",
      "Cost 0.00166190811433\n"
     ]
    },
    {
     "data": {
      "image/png": "[encoded data removed]",
      "text/plain": [
       "<matplotlib.figure.Figure at 0x7fb679a1fb50>"
      ]
     },
     "metadata": {},
     "output_type": "display_data"
    },
    {
     "name": "stdout",
     "output_type": "stream",
     "text": [
      "[3]\n"
     ]
    }
   ],
   "source": [
    "%matplotlib inline\n",
    "import matplotlib.pyplot as plt\n",
    "\n",
    "X_sample.set_value(np.random.randn(1, 28*28).astype(theano.config.floatX)*0.01 + 0.1)\n",
    "dest_number=3\n",
    "\n",
    "for i in range(1000):\n",
    "    cost = hallucinate(one_hot([dest_number],10).astype(theano.config.floatX))\n",
    "    display.clear_output(wait=True)\n",
    "    print \"Cost \" + str(cost)\n",
    "    \n",
    "cost = hallucinate(one_hot([dest_number],10).astype(theano.config.floatX))\n",
    "print \"Cost \" + str(cost)\n",
    "sample = X_sample.get_value()\n",
    "plt.matshow(sample.reshape(28, 28), cmap=plt.cm.gray)\n",
    "plt.show()\n",
    "\n",
    "print predict(sample)"
   ]
  },
  {
   "cell_type": "markdown",
   "metadata": {
    "collapsed": true
   },
   "source": [
    "Load Data, no need to modify nothing here, just run it to load the database"
   ]
  },
  {
   "cell_type": "markdown",
   "metadata": {
    "slideshow": {
     "slide_type": "slide"
    }
   },
   "source": [
    "### Convolutional Layers\n",
    "\n",
    "<img src=\"http://www.codeproject.com/KB/recipes/523074/p2.png\"  style=\"width: 500px;\" ALIGN=\"left\" >\n",
    "\n",
    "<img src=\"http://i.stack.imgur.com/GvsBA.jpg\"  style=\"width: 400px;\" ALIGN=\"right\">\n",
    "<br><br><br><br><br><br><br><br><br><br><br><br><br><br>\n",
    "* Convolution\n",
    "    * Filter sharing, much less parameters than fully connected\n",
    "    * Size of the filters\n",
    "    * Stride\n",
    "    * Zero padding\n",
    "* Pooling: \n",
    "    * Reduces dimensionality, filters out non-maxima\n",
    "    * It provides a form of translation invariance\n",
    "    * Pooling size\n",
    "    * Reduction (mean, average, std)\n",
    "    * Current trend is to replace pooling with more conv layers with increased stride size\n",
    "\n",
    "Good animation http://cs231n.github.io/convolutional-networks/#conv"
   ]
  },
  {
   "cell_type": "code",
   "execution_count": 11,
   "metadata": {
    "collapsed": false,
    "slideshow": {
     "slide_type": "subslide"
    }
   },
   "outputs": [],
   "source": [
    "import theano\n",
    "from theano import tensor as T\n",
    "from theano.tensor.signal import downsample\n",
    "import numpy as np\n",
    "theano.config.compute_test_value = 'off' #Default is off, warn\n",
    "\n",
    "#Activations\n",
    "sigmoid = T.nnet.sigmoid\n",
    "softmax = T.nnet.softmax\n",
    "conv2d = T.nnet.conv.conv2d #http://deeplearning.net/software/theano/library/tensor/nnet/conv.html\n",
    "max_pool_2d = downsample.max_pool_2d #http://deeplearning.net/software/theano/library/tensor/signal/downsample.html#module-downsample\n",
    "\n",
    "def relu(x):\n",
    "    return T.maximum(x, 0.0)\n",
    "\n",
    "#Leaky ReLU\n",
    "def leaky_relu(x,c): \n",
    "    return T.switch(x<0, x*c, x)\n",
    "#c has to be a shared variable, since we want to optimize it\n",
    "c=theano.shared(np.asarray(-0.01, dtype=theano.config.floatX))\n",
    "#z=leaky_relu(x, c)    \n",
    "\n",
    "from theano.tensor.shared_randomstreams import RandomStreams\n",
    "srng = RandomStreams(seed=234)\n",
    "#Dropout\n",
    "def dropout(X, p=0.):\n",
    "    if p> 0:\n",
    "        retain_prob = 1 - p\n",
    "        X = X / retain_prob * srng.binomial(X.shape, p=retain_prob, dtype='int32').astype(theano.config.floatX)\n",
    "    return X\n",
    "\n",
    "def dense_layer(X, W, b):\n",
    "    return T.dot(X, W) + b.dimshuffle('x',0)\n",
    "\n",
    "def conv_layer(X, W, b):\n",
    "    conv_out = conv2d(input=X,filters=W)\n",
    "    return conv_out + b.dimshuffle('x', 0, 'x', 'x')\n",
    "\n",
    "\n",
    "def conv_network(X ,conv1_W, conv1_b, conv2_W, conv2_b, W1, b1, W2, b2, c, dprob=0.5):\n",
    "    X0 = X.reshape((-1, 1, 28,28))  #(batch_size, channels, height, width)\n",
    "    if theano.config.compute_test_value == 'warn':\n",
    "        print \"input shape \" + str(X0.tag.test_value.shape)\n",
    "    \n",
    "    X1 = conv_layer(X0, conv1_W, conv1_b)\n",
    "    X1 = max_pool_2d(input=X1, ds=(2,2), ignore_border=True)\n",
    "    X1 = leaky_relu(X1, c)\n",
    "    X1 = dropout(X1, dprob)\n",
    "    if theano.config.compute_test_value == 'warn':\n",
    "        print \"output shape of layer 1 \" + str(X1.tag.test_value.shape)\n",
    "\n",
    "    X2 = conv_layer(X1, conv2_W, conv2_b)\n",
    "    X2 = max_pool_2d(input=X2, ds=(2,2), ignore_border=True)\n",
    "    X2 = leaky_relu(X2, c)\n",
    "    X2 = dropout(X2, dprob)\n",
    "    if theano.config.compute_test_value == 'warn':\n",
    "        print \"output shape of layer 2 \" + str(X2.tag.test_value.shape)\n",
    "    \n",
    "    flat_X2 = T.flatten(X2, outdim=2)    \n",
    "    if theano.config.compute_test_value == 'warn':\n",
    "        print \"output shape of flat layer 2 \" + str(flat_X2.tag.test_value.shape)\n",
    "    \n",
    "    X3 = dense_layer(flat_X2,W1,b1)\n",
    "    X3 = leaky_relu(X3,c)\n",
    "    X3 = dropout(X3, dprob)\n",
    "    \n",
    "    X4 = dense_layer(X3, W2, b2)\n",
    "    return softmax( X4)\n",
    "\n",
    "\n",
    "\n",
    "c1_shape = (16,1,5,5) #(channels out, channels in, kernel_width, kernel_height)\n",
    "conv1_W = theano.shared( np.random.randn( *c1_shape ).astype(theano.config.floatX)*0.01)\n",
    "conv1_b = theano.shared( np.random.randn(c1_shape[0]).astype(theano.config.floatX) * 0.01 )\n",
    "\n",
    "c2_shape = (24,c1_shape[0],3,3) #(channels out, channels in, kernel_width, kernel_height)\n",
    "conv2_W = theano.shared( np.random.randn( *c2_shape ).astype(theano.config.floatX)*0.01)\n",
    "conv2_b = theano.shared( np.random.randn(c2_shape[0]).astype(theano.config.floatX) * 0.01 )\n",
    "\n",
    "n_input1= ((((28 -c1_shape[2] +1)/2-c2_shape[2]+1)/2) ** 2) * c2_shape[0] # (5 * 5) pixels * c2_shape[0] channels\n",
    "n_output1=128\n",
    "W1 = theano.shared( np.random.randn(n_input1, n_output1).astype(theano.config.floatX)*0.01)\n",
    "b1 = theano.shared( np.random.randn(n_output1).astype(theano.config.floatX) *0.01)\n",
    "\n",
    "n_input2=n_output1\n",
    "n_output2=10\n",
    "W2 = theano.shared( np.random.randn(n_input2, n_output2).astype(theano.config.floatX) * 0.01)\n",
    "b2 = theano.shared( np.random.randn(n_output2).astype(theano.config.floatX) * 0.01 )\n",
    "\n",
    "\n",
    "X = T.matrix(\"X\")\n",
    "y = T.matrix(\"y\")\n",
    "\n",
    "if theano.config.compute_test_value == 'warn':\n",
    "    X.tag.test_value = np.random.rand( 5, 28*28 ).astype(theano.config.floatX)\n",
    "    y.tag.test_value = np.ones( (5, 10) ).astype(theano.config.floatX)\n",
    "\n",
    "py_x = conv_network(X, conv1_W, conv1_b, conv2_W, conv2_b, W1, b1, W2, b2, c, 0.5)\n",
    "py_x_test = conv_network(X, conv1_W, conv1_b, conv2_W, conv2_b, W1, b1, W2, b2, c, 0.0)\n",
    "\n",
    "y_pred = T.argmax(py_x_test, axis=1)\n",
    "\n",
    "#Compute gradients and training function\n",
    "my_cost = T.mean(T.nnet.categorical_crossentropy(py_x, y))\n",
    "\n",
    "\n",
    "params = [ conv1_W, conv1_b, conv2_W, conv2_b, W1,b1, W2, b2]\n",
    "gradient = T.grad(cost=my_cost, wrt=params)\n",
    "\n",
    "learning_rate = 0.1\n",
    "updates = []\n",
    "for param_i, grad_i in zip(params, gradient):\n",
    "    updates.append((param_i, param_i - learning_rate * grad_i))\n",
    "    \n",
    "profile = theano.compile.ProfileStats()\n",
    "train = theano.function(inputs=[X,y], outputs=my_cost, updates=updates)\n",
    "predict  = theano.function(inputs=[X], outputs=y_pred)\n",
    "\n",
    "#theano.printing.debugprint(train)"
   ]
  },
  {
   "cell_type": "code",
   "execution_count": 12,
   "metadata": {
    "collapsed": false,
    "slideshow": {
     "slide_type": "subslide"
    }
   },
   "outputs": [
    {
     "name": "stdout",
     "output_type": "stream",
     "text": [
      "Epoch 1 current cost 0.0878316313028\n",
      "Accuracy: 0.9655\n"
     ]
    }
   ],
   "source": [
    "#Training\n",
    "from IPython import display\n",
    "\n",
    "mbatch_size = 50\n",
    "n_epochs = 2\n",
    "n_batches_train=trainX.shape[0]/mbatch_size\n",
    "for epoch in range(n_epochs):\n",
    "    for i in range(n_batches_train):\n",
    "        start_idx = mbatch_size*i\n",
    "        end_idx = mbatch_size*(i+1)        \n",
    "        current_cost = train(trainX[start_idx:end_idx,:], trainY[start_idx:end_idx,:])\n",
    "\n",
    "    display.clear_output(wait=True)\n",
    "    print \"Epoch \" + str(epoch) + \" current cost \" + str(current_cost)\n",
    "    print \"Accuracy: \" + str(np.mean(np.argmax(testY, axis=1) == predict(testX)))\n"
   ]
  },
  {
   "cell_type": "code",
   "execution_count": 49,
   "metadata": {
    "collapsed": false,
    "slideshow": {
     "slide_type": "subslide"
    }
   },
   "outputs": [
    {
     "data": {
      "image/png": "[encoded data removed]",
      "text/plain": [
       "<matplotlib.figure.Figure at 0x7fb67a661b50>"
      ]
     },
     "metadata": {},
     "output_type": "display_data"
    }
   ],
   "source": [
    "a = conv1_W.get_value()\n",
    "\n",
    "plt.subplots(len(a), len(a[0]), figsize=(15,15))\n",
    "for n in range(len(a)):\n",
    "    for j in range(len(a[0])):\n",
    "        plt.subplot(len(a), len(a[0]), n*len(a[0])+j)\n",
    "        plt.axis('off'); \n",
    "        plt.imshow(a[n][j],cmap=plt.gray())\n"
   ]
  },
  {
   "cell_type": "markdown",
   "metadata": {
    "slideshow": {
     "slide_type": "slide"
    }
   },
   "source": [
    "### Profiling"
   ]
  },
  {
   "cell_type": "code",
   "execution_count": 10,
   "metadata": {
    "collapsed": false,
    "slideshow": {
     "slide_type": "subslide"
    }
   },
   "outputs": [
    {
     "ename": "TypeError",
     "evalue": "Missing required input: X",
     "output_type": "error",
     "traceback": [
      "\u001b[1;31m---------------------------------------------------------------------------\u001b[0m",
      "\u001b[1;31mTypeError\u001b[0m                                 Traceback (most recent call last)",
      "\u001b[1;32m<ipython-input-10-5450fab5dbf8>\u001b[0m in \u001b[0;36m<module>\u001b[1;34m()\u001b[0m\n\u001b[0;32m      4\u001b[0m \u001b[0mtrain\u001b[0m \u001b[1;33m=\u001b[0m \u001b[0mtheano\u001b[0m\u001b[1;33m.\u001b[0m\u001b[0mfunction\u001b[0m\u001b[1;33m(\u001b[0m\u001b[0minputs\u001b[0m\u001b[1;33m=\u001b[0m\u001b[1;33m[\u001b[0m\u001b[0mX\u001b[0m\u001b[1;33m,\u001b[0m\u001b[0my\u001b[0m\u001b[1;33m]\u001b[0m\u001b[1;33m,\u001b[0m \u001b[0moutputs\u001b[0m\u001b[1;33m=\u001b[0m\u001b[0mmy_cost\u001b[0m\u001b[1;33m,\u001b[0m \u001b[0mupdates\u001b[0m\u001b[1;33m=\u001b[0m\u001b[0mupdates\u001b[0m\u001b[1;33m,\u001b[0m \u001b[0mmode\u001b[0m\u001b[1;33m=\u001b[0m\u001b[1;34m'FAST_RUN'\u001b[0m\u001b[1;33m,\u001b[0m \u001b[0mprofile\u001b[0m\u001b[1;33m=\u001b[0m\u001b[0mprofile\u001b[0m\u001b[1;33m)\u001b[0m\u001b[1;33m\u001b[0m\u001b[0m\n\u001b[0;32m      5\u001b[0m \u001b[1;33m\u001b[0m\u001b[0m\n\u001b[1;32m----> 6\u001b[1;33m \u001b[0mtrain\u001b[0m\u001b[1;33m(\u001b[0m\u001b[1;33m)\u001b[0m\u001b[1;33m\u001b[0m\u001b[0m\n\u001b[0m\u001b[0;32m      7\u001b[0m \u001b[0mprofile\u001b[0m\u001b[1;33m.\u001b[0m\u001b[0msummary\u001b[0m\u001b[1;33m(\u001b[0m\u001b[1;33m)\u001b[0m\u001b[1;33m\u001b[0m\u001b[0m\n",
      "\u001b[1;32m/usr/local/lib/python2.7/dist-packages/theano/compile/function_module.pyc\u001b[0m in \u001b[0;36m__call__\u001b[1;34m(self, *args, **kwargs)\u001b[0m\n\u001b[0;32m    843\u001b[0m                     raise TypeError(\"Missing required input: %s\" %\n\u001b[0;32m    844\u001b[0m                                     getattr(self.inv_finder[c], 'variable',\n\u001b[1;32m--> 845\u001b[1;33m                                             self.inv_finder[c]))\n\u001b[0m\u001b[0;32m    846\u001b[0m                 \u001b[1;32mif\u001b[0m \u001b[0mc\u001b[0m\u001b[1;33m.\u001b[0m\u001b[0mprovided\u001b[0m \u001b[1;33m>\u001b[0m \u001b[1;36m1\u001b[0m\u001b[1;33m:\u001b[0m\u001b[1;33m\u001b[0m\u001b[0m\n\u001b[0;32m    847\u001b[0m                     raise TypeError(\"Multiple values for input: %s\" %\n",
      "\u001b[1;31mTypeError\u001b[0m: Missing required input: X"
     ]
    }
   ],
   "source": [
    "import os\n",
    "os.environ['CUDA_LAUNCH_BLOCKING'] = '1'\n",
    "theano.config.profile=True\n",
    "train = theano.function(inputs=[X,y], outputs=my_cost, updates=updates, mode='FAST_RUN', profile=profile)\n",
    "\n",
    "train()\n",
    "profile.summary()"
   ]
  }
 ],
 "metadata": {
  "celltoolbar": "Slideshow",
  "kernelspec": {
   "display_name": "Python 2",
   "language": "python",
   "name": "python2"
  },
  "language_info": {
   "codemirror_mode": {
    "name": "ipython",
    "version": 2
   },
   "file_extension": ".py",
   "mimetype": "text/x-python",
   "name": "python",
   "nbconvert_exporter": "python",
   "pygments_lexer": "ipython2",
   "version": "2.7.6"
  }
 },
 "nbformat": 4,
 "nbformat_minor": 0
}
